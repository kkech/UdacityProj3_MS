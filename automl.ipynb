{
  "cells": [
    {
      "cell_type": "markdown",
      "source": [
        "# Automated ML\n",
        "\n",
        "TODO: Import Dependencies. In the cell below, import all the dependencies that you will need to complete the project."
      ],
      "metadata": {}
    },
    {
      "cell_type": "code",
      "source": [
        "import azureml.core\n",
        "from azureml.core.experiment import Experiment\n",
        "from azureml.core.workspace import Workspace\n",
        "from azureml.train.automl import AutoMLConfig\n",
        "from azureml.core.dataset import Dataset\n",
        "from azureml.core.webservice import Webservice\n",
        "from azureml.core.webservice import AciWebservice\n",
        "from azureml.core.model import InferenceConfig\n",
        "from azureml.core.model import Model\n",
        "\n",
        "# Check core SDK version number\n",
        "print(\"SDK version:\", azureml.core.VERSION)"
      ],
      "outputs": [
        {
          "output_type": "stream",
          "name": "stdout",
          "text": [
            "SDK version: 1.26.0\n"
          ]
        }
      ],
      "execution_count": 1,
      "metadata": {
        "gather": {
          "logged": 1618862651521
        },
        "jupyter": {
          "outputs_hidden": false,
          "source_hidden": false
        },
        "nteract": {
          "transient": {
            "deleting": false
          }
        }
      }
    },
    {
      "cell_type": "markdown",
      "source": [
        "## Dataset\n",
        "\n",
        "### Overview\n",
        "TODO: In this markdown cell, give an overview of the dataset you are using. Also mention the task you will be performing.\n",
        "\n",
        "\n",
        "TODO: Get data. In the cell below, write code to access the data you will be using in this project. Remember that the dataset needs to be external."
      ],
      "metadata": {}
    },
    {
      "cell_type": "code",
      "source": [
        "ws = Workspace.from_config()\n",
        "ws.write_config(path='.azureml')\n",
        "# Name of the experiment\n",
        "experiment_name = 'automl'\n",
        "experiment=Experiment(ws, experiment_name)\n",
        "\n",
        "# Get the data of Kaggle Titanic Dataset\n",
        "key = \"titanic-dataset\"\n",
        "found = False\n",
        "\n",
        "if key in ws.datasets.keys(): \n",
        "    found = True\n",
        "    dataset = ws.datasets[key] \n",
        "\n",
        "if not found:\n",
        "    # Create AML Dataset and register it into Workspace\n",
        "    titanicData = 'https://raw.githubusercontent.com/kkech/UdacityProj3_MS/master/train.csv'\n",
        "    dataset = Dataset.Tabular.from_delimited_files(titanicData)\n",
        "    #Register Dataset in Workspace\n",
        "    dataset = dataset.register(workspace=ws,\n",
        "                               name=key)\n",
        "\n",
        "\n",
        "df = dataset.to_pandas_dataframe()\n",
        "df.describe()"
      ],
      "outputs": [
        {
          "output_type": "execute_result",
          "execution_count": 2,
          "data": {
            "text/plain": "       PassengerId    Survived      Pclass         Age       SibSp  \\\ncount   891.000000  891.000000  891.000000  714.000000  891.000000   \nmean    446.000000    0.383838    2.308642   29.699118    0.523008   \nstd     257.353842    0.486592    0.836071   14.526497    1.102743   \nmin       1.000000    0.000000    1.000000    0.420000    0.000000   \n25%     223.500000    0.000000    2.000000   20.125000    0.000000   \n50%     446.000000    0.000000    3.000000   28.000000    0.000000   \n75%     668.500000    1.000000    3.000000   38.000000    1.000000   \nmax     891.000000    1.000000    3.000000   80.000000    8.000000   \n\n            Parch        Fare  \ncount  891.000000  891.000000  \nmean     0.381594   32.204208  \nstd      0.806057   49.693429  \nmin      0.000000    0.000000  \n25%      0.000000    7.910400  \n50%      0.000000   14.454200  \n75%      0.000000   31.000000  \nmax      6.000000  512.329200  ",
            "text/html": "<div>\n<style scoped>\n    .dataframe tbody tr th:only-of-type {\n        vertical-align: middle;\n    }\n\n    .dataframe tbody tr th {\n        vertical-align: top;\n    }\n\n    .dataframe thead th {\n        text-align: right;\n    }\n</style>\n<table border=\"1\" class=\"dataframe\">\n  <thead>\n    <tr style=\"text-align: right;\">\n      <th></th>\n      <th>PassengerId</th>\n      <th>Survived</th>\n      <th>Pclass</th>\n      <th>Age</th>\n      <th>SibSp</th>\n      <th>Parch</th>\n      <th>Fare</th>\n    </tr>\n  </thead>\n  <tbody>\n    <tr>\n      <th>count</th>\n      <td>891.000000</td>\n      <td>891.000000</td>\n      <td>891.000000</td>\n      <td>714.000000</td>\n      <td>891.000000</td>\n      <td>891.000000</td>\n      <td>891.000000</td>\n    </tr>\n    <tr>\n      <th>mean</th>\n      <td>446.000000</td>\n      <td>0.383838</td>\n      <td>2.308642</td>\n      <td>29.699118</td>\n      <td>0.523008</td>\n      <td>0.381594</td>\n      <td>32.204208</td>\n    </tr>\n    <tr>\n      <th>std</th>\n      <td>257.353842</td>\n      <td>0.486592</td>\n      <td>0.836071</td>\n      <td>14.526497</td>\n      <td>1.102743</td>\n      <td>0.806057</td>\n      <td>49.693429</td>\n    </tr>\n    <tr>\n      <th>min</th>\n      <td>1.000000</td>\n      <td>0.000000</td>\n      <td>1.000000</td>\n      <td>0.420000</td>\n      <td>0.000000</td>\n      <td>0.000000</td>\n      <td>0.000000</td>\n    </tr>\n    <tr>\n      <th>25%</th>\n      <td>223.500000</td>\n      <td>0.000000</td>\n      <td>2.000000</td>\n      <td>20.125000</td>\n      <td>0.000000</td>\n      <td>0.000000</td>\n      <td>7.910400</td>\n    </tr>\n    <tr>\n      <th>50%</th>\n      <td>446.000000</td>\n      <td>0.000000</td>\n      <td>3.000000</td>\n      <td>28.000000</td>\n      <td>0.000000</td>\n      <td>0.000000</td>\n      <td>14.454200</td>\n    </tr>\n    <tr>\n      <th>75%</th>\n      <td>668.500000</td>\n      <td>1.000000</td>\n      <td>3.000000</td>\n      <td>38.000000</td>\n      <td>1.000000</td>\n      <td>0.000000</td>\n      <td>31.000000</td>\n    </tr>\n    <tr>\n      <th>max</th>\n      <td>891.000000</td>\n      <td>1.000000</td>\n      <td>3.000000</td>\n      <td>80.000000</td>\n      <td>8.000000</td>\n      <td>6.000000</td>\n      <td>512.329200</td>\n    </tr>\n  </tbody>\n</table>\n</div>"
          },
          "metadata": {}
        }
      ],
      "execution_count": 2,
      "metadata": {
        "gather": {
          "logged": 1618862657610
        },
        "jupyter": {
          "outputs_hidden": false,
          "source_hidden": false
        },
        "nteract": {
          "transient": {
            "deleting": false
          }
        }
      }
    },
    {
      "cell_type": "code",
      "source": [
        "## AnlCompute Cluster"
      ],
      "outputs": [],
      "execution_count": null,
      "metadata": {}
    },
    {
      "cell_type": "code",
      "source": [
        "from azureml.core.compute import AmlCompute\n",
        "from azureml.core.compute import ComputeTarget\n",
        "from azureml.core.compute_target import ComputeTargetException\n",
        "\n",
        "# NOTE: update the cluster name to match the existing cluster\n",
        "# Choose a name for your CPU cluster\n",
        "compute_cluster_name = \"titaniclusters\"\n",
        "\n",
        "# Verify that cluster does not exist already\n",
        "try:\n",
        "    compute_target = ComputeTarget(workspace=ws, name=compute_cluster_name)\n",
        "    print('Found existing cluster, use it.')\n",
        "except ComputeTargetException:\n",
        "    compute_config = AmlCompute.provisioning_configuration(vm_size='STANDARD_DS12_V2',\n",
        "                                                           max_nodes=10)\n",
        "    compute_target = ComputeTarget.create(ws, compute_cluster_name, compute_config)\n",
        "\n",
        "compute_target.wait_for_completion(show_output=True)\n"
      ],
      "outputs": [
        {
          "output_type": "stream",
          "name": "stdout",
          "text": [
            "Creating...\n",
            "SucceededProvisioning operation finished, operation \"Succeeded\"\n",
            "Succeeded\n",
            "AmlCompute wait for completion finished\n",
            "\n",
            "Minimum number of nodes requested have been provisioned\n"
          ]
        }
      ],
      "execution_count": 8,
      "metadata": {
        "gather": {
          "logged": 1618862949378
        }
      }
    },
    {
      "cell_type": "markdown",
      "source": [
        "## AutoML Configuration\n",
        "\n",
        "TODO: Explain why you chose the automl settings and cofiguration you used below."
      ],
      "metadata": {}
    },
    {
      "cell_type": "code",
      "source": [
        "# TODO: Put your automl settings here\n",
        "automl_settings = {\n",
        "                    \"max_concurrent_iterations\": 9,\n",
        "                    \"primary_metric\" : 'accuracy'\n",
        "}\n",
        "project_folder = './capstone-project'\n",
        "\n",
        "# TODO: Put your automl config here\n",
        "automl_config = AutoMLConfig(compute_target=compute_target,\n",
        "                             task = \"classification\",\n",
        "                             experiment_timeout_minutes = 20,\n",
        "                             training_data=dataset,\n",
        "                             label_column_name=\"Survived\",   \n",
        "                             path = project_folder,\n",
        "                             enable_early_stopping= True,\n",
        "                             featurization= 'auto',\n",
        "                             debug_log = \"automl_errors.log\",\n",
        "                             **automl_settings)"
      ],
      "outputs": [],
      "execution_count": 10,
      "metadata": {
        "gather": {
          "logged": 1618862972434
        },
        "jupyter": {
          "outputs_hidden": false,
          "source_hidden": false
        },
        "nteract": {
          "transient": {
            "deleting": false
          }
        }
      }
    },
    {
      "cell_type": "code",
      "source": [
        "remote_run = experiment.submit(automl_config, show_output=True)"
      ],
      "outputs": [
        {
          "output_type": "stream",
          "name": "stdout",
          "text": [
            "Submitting remote run.\n",
            "No run_configuration provided, running on titaniclusters with default configuration\n",
            "Running on remote compute: titaniclusters\n"
          ]
        },
        {
          "output_type": "display_data",
          "data": {
            "text/plain": "<IPython.core.display.HTML object>",
            "text/html": "<table style=\"width:100%\"><tr><th>Experiment</th><th>Id</th><th>Type</th><th>Status</th><th>Details Page</th><th>Docs Page</th></tr><tr><td>automl</td><td>AutoML_2e98f987-8c25-4dd3-a149-4ea7f8c9b5c1</td><td>automl</td><td>NotStarted</td><td><a href=\"https://ml.azure.com/runs/AutoML_2e98f987-8c25-4dd3-a149-4ea7f8c9b5c1?wsid=/subscriptions/510b94ba-e453-4417-988b-fbdc37b55ca7/resourcegroups/aml-quickstarts-143180/workspaces/quick-starts-ws-143180&amp;tid=660b3398-b80e-49d2-bc5b-ac1dc93b5254\" target=\"_blank\" rel=\"noopener\">Link to Azure Machine Learning studio</a></td><td><a href=\"https://docs.microsoft.com/en-us/python/api/overview/azure/ml/intro?view=azure-ml-py\" target=\"_blank\" rel=\"noopener\">Link to Documentation</a></td></tr></table>"
          },
          "metadata": {}
        },
        {
          "output_type": "stream",
          "name": "stdout",
          "text": [
            "\n",
            "Current status: FeaturesGeneration. Generating features for the dataset.\n",
            "Current status: DatasetCrossValidationSplit. Generating individually featurized CV splits.\n",
            "Current status: ModelSelection. Beginning model selection.\n",
            "\n",
            "****************************************************************************************************\n",
            "DATA GUARDRAILS: \n",
            "\n",
            "TYPE:         Cross validation\n",
            "STATUS:       DONE\n",
            "DESCRIPTION:  Each iteration of the trained model was validated through cross-validation.\n",
            "              \n",
            "DETAILS:      \n",
            "+---------------------------------+\n",
            "|Number of folds                  |\n",
            "+=================================+\n",
            "|10                               |\n",
            "+---------------------------------+\n",
            "\n",
            "****************************************************************************************************\n",
            "\n",
            "TYPE:         Class balancing detection\n",
            "STATUS:       PASSED\n",
            "DESCRIPTION:  Your inputs were analyzed, and all classes are balanced in your training data.\n",
            "              Learn more about imbalanced data: https://aka.ms/AutomatedMLImbalancedData\n",
            "\n",
            "****************************************************************************************************\n",
            "\n",
            "TYPE:         Missing feature values imputation\n",
            "STATUS:       DONE\n",
            "DESCRIPTION:  If the missing values are expected, let the run complete. Otherwise cancel the current run and use a script to customize the handling of missing feature values that may be more appropriate based on the data type and business requirement.\n",
            "              Learn more about missing value imputation: https://aka.ms/AutomatedMLFeaturization\n",
            "DETAILS:      \n",
            "+---------------------------------+---------------------------------+---------------------------------+\n",
            "|Column name                      |Missing value count              |Imputation type                  |\n",
            "+=================================+=================================+=================================+\n",
            "|Age                              |177                              |mean                             |\n",
            "|Embarked                         |2                                |                                 |\n",
            "+---------------------------------+---------------------------------+---------------------------------+\n",
            "\n",
            "****************************************************************************************************\n",
            "\n",
            "TYPE:         High cardinality feature detection\n",
            "STATUS:       DONE\n",
            "DESCRIPTION:  High cardinality features were detected in your inputs and handled.\n",
            "              Learn more about high cardinality feature handling: https://aka.ms/AutomatedMLFeaturization\n",
            "DETAILS:      High cardinality features refer to columns that contain a large percentage of unique values.\n",
            "+---------------------------------+---------------------------------+\n",
            "|Column name                      |Column Content Type              |\n",
            "+=================================+=================================+\n",
            "|Name                             |text                             |\n",
            "+---------------------------------+---------------------------------+\n",
            "\n",
            "****************************************************************************************************\n",
            "\n",
            "****************************************************************************************************\n",
            "ITERATION: The iteration being evaluated.\n",
            "PIPELINE: A summary description of the pipeline being evaluated.\n",
            "DURATION: Time taken for the current iteration.\n",
            "METRIC: The result of computing score on the fitted pipeline.\n",
            "BEST: The best observed score thus far.\n",
            "****************************************************************************************************\n",
            "\n",
            " ITERATION   PIPELINE                                       DURATION      METRIC      BEST\n",
            "         0   MaxAbsScaler LightGBM                          0:00:52       0.8160    0.8160\n",
            "         7   MaxAbsScaler LightGBM                          0:00:56       0.7912    0.8160\n",
            "         4   MaxAbsScaler RandomForest                      0:01:33       0.6925    0.8160\n",
            "         1   MaxAbsScaler XGBoostClassifier                 0:01:47       0.8103    0.8160\n",
            "         5   MaxAbsScaler RandomForest                      0:00:52       0.7800    0.8160\n",
            "         2   MaxAbsScaler RandomForest                      0:00:44       0.7867    0.8160\n",
            "         3   MaxAbsScaler RandomForest                      0:00:48       0.6419    0.8160\n",
            "         8   StandardScalerWrapper LogisticRegression       0:00:52       0.7755    0.8160\n",
            "         9   SparseNormalizer XGBoostClassifier             0:00:59       0.8092    0.8160\n",
            "        15   MaxAbsScaler RandomForest                      0:01:10       0.7822    0.8160\n",
            "        16   SparseNormalizer LightGBM                      0:00:45       0.7968    0.8160\n",
            "        10   StandardScalerWrapper LogisticRegression       0:01:34       0.7733    0.8160\n",
            "        12   StandardScalerWrapper LightGBM                 0:01:42       0.8238    0.8238\n",
            "        13   SparseNormalizer XGBoostClassifier             0:02:01       0.8081    0.8238\n",
            "        17   MaxAbsScaler LightGBM                          0:00:45       0.8080    0.8238\n",
            "         6   StandardScalerWrapper XGBoostClassifier        0:01:55       0.8058    0.8238\n",
            "        11   MaxAbsScaler LightGBM                          0:02:04       0.8103    0.8238\n",
            "        18   StandardScalerWrapper RandomForest             0:00:47       0.8137    0.8238\n",
            "        19   MaxAbsScaler LightGBM                          0:00:43       0.8013    0.8238\n",
            "        14   StandardScalerWrapper LogisticRegression       0:02:35       0.7924    0.8238\n",
            "        21   StandardScalerWrapper ExtremeRandomTrees       0:00:48       0.8170    0.8238\n",
            "        22   StandardScalerWrapper LightGBM                 0:00:49       0.7990    0.8238\n",
            "        20   MaxAbsScaler RandomForest                      0:01:25       0.7879    0.8238\n",
            "        23   MaxAbsScaler LightGBM                          0:00:56       0.8069    0.8238\n",
            "        24   SparseNormalizer XGBoostClassifier             0:01:00       0.7935    0.8238\n",
            "        25   TruncatedSVDWrapper XGBoostClassifier          0:00:58       0.7923    0.8238\n",
            "        26   MaxAbsScaler LightGBM                          0:00:49       0.8125    0.8238\n",
            "        27   StandardScalerWrapper XGBoostClassifier        0:00:48       0.8092    0.8238\n",
            "        28   SparseNormalizer XGBoostClassifier             0:00:50       0.7957    0.8238\n",
            "        29   MaxAbsScaler LightGBM                          0:00:48       0.7923    0.8238\n",
            "        32   SparseNormalizer XGBoostClassifier             0:00:45       0.8103    0.8238\n",
            "        33   MaxAbsScaler LightGBM                          0:00:46       0.8092    0.8238\n",
            "        34   TruncatedSVDWrapper XGBoostClassifier          0:01:07       0.8125    0.8238\n",
            "        35   TruncatedSVDWrapper LightGBM                   0:00:55       0.8080    0.8238\n",
            "        31   SparseNormalizer XGBoostClassifier             0:01:21       0.8047    0.8238\n",
            "        36   MaxAbsScaler ExtremeRandomTrees                0:01:04       0.7946    0.8238\n",
            "        37   MaxAbsScaler ExtremeRandomTrees                0:00:51       0.7901    0.8238\n",
            "        30   MaxAbsScaler LightGBM                          0:01:52       0.8047    0.8238\n",
            "        38   SparseNormalizer ExtremeRandomTrees            0:00:56       0.7924    0.8238\n",
            "        39   StandardScalerWrapper ExtremeRandomTrees       0:00:47       0.7823    0.8238\n",
            "        40   MaxAbsScaler LightGBM                          0:00:37       0.7823    0.8238\n",
            "        41   StandardScalerWrapper RandomForest             0:00:27          nan    0.8238\n",
            "        42   MaxAbsScaler RandomForest                      0:00:24          nan    0.8238\n",
            "        43                                                  0:00:18          nan    0.8238\n",
            "        44                                                  0:00:14          nan    0.8238\n",
            "        45                                                  0:00:13          nan    0.8238\n",
            "        46    VotingEnsemble                                0:01:36       0.8350    0.8350\n",
            "        47    StackEnsemble                                 0:01:44       0.8272    0.8350\n"
          ]
        }
      ],
      "execution_count": 11,
      "metadata": {
        "gather": {
          "logged": 1618864124205
        },
        "jupyter": {
          "outputs_hidden": false,
          "source_hidden": false
        },
        "nteract": {
          "transient": {
            "deleting": false
          }
        }
      }
    },
    {
      "cell_type": "markdown",
      "source": [
        "## Run Details\n",
        "\n",
        "OPTIONAL: Write about the different models trained and their performance. Why do you think some models did better than others?\n",
        "\n",
        "TODO: In the cell below, use the `RunDetails` widget to show the different experiments."
      ],
      "metadata": {}
    },
    {
      "cell_type": "code",
      "source": [
        "from azureml.widgets import RunDetails\n",
        "RunDetails(remote_run).show()\n",
        "remote_run.wait_for_completion(show_output=True)"
      ],
      "outputs": [
        {
          "output_type": "display_data",
          "data": {
            "text/plain": "_AutoMLWidget(widget_settings={'childWidgetDisplay': 'popup', 'send_telemetry': False, 'log_level': 'INFO', 's…",
            "application/vnd.jupyter.widget-view+json": {
              "version_major": 2,
              "version_minor": 0,
              "model_id": "e9d80a0122ce47c398599435ef043df3"
            }
          },
          "metadata": {}
        },
        {
          "output_type": "display_data",
          "data": {
            "application/aml.mini.widget.v1": "{\"status\": \"Completed\", \"workbench_run_details_uri\": \"https://ml.azure.com/runs/AutoML_2e98f987-8c25-4dd3-a149-4ea7f8c9b5c1?wsid=/subscriptions/510b94ba-e453-4417-988b-fbdc37b55ca7/resourcegroups/aml-quickstarts-143180/workspaces/quick-starts-ws-143180&tid=660b3398-b80e-49d2-bc5b-ac1dc93b5254\", \"run_id\": \"AutoML_2e98f987-8c25-4dd3-a149-4ea7f8c9b5c1\", \"run_properties\": {\"run_id\": \"AutoML_2e98f987-8c25-4dd3-a149-4ea7f8c9b5c1\", \"created_utc\": \"2021-04-19T20:09:40.144771Z\", \"properties\": {\"num_iterations\": \"1000\", \"training_type\": \"TrainFull\", \"acquisition_function\": \"EI\", \"primary_metric\": \"accuracy\", \"train_split\": \"0\", \"acquisition_parameter\": \"0\", \"num_cross_validation\": null, \"target\": \"titaniclusters\", \"AMLSettingsJsonString\": \"{\\\"path\\\":null,\\\"name\\\":\\\"automl\\\",\\\"subscription_id\\\":\\\"510b94ba-e453-4417-988b-fbdc37b55ca7\\\",\\\"resource_group\\\":\\\"aml-quickstarts-143180\\\",\\\"workspace_name\\\":\\\"quick-starts-ws-143180\\\",\\\"region\\\":\\\"southcentralus\\\",\\\"compute_target\\\":\\\"titaniclusters\\\",\\\"spark_service\\\":null,\\\"azure_service\\\":\\\"remote\\\",\\\"many_models\\\":false,\\\"pipeline_fetch_max_batch_size\\\":1,\\\"enable_batch_run\\\":false,\\\"enable_run_restructure\\\":false,\\\"iterations\\\":1000,\\\"primary_metric\\\":\\\"accuracy\\\",\\\"task_type\\\":\\\"classification\\\",\\\"data_script\\\":null,\\\"test_size\\\":0.0,\\\"validation_size\\\":0.0,\\\"n_cross_validations\\\":null,\\\"y_min\\\":null,\\\"y_max\\\":null,\\\"num_classes\\\":null,\\\"featurization\\\":\\\"auto\\\",\\\"_ignore_package_version_incompatibilities\\\":false,\\\"is_timeseries\\\":false,\\\"max_cores_per_iteration\\\":1,\\\"max_concurrent_iterations\\\":9,\\\"iteration_timeout_minutes\\\":null,\\\"mem_in_mb\\\":null,\\\"enforce_time_on_windows\\\":false,\\\"experiment_timeout_minutes\\\":20,\\\"experiment_exit_score\\\":null,\\\"whitelist_models\\\":null,\\\"blacklist_algos\\\":[\\\"TensorFlowLinearClassifier\\\",\\\"TensorFlowDNN\\\"],\\\"supported_models\\\":[\\\"LogisticRegression\\\",\\\"TensorFlowDNN\\\",\\\"LinearSVM\\\",\\\"XGBoostClassifier\\\",\\\"GradientBoosting\\\",\\\"BernoulliNaiveBayes\\\",\\\"TensorFlowLinearClassifier\\\",\\\"LightGBM\\\",\\\"SVM\\\",\\\"ExtremeRandomTrees\\\",\\\"DecisionTree\\\",\\\"AveragedPerceptronClassifier\\\",\\\"SGD\\\",\\\"KNN\\\",\\\"RandomForest\\\",\\\"MultinomialNaiveBayes\\\"],\\\"private_models\\\":[],\\\"auto_blacklist\\\":true,\\\"blacklist_samples_reached\\\":false,\\\"exclude_nan_labels\\\":true,\\\"verbosity\\\":20,\\\"_debug_log\\\":\\\"azureml_automl.log\\\",\\\"show_warnings\\\":false,\\\"model_explainability\\\":true,\\\"service_url\\\":null,\\\"sdk_url\\\":null,\\\"sdk_packages\\\":null,\\\"enable_onnx_compatible_models\\\":false,\\\"enable_split_onnx_featurizer_estimator_models\\\":false,\\\"vm_type\\\":\\\"STANDARD_DS12_V2\\\",\\\"telemetry_verbosity\\\":20,\\\"send_telemetry\\\":true,\\\"enable_dnn\\\":false,\\\"scenario\\\":\\\"SDK-1.13.0\\\",\\\"environment_label\\\":null,\\\"save_mlflow\\\":false,\\\"force_text_dnn\\\":false,\\\"enable_feature_sweeping\\\":true,\\\"enable_early_stopping\\\":true,\\\"early_stopping_n_iters\\\":10,\\\"metrics\\\":null,\\\"enable_metric_confidence\\\":false,\\\"enable_ensembling\\\":true,\\\"enable_stack_ensembling\\\":true,\\\"ensemble_iterations\\\":15,\\\"enable_tf\\\":false,\\\"enable_subsampling\\\":null,\\\"subsample_seed\\\":null,\\\"enable_nimbusml\\\":false,\\\"enable_streaming\\\":false,\\\"force_streaming\\\":false,\\\"track_child_runs\\\":true,\\\"allowed_private_models\\\":[],\\\"label_column_name\\\":\\\"Survived\\\",\\\"weight_column_name\\\":null,\\\"cv_split_column_names\\\":null,\\\"enable_local_managed\\\":false,\\\"_local_managed_run_id\\\":null,\\\"cost_mode\\\":1,\\\"lag_length\\\":0,\\\"metric_operation\\\":\\\"maximize\\\",\\\"preprocess\\\":true}\", \"DataPrepJsonString\": \"{\\\\\\\"training_data\\\\\\\": {\\\\\\\"datasetId\\\\\\\": \\\\\\\"50daaf4b-d1fd-4a12-b662-c5367e89c578\\\\\\\"}, \\\\\\\"datasets\\\\\\\": 0}\", \"EnableSubsampling\": null, \"runTemplate\": \"AutoML\", \"azureml.runsource\": \"automl\", \"display_task_type\": \"classification\", \"dependencies_versions\": \"{\\\"azureml-widgets\\\": \\\"1.26.0\\\", \\\"azureml-train\\\": \\\"1.26.0\\\", \\\"azureml-train-restclients-hyperdrive\\\": \\\"1.26.0\\\", \\\"azureml-train-core\\\": \\\"1.26.0\\\", \\\"azureml-train-automl\\\": \\\"1.26.0\\\", \\\"azureml-train-automl-runtime\\\": \\\"1.26.0\\\", \\\"azureml-train-automl-client\\\": \\\"1.26.0\\\", \\\"azureml-tensorboard\\\": \\\"1.26.0\\\", \\\"azureml-telemetry\\\": \\\"1.26.0\\\", \\\"azureml-sdk\\\": \\\"1.26.0\\\", \\\"azureml-samples\\\": \\\"0+unknown\\\", \\\"azureml-pipeline\\\": \\\"1.26.0\\\", \\\"azureml-pipeline-steps\\\": \\\"1.26.0\\\", \\\"azureml-pipeline-core\\\": \\\"1.26.0\\\", \\\"azureml-opendatasets\\\": \\\"1.26.0\\\", \\\"azureml-model-management-sdk\\\": \\\"1.0.1b6.post1\\\", \\\"azureml-mlflow\\\": \\\"1.26.0\\\", \\\"azureml-interpret\\\": \\\"1.26.0\\\", \\\"azureml-explain-model\\\": \\\"1.26.0\\\", \\\"azureml-defaults\\\": \\\"1.26.0\\\", \\\"azureml-dataset-runtime\\\": \\\"1.26.0\\\", \\\"azureml-dataprep\\\": \\\"2.13.2\\\", \\\"azureml-dataprep-rslex\\\": \\\"1.11.2\\\", \\\"azureml-dataprep-native\\\": \\\"32.0.0\\\", \\\"azureml-datadrift\\\": \\\"1.26.0\\\", \\\"azureml-core\\\": \\\"1.26.0\\\", \\\"azureml-contrib-services\\\": \\\"1.26.0\\\", \\\"azureml-contrib-server\\\": \\\"1.26.0\\\", \\\"azureml-contrib-reinforcementlearning\\\": \\\"1.26.0\\\", \\\"azureml-contrib-pipeline-steps\\\": \\\"1.26.0\\\", \\\"azureml-contrib-notebook\\\": \\\"1.26.0\\\", \\\"azureml-contrib-gbdt\\\": \\\"1.26.0\\\", \\\"azureml-contrib-fairness\\\": \\\"1.26.0\\\", \\\"azureml-contrib-dataset\\\": \\\"1.26.0\\\", \\\"azureml-cli-common\\\": \\\"1.26.0\\\", \\\"azureml-automl-runtime\\\": \\\"1.26.0\\\", \\\"azureml-automl-dnn-nlp\\\": \\\"1.26.0\\\", \\\"azureml-automl-core\\\": \\\"1.26.0\\\", \\\"azureml-accel-models\\\": \\\"1.26.0\\\"}\", \"_aml_system_scenario_identification\": \"Remote.Parent\", \"ClientType\": \"SDK\", \"environment_cpu_name\": \"AzureML-AutoML\", \"environment_cpu_label\": \"prod\", \"environment_gpu_name\": \"AzureML-AutoML-GPU\", \"environment_gpu_label\": \"prod\", \"root_attribution\": \"automl\", \"attribution\": \"AutoML\", \"Orchestrator\": \"AutoML\", \"CancelUri\": \"https://southcentralus.experiments.azureml.net/jasmine/v1.0/subscriptions/510b94ba-e453-4417-988b-fbdc37b55ca7/resourceGroups/aml-quickstarts-143180/providers/Microsoft.MachineLearningServices/workspaces/quick-starts-ws-143180/experimentids/cead3ee6-9242-4e6c-951e-ff3b2a1bf061/cancel/AutoML_2e98f987-8c25-4dd3-a149-4ea7f8c9b5c1\", \"ClientSdkVersion\": \"1.26.0\", \"snapshotId\": \"00000000-0000-0000-0000-000000000000\", \"SetupRunId\": \"AutoML_2e98f987-8c25-4dd3-a149-4ea7f8c9b5c1_setup\", \"SetupRunContainerId\": \"dcid.AutoML_2e98f987-8c25-4dd3-a149-4ea7f8c9b5c1_setup\", \"FeaturizationRunJsonPath\": \"featurizer_container.json\", \"FeaturizationRunId\": \"AutoML_2e98f987-8c25-4dd3-a149-4ea7f8c9b5c1_featurize\", \"ProblemInfoJsonString\": \"{\\\"dataset_num_categorical\\\": 0, \\\"is_sparse\\\": true, \\\"subsampling\\\": false, \\\"dataset_classes\\\": 2, \\\"dataset_features\\\": 6974, \\\"dataset_samples\\\": 891, \\\"single_frequency_class_detected\\\": false}\", \"ModelExplainRunId\": \"AutoML_2e98f987-8c25-4dd3-a149-4ea7f8c9b5c1_ModelExplain\"}, \"tags\": {\"model_explain_run\": \"best_run\", \"_aml_system_azureml.automlComponent\": \"AutoML\", \"pipeline_id\": \"\", \"score\": \"\", \"predicted_cost\": \"\", \"fit_time\": \"\", \"training_percent\": \"\", \"iteration\": \"\", \"run_preprocessor\": \"\", \"run_algorithm\": \"\", \"dynamic_whitelisting_iterations\": \"<23>;<30>;<35>;<40>;<44>;\", \"automl_best_child_run_id\": \"AutoML_2e98f987-8c25-4dd3-a149-4ea7f8c9b5c1_46\", \"model_explain_best_run_child_id\": \"AutoML_2e98f987-8c25-4dd3-a149-4ea7f8c9b5c1_46\"}, \"end_time_utc\": \"2021-04-19T20:28:29.921733Z\", \"status\": \"Completed\", \"log_files\": {}, \"log_groups\": [], \"run_duration\": \"0:18:49\", \"run_number\": \"1\", \"run_queued_details\": {\"status\": \"Completed\", \"details\": null}}, \"child_runs\": [{\"run_id\": \"AutoML_2e98f987-8c25-4dd3-a149-4ea7f8c9b5c1_0\", \"run_number\": 5, \"metric\": null, \"status\": \"Completed\", \"run_type\": \"azureml.scriptrun\", \"training_percent\": \"100\", \"start_time\": \"2021-04-19T20:17:03.061309Z\", \"end_time\": \"2021-04-19T20:17:55.468143Z\", \"created_time\": \"2021-04-19T20:16:49.360841Z\", \"created_time_dt\": \"2021-04-19T20:16:49.360841Z\", \"duration\": \"0:01:06\", \"iteration\": \"0\", \"goal\": \"accuracy_max\", \"run_name\": \"MaxAbsScaler, LightGBM\", \"run_properties\": \"copy=True\", \"primary_metric\": 0.81595506, \"best_metric\": 0.81595506}, {\"run_id\": \"AutoML_2e98f987-8c25-4dd3-a149-4ea7f8c9b5c1_5\", \"run_number\": 6, \"metric\": null, \"status\": \"Completed\", \"run_type\": \"azureml.scriptrun\", \"training_percent\": \"100\", \"start_time\": \"2021-04-19T20:19:17.517826Z\", \"end_time\": \"2021-04-19T20:20:09.242834Z\", \"created_time\": \"2021-04-19T20:16:49.52081Z\", \"created_time_dt\": \"2021-04-19T20:16:49.52081Z\", \"duration\": \"0:03:19\", \"iteration\": \"5\", \"goal\": \"accuracy_max\", \"run_name\": \"MaxAbsScaler, RandomForest\", \"run_properties\": \"copy=True\", \"primary_metric\": 0.78002497, \"best_metric\": 0.81595506}, {\"run_id\": \"AutoML_2e98f987-8c25-4dd3-a149-4ea7f8c9b5c1_2\", \"run_number\": 7, \"metric\": null, \"status\": \"Completed\", \"run_type\": \"azureml.scriptrun\", \"training_percent\": \"100\", \"start_time\": \"2021-04-19T20:20:09.366776Z\", \"end_time\": \"2021-04-19T20:20:53.103488Z\", \"created_time\": \"2021-04-19T20:16:49.541443Z\", \"created_time_dt\": \"2021-04-19T20:16:49.541443Z\", \"duration\": \"0:04:03\", \"iteration\": \"2\", \"goal\": \"accuracy_max\", \"run_name\": \"MaxAbsScaler, RandomForest\", \"run_properties\": \"copy=True\", \"primary_metric\": 0.78672909, \"best_metric\": 0.81595506}, {\"run_id\": \"AutoML_2e98f987-8c25-4dd3-a149-4ea7f8c9b5c1_8\", \"run_number\": 8, \"metric\": null, \"status\": \"Completed\", \"run_type\": \"azureml.scriptrun\", \"training_percent\": \"100\", \"start_time\": \"2021-04-19T20:20:25.646469Z\", \"end_time\": \"2021-04-19T20:21:17.941096Z\", \"created_time\": \"2021-04-19T20:16:49.555133Z\", \"created_time_dt\": \"2021-04-19T20:16:49.555133Z\", \"duration\": \"0:04:28\", \"iteration\": \"8\", \"goal\": \"accuracy_max\", \"run_name\": \"StandardScalerWrapper, LogisticRegression\", \"run_properties\": \"<azureml.automl.runtime.shared.model_wrappers.StandardScalerWrapper object at 0x7f899ce7d978\", \"primary_metric\": 0.77554307, \"best_metric\": 0.81595506}, {\"run_id\": \"AutoML_2e98f987-8c25-4dd3-a149-4ea7f8c9b5c1_6\", \"run_number\": 9, \"metric\": null, \"status\": \"Completed\", \"run_type\": \"azureml.scriptrun\", \"training_percent\": \"100\", \"start_time\": \"2021-04-19T20:21:03.835374Z\", \"end_time\": \"2021-04-19T20:22:59.284186Z\", \"created_time\": \"2021-04-19T20:16:49.561851Z\", \"created_time_dt\": \"2021-04-19T20:16:49.561851Z\", \"duration\": \"0:06:09\", \"iteration\": \"6\", \"goal\": \"accuracy_max\", \"run_name\": \"StandardScalerWrapper, XGBoostClassifier\", \"run_properties\": \"<azureml.automl.runtime.shared.model_wrappers.StandardScalerWrapper object at 0x7fc851f7e470\", \"primary_metric\": 0.80583021, \"best_metric\": 0.81595506}, {\"run_id\": \"AutoML_2e98f987-8c25-4dd3-a149-4ea7f8c9b5c1_1\", \"run_number\": 10, \"metric\": null, \"status\": \"Completed\", \"run_type\": \"azureml.scriptrun\", \"training_percent\": \"100\", \"start_time\": \"2021-04-19T20:18:05.736757Z\", \"end_time\": \"2021-04-19T20:19:52.385326Z\", \"created_time\": \"2021-04-19T20:16:49.576961Z\", \"created_time_dt\": \"2021-04-19T20:16:49.576961Z\", \"duration\": \"0:03:02\", \"iteration\": \"1\", \"goal\": \"accuracy_max\", \"run_name\": \"MaxAbsScaler, XGBoostClassifier\", \"run_properties\": \"copy=True\", \"primary_metric\": 0.81031211, \"best_metric\": 0.81595506}, {\"run_id\": \"AutoML_2e98f987-8c25-4dd3-a149-4ea7f8c9b5c1_4\", \"run_number\": 11, \"metric\": null, \"status\": \"Completed\", \"run_type\": \"azureml.scriptrun\", \"training_percent\": \"100\", \"start_time\": \"2021-04-19T20:18:05.922761Z\", \"end_time\": \"2021-04-19T20:19:38.674717Z\", \"created_time\": \"2021-04-19T20:16:49.533996Z\", \"created_time_dt\": \"2021-04-19T20:16:49.533996Z\", \"duration\": \"0:02:49\", \"iteration\": \"4\", \"goal\": \"accuracy_max\", \"run_name\": \"MaxAbsScaler, RandomForest\", \"run_properties\": \"copy=True\", \"primary_metric\": 0.69248439, \"best_metric\": 0.81595506}, {\"run_id\": \"AutoML_2e98f987-8c25-4dd3-a149-4ea7f8c9b5c1_3\", \"run_number\": 12, \"metric\": null, \"status\": \"Completed\", \"run_type\": \"azureml.scriptrun\", \"training_percent\": \"100\", \"start_time\": \"2021-04-19T20:19:58.299496Z\", \"end_time\": \"2021-04-19T20:20:46.055367Z\", \"created_time\": \"2021-04-19T20:16:49.542495Z\", \"created_time_dt\": \"2021-04-19T20:16:49.542495Z\", \"duration\": \"0:03:56\", \"iteration\": \"3\", \"goal\": \"accuracy_max\", \"run_name\": \"MaxAbsScaler, RandomForest\", \"run_properties\": \"copy=True\", \"primary_metric\": 0.64187266, \"best_metric\": 0.81595506}, {\"run_id\": \"AutoML_2e98f987-8c25-4dd3-a149-4ea7f8c9b5c1_7\", \"run_number\": 13, \"metric\": null, \"status\": \"Completed\", \"run_type\": \"azureml.scriptrun\", \"training_percent\": \"100\", \"start_time\": \"2021-04-19T20:18:09.431394Z\", \"end_time\": \"2021-04-19T20:19:05.042464Z\", \"created_time\": \"2021-04-19T20:16:49.568901Z\", \"created_time_dt\": \"2021-04-19T20:16:49.568901Z\", \"duration\": \"0:02:15\", \"iteration\": \"7\", \"goal\": \"accuracy_max\", \"run_name\": \"MaxAbsScaler, LightGBM\", \"run_properties\": \"copy=True\", \"primary_metric\": 0.79123596, \"best_metric\": 0.81595506}, {\"run_id\": \"AutoML_2e98f987-8c25-4dd3-a149-4ea7f8c9b5c1_9\", \"run_number\": 14, \"metric\": null, \"status\": \"Completed\", \"run_type\": \"azureml.scriptrun\", \"training_percent\": \"100\", \"start_time\": \"2021-04-19T20:20:59.963861Z\", \"end_time\": \"2021-04-19T20:21:58.677573Z\", \"created_time\": \"2021-04-19T20:17:57.047965Z\", \"created_time_dt\": \"2021-04-19T20:17:57.047965Z\", \"duration\": \"0:04:01\", \"iteration\": \"9\", \"goal\": \"accuracy_max\", \"run_name\": \"SparseNormalizer, XGBoostClassifier\", \"run_properties\": \"<azureml.automl.runtime.shared.model_wrappers.SparseNormalizer object at 0x7f0fdd524e80\", \"primary_metric\": 0.80917603, \"best_metric\": 0.81595506}, {\"run_id\": \"AutoML_2e98f987-8c25-4dd3-a149-4ea7f8c9b5c1_10\", \"run_number\": 15, \"metric\": null, \"status\": \"Completed\", \"run_type\": \"azureml.scriptrun\", \"training_percent\": \"100\", \"start_time\": \"2021-04-19T20:21:03.454758Z\", \"end_time\": \"2021-04-19T20:22:37.577415Z\", \"created_time\": \"2021-04-19T20:19:09.180559Z\", \"created_time_dt\": \"2021-04-19T20:19:09.180559Z\", \"duration\": \"0:03:28\", \"iteration\": \"10\", \"goal\": \"accuracy_max\", \"run_name\": \"StandardScalerWrapper, LogisticRegression\", \"run_properties\": \"<azureml.automl.runtime.shared.model_wrappers.StandardScalerWrapper object at 0x7f1d9d099320\", \"primary_metric\": 0.77329588, \"best_metric\": 0.81595506}, {\"run_id\": \"AutoML_2e98f987-8c25-4dd3-a149-4ea7f8c9b5c1_11\", \"run_number\": 16, \"metric\": null, \"status\": \"Completed\", \"run_type\": \"azureml.scriptrun\", \"training_percent\": \"100\", \"start_time\": \"2021-04-19T20:21:02.204774Z\", \"end_time\": \"2021-04-19T20:23:06.611079Z\", \"created_time\": \"2021-04-19T20:19:41.329613Z\", \"created_time_dt\": \"2021-04-19T20:19:41.329613Z\", \"duration\": \"0:03:25\", \"iteration\": \"11\", \"goal\": \"accuracy_max\", \"run_name\": \"MaxAbsScaler, LightGBM\", \"run_properties\": \"copy=True\", \"primary_metric\": 0.81032459, \"best_metric\": 0.81595506}, {\"run_id\": \"AutoML_2e98f987-8c25-4dd3-a149-4ea7f8c9b5c1_12\", \"run_number\": 17, \"metric\": null, \"status\": \"Completed\", \"run_type\": \"azureml.scriptrun\", \"training_percent\": \"100\", \"start_time\": \"2021-04-19T20:21:06.78342Z\", \"end_time\": \"2021-04-19T20:22:48.68722Z\", \"created_time\": \"2021-04-19T20:19:55.372809Z\", \"created_time_dt\": \"2021-04-19T20:19:55.372809Z\", \"duration\": \"0:02:53\", \"iteration\": \"12\", \"goal\": \"accuracy_max\", \"run_name\": \"StandardScalerWrapper, LightGBM\", \"run_properties\": \"<azureml.automl.runtime.shared.model_wrappers.StandardScalerWrapper object at 0x7f3bd5344da0\", \"primary_metric\": 0.82380774, \"best_metric\": 0.82380774}, {\"run_id\": \"AutoML_2e98f987-8c25-4dd3-a149-4ea7f8c9b5c1_13\", \"run_number\": 18, \"metric\": null, \"status\": \"Completed\", \"run_type\": \"azureml.scriptrun\", \"training_percent\": \"100\", \"start_time\": \"2021-04-19T20:21:02.373874Z\", \"end_time\": \"2021-04-19T20:23:03.08162Z\", \"created_time\": \"2021-04-19T20:20:11.944281Z\", \"created_time_dt\": \"2021-04-19T20:20:11.944281Z\", \"duration\": \"0:02:51\", \"iteration\": \"13\", \"goal\": \"accuracy_max\", \"run_name\": \"SparseNormalizer, XGBoostClassifier\", \"run_properties\": \"<azureml.automl.runtime.shared.model_wrappers.SparseNormalizer object at 0x7fbd928d9668\", \"primary_metric\": 0.80808989, \"best_metric\": 0.82380774}, {\"run_id\": \"AutoML_2e98f987-8c25-4dd3-a149-4ea7f8c9b5c1_14\", \"run_number\": 19, \"metric\": null, \"status\": \"Completed\", \"run_type\": \"azureml.scriptrun\", \"training_percent\": \"100\", \"start_time\": \"2021-04-19T20:21:06.800014Z\", \"end_time\": \"2021-04-19T20:23:41.636711Z\", \"created_time\": \"2021-04-19T20:20:48.912574Z\", \"created_time_dt\": \"2021-04-19T20:20:48.912574Z\", \"duration\": \"0:02:52\", \"iteration\": \"14\", \"goal\": \"accuracy_max\", \"run_name\": \"StandardScalerWrapper, LogisticRegression\", \"run_properties\": \"<azureml.automl.runtime.shared.model_wrappers.StandardScalerWrapper object at 0x7faea61e5908\", \"primary_metric\": 0.79237203, \"best_metric\": 0.82380774}, {\"run_id\": \"AutoML_2e98f987-8c25-4dd3-a149-4ea7f8c9b5c1_15\", \"run_number\": 20, \"metric\": null, \"status\": \"Completed\", \"run_type\": \"azureml.scriptrun\", \"training_percent\": \"100\", \"start_time\": \"2021-04-19T20:21:10.392634Z\", \"end_time\": \"2021-04-19T20:22:20.356662Z\", \"created_time\": \"2021-04-19T20:20:55.279928Z\", \"created_time_dt\": \"2021-04-19T20:20:55.279928Z\", \"duration\": \"0:01:25\", \"iteration\": \"15\", \"goal\": \"accuracy_max\", \"run_name\": \"MaxAbsScaler, RandomForest\", \"run_properties\": \"copy=True\", \"primary_metric\": 0.78224719, \"best_metric\": 0.82380774}, {\"run_id\": \"AutoML_2e98f987-8c25-4dd3-a149-4ea7f8c9b5c1_16\", \"run_number\": 21, \"metric\": null, \"status\": \"Completed\", \"run_type\": \"azureml.scriptrun\", \"training_percent\": \"100\", \"start_time\": \"2021-04-19T20:21:32.013504Z\", \"end_time\": \"2021-04-19T20:22:17.486535Z\", \"created_time\": \"2021-04-19T20:21:20.214679Z\", \"created_time_dt\": \"2021-04-19T20:21:20.214679Z\", \"duration\": \"0:00:57\", \"iteration\": \"16\", \"goal\": \"accuracy_max\", \"run_name\": \"SparseNormalizer, LightGBM\", \"run_properties\": \"<azureml.automl.runtime.shared.model_wrappers.SparseNormalizer object at 0x7fcc198363c8\", \"primary_metric\": 0.79682896, \"best_metric\": 0.82380774}, {\"run_id\": \"AutoML_2e98f987-8c25-4dd3-a149-4ea7f8c9b5c1_17\", \"run_number\": 22, \"metric\": null, \"status\": \"Completed\", \"run_type\": \"azureml.scriptrun\", \"training_percent\": \"100\", \"start_time\": \"2021-04-19T20:22:17.672371Z\", \"end_time\": \"2021-04-19T20:23:02.213823Z\", \"created_time\": \"2021-04-19T20:22:00.945827Z\", \"created_time_dt\": \"2021-04-19T20:22:00.945827Z\", \"duration\": \"0:01:01\", \"iteration\": \"17\", \"goal\": \"accuracy_max\", \"run_name\": \"MaxAbsScaler, LightGBM\", \"run_properties\": \"copy=True\", \"primary_metric\": 0.80802747, \"best_metric\": 0.82380774}, {\"run_id\": \"AutoML_2e98f987-8c25-4dd3-a149-4ea7f8c9b5c1_18\", \"run_number\": 23, \"metric\": null, \"status\": \"Completed\", \"run_type\": \"azureml.scriptrun\", \"training_percent\": \"100\", \"start_time\": \"2021-04-19T20:22:33.7907Z\", \"end_time\": \"2021-04-19T20:23:20.716268Z\", \"created_time\": \"2021-04-19T20:22:20.843595Z\", \"created_time_dt\": \"2021-04-19T20:22:20.843595Z\", \"duration\": \"0:00:59\", \"iteration\": \"18\", \"goal\": \"accuracy_max\", \"run_name\": \"StandardScalerWrapper, RandomForest\", \"run_properties\": \"<azureml.automl.runtime.shared.model_wrappers.StandardScalerWrapper object at 0x7f7aeb6abcf8\", \"primary_metric\": 0.8136829, \"best_metric\": 0.82380774}, {\"run_id\": \"AutoML_2e98f987-8c25-4dd3-a149-4ea7f8c9b5c1_19\", \"run_number\": 24, \"metric\": null, \"status\": \"Completed\", \"run_type\": \"azureml.scriptrun\", \"training_percent\": \"100\", \"start_time\": \"2021-04-19T20:22:36.568828Z\", \"end_time\": \"2021-04-19T20:23:19.742832Z\", \"created_time\": \"2021-04-19T20:22:26.247138Z\", \"created_time_dt\": \"2021-04-19T20:22:26.247138Z\", \"duration\": \"0:00:53\", \"iteration\": \"19\", \"goal\": \"accuracy_max\", \"run_name\": \"MaxAbsScaler, LightGBM\", \"run_properties\": \"copy=True\", \"primary_metric\": 0.80131086, \"best_metric\": 0.82380774}, {\"run_id\": \"AutoML_2e98f987-8c25-4dd3-a149-4ea7f8c9b5c1_20\", \"run_number\": 25, \"metric\": null, \"status\": \"Completed\", \"run_type\": \"azureml.scriptrun\", \"training_percent\": \"100\", \"start_time\": \"2021-04-19T20:23:04.884481Z\", \"end_time\": \"2021-04-19T20:24:29.633514Z\", \"created_time\": \"2021-04-19T20:22:41.413409Z\", \"created_time_dt\": \"2021-04-19T20:22:41.413409Z\", \"duration\": \"0:01:48\", \"iteration\": \"20\", \"goal\": \"accuracy_max\", \"run_name\": \"MaxAbsScaler, RandomForest\", \"run_properties\": \"copy=True\", \"primary_metric\": 0.78787765, \"best_metric\": 0.82380774}, {\"run_id\": \"AutoML_2e98f987-8c25-4dd3-a149-4ea7f8c9b5c1_21\", \"run_number\": 26, \"metric\": null, \"status\": \"Completed\", \"run_type\": \"azureml.scriptrun\", \"training_percent\": \"100\", \"start_time\": \"2021-04-19T20:23:13.727565Z\", \"end_time\": \"2021-04-19T20:24:01.6872Z\", \"created_time\": \"2021-04-19T20:22:52.501896Z\", \"created_time_dt\": \"2021-04-19T20:22:52.501896Z\", \"duration\": \"0:01:09\", \"iteration\": \"21\", \"goal\": \"accuracy_max\", \"run_name\": \"StandardScalerWrapper, ExtremeRandomTrees\", \"run_properties\": \"<azureml.automl.runtime.shared.model_wrappers.StandardScalerWrapper object at 0x7f139c612b38\", \"primary_metric\": 0.81701623, \"best_metric\": 0.82380774}, {\"run_id\": \"AutoML_2e98f987-8c25-4dd3-a149-4ea7f8c9b5c1_22\", \"run_number\": 27, \"metric\": null, \"status\": \"Completed\", \"run_type\": \"azureml.scriptrun\", \"training_percent\": \"100\", \"start_time\": \"2021-04-19T20:23:18.55396Z\", \"end_time\": \"2021-04-19T20:24:07.843873Z\", \"created_time\": \"2021-04-19T20:23:01.800713Z\", \"created_time_dt\": \"2021-04-19T20:23:01.800713Z\", \"duration\": \"0:01:06\", \"iteration\": \"22\", \"goal\": \"accuracy_max\", \"run_name\": \"StandardScalerWrapper, LightGBM\", \"run_properties\": \"<azureml.automl.runtime.shared.model_wrappers.StandardScalerWrapper object at 0x7f49f2bae908\", \"primary_metric\": 0.7990387, \"best_metric\": 0.82380774}, {\"run_id\": \"AutoML_2e98f987-8c25-4dd3-a149-4ea7f8c9b5c1_24\", \"run_number\": 28, \"metric\": null, \"status\": \"Completed\", \"run_type\": \"azureml.scriptrun\", \"training_percent\": \"100\", \"start_time\": \"2021-04-19T20:23:23.857101Z\", \"end_time\": \"2021-04-19T20:24:24.07146Z\", \"created_time\": \"2021-04-19T20:23:11.861683Z\", \"created_time_dt\": \"2021-04-19T20:23:11.861683Z\", \"duration\": \"0:01:12\", \"iteration\": \"24\", \"goal\": \"accuracy_max\", \"run_name\": \"SparseNormalizer, XGBoostClassifier\", \"run_properties\": \"<azureml.automl.runtime.shared.model_wrappers.SparseNormalizer object at 0x7f47e16bfd68\", \"primary_metric\": 0.79348315, \"best_metric\": 0.82380774}, {\"run_id\": \"AutoML_2e98f987-8c25-4dd3-a149-4ea7f8c9b5c1_25\", \"run_number\": 29, \"metric\": null, \"status\": \"Completed\", \"run_type\": \"azureml.scriptrun\", \"training_percent\": \"100\", \"start_time\": \"2021-04-19T20:23:24.459035Z\", \"end_time\": \"2021-04-19T20:24:22.894847Z\", \"created_time\": \"2021-04-19T20:23:12.093175Z\", \"created_time_dt\": \"2021-04-19T20:23:12.093175Z\", \"duration\": \"0:01:10\", \"iteration\": \"25\", \"goal\": \"accuracy_max\", \"run_name\": \"TruncatedSVDWrapper, XGBoostClassifier\", \"run_properties\": \"n_components=0.95, random_state=None\", \"primary_metric\": 0.79233458, \"best_metric\": 0.82380774}, {\"run_id\": \"AutoML_2e98f987-8c25-4dd3-a149-4ea7f8c9b5c1_23\", \"run_number\": 30, \"metric\": null, \"status\": \"Completed\", \"run_type\": \"azureml.scriptrun\", \"training_percent\": \"100\", \"start_time\": \"2021-04-19T20:23:25.712137Z\", \"end_time\": \"2021-04-19T20:24:21.429963Z\", \"created_time\": \"2021-04-19T20:23:12.130152Z\", \"created_time_dt\": \"2021-04-19T20:23:12.130152Z\", \"duration\": \"0:01:09\", \"iteration\": \"23\", \"goal\": \"accuracy_max\", \"run_name\": \"MaxAbsScaler, LightGBM\", \"run_properties\": \"copy=True\", \"primary_metric\": 0.80691635, \"best_metric\": 0.82380774}, {\"run_id\": \"AutoML_2e98f987-8c25-4dd3-a149-4ea7f8c9b5c1_26\", \"run_number\": 31, \"metric\": null, \"status\": \"Completed\", \"run_type\": \"azureml.scriptrun\", \"training_percent\": \"100\", \"start_time\": \"2021-04-19T20:23:37.453368Z\", \"end_time\": \"2021-04-19T20:24:26.611724Z\", \"created_time\": \"2021-04-19T20:23:22.997624Z\", \"created_time_dt\": \"2021-04-19T20:23:22.997624Z\", \"duration\": \"0:01:03\", \"iteration\": \"26\", \"goal\": \"accuracy_max\", \"run_name\": \"MaxAbsScaler, LightGBM\", \"run_properties\": \"copy=True\", \"primary_metric\": 0.81254682, \"best_metric\": 0.82380774}, {\"run_id\": \"AutoML_2e98f987-8c25-4dd3-a149-4ea7f8c9b5c1_27\", \"run_number\": 32, \"metric\": null, \"status\": \"Completed\", \"run_type\": \"azureml.scriptrun\", \"training_percent\": \"100\", \"start_time\": \"2021-04-19T20:23:40.184486Z\", \"end_time\": \"2021-04-19T20:24:28.14844Z\", \"created_time\": \"2021-04-19T20:23:31.327166Z\", \"created_time_dt\": \"2021-04-19T20:23:31.327166Z\", \"duration\": \"0:00:56\", \"iteration\": \"27\", \"goal\": \"accuracy_max\", \"run_name\": \"StandardScalerWrapper, XGBoostClassifier\", \"run_properties\": \"<azureml.automl.runtime.shared.model_wrappers.StandardScalerWrapper object at 0x7f1acd2c56a0\", \"primary_metric\": 0.80921348, \"best_metric\": 0.82380774}, {\"run_id\": \"AutoML_2e98f987-8c25-4dd3-a149-4ea7f8c9b5c1_28\", \"run_number\": 33, \"metric\": null, \"status\": \"Completed\", \"run_type\": \"azureml.scriptrun\", \"training_percent\": \"100\", \"start_time\": \"2021-04-19T20:23:58.478856Z\", \"end_time\": \"2021-04-19T20:24:48.055433Z\", \"created_time\": \"2021-04-19T20:23:44.516882Z\", \"created_time_dt\": \"2021-04-19T20:23:44.516882Z\", \"duration\": \"0:01:03\", \"iteration\": \"28\", \"goal\": \"accuracy_max\", \"run_name\": \"SparseNormalizer, XGBoostClassifier\", \"run_properties\": \"<azureml.automl.runtime.shared.model_wrappers.SparseNormalizer object at 0x7f9f1ddfb5c0\", \"primary_metric\": 0.79570537, \"best_metric\": 0.82380774}, {\"run_id\": \"AutoML_2e98f987-8c25-4dd3-a149-4ea7f8c9b5c1_29\", \"run_number\": 34, \"metric\": null, \"status\": \"Completed\", \"run_type\": \"azureml.scriptrun\", \"training_percent\": \"100\", \"start_time\": \"2021-04-19T20:24:15.80547Z\", \"end_time\": \"2021-04-19T20:25:04.022667Z\", \"created_time\": \"2021-04-19T20:24:04.291492Z\", \"created_time_dt\": \"2021-04-19T20:24:04.291492Z\", \"duration\": \"0:00:59\", \"iteration\": \"29\", \"goal\": \"accuracy_max\", \"run_name\": \"MaxAbsScaler, LightGBM\", \"run_properties\": \"copy=True\", \"primary_metric\": 0.79230961, \"best_metric\": 0.82380774}, {\"run_id\": \"AutoML_2e98f987-8c25-4dd3-a149-4ea7f8c9b5c1_30\", \"run_number\": 35, \"metric\": null, \"status\": \"Completed\", \"run_type\": \"azureml.scriptrun\", \"training_percent\": \"100\", \"start_time\": \"2021-04-19T20:24:25.320322Z\", \"end_time\": \"2021-04-19T20:26:17.317517Z\", \"created_time\": \"2021-04-19T20:24:11.750628Z\", \"created_time_dt\": \"2021-04-19T20:24:11.750628Z\", \"duration\": \"0:02:05\", \"iteration\": \"30\", \"goal\": \"accuracy_max\", \"run_name\": \"MaxAbsScaler, LightGBM\", \"run_properties\": \"copy=True\", \"primary_metric\": 0.80468165, \"best_metric\": 0.82380774}, {\"run_id\": \"AutoML_2e98f987-8c25-4dd3-a149-4ea7f8c9b5c1_31\", \"run_number\": 36, \"metric\": null, \"status\": \"Completed\", \"run_type\": \"azureml.scriptrun\", \"training_percent\": \"100\", \"start_time\": \"2021-04-19T20:24:37.604763Z\", \"end_time\": \"2021-04-19T20:25:58.944755Z\", \"created_time\": \"2021-04-19T20:24:24.205914Z\", \"created_time_dt\": \"2021-04-19T20:24:24.205914Z\", \"duration\": \"0:01:34\", \"iteration\": \"31\", \"goal\": \"accuracy_max\", \"run_name\": \"SparseNormalizer, XGBoostClassifier\", \"run_properties\": \"<azureml.automl.runtime.shared.model_wrappers.SparseNormalizer object at 0x7f5fd05cec18\", \"primary_metric\": 0.80469413, \"best_metric\": 0.82380774}, {\"run_id\": \"AutoML_2e98f987-8c25-4dd3-a149-4ea7f8c9b5c1_32\", \"run_number\": 37, \"metric\": null, \"status\": \"Completed\", \"run_type\": \"azureml.scriptrun\", \"training_percent\": \"100\", \"start_time\": \"2021-04-19T20:24:39.631611Z\", \"end_time\": \"2021-04-19T20:25:24.296108Z\", \"created_time\": \"2021-04-19T20:24:29.586818Z\", \"created_time_dt\": \"2021-04-19T20:24:29.586818Z\", \"duration\": \"0:00:54\", \"iteration\": \"32\", \"goal\": \"accuracy_max\", \"run_name\": \"SparseNormalizer, XGBoostClassifier\", \"run_properties\": \"<azureml.automl.runtime.shared.model_wrappers.SparseNormalizer object at 0x7f69b8275f98\", \"primary_metric\": 0.81031211, \"best_metric\": 0.82380774}, {\"run_id\": \"AutoML_2e98f987-8c25-4dd3-a149-4ea7f8c9b5c1_34\", \"run_number\": 38, \"metric\": null, \"status\": \"Completed\", \"run_type\": \"azureml.scriptrun\", \"training_percent\": \"100\", \"start_time\": \"2021-04-19T20:24:42.227397Z\", \"end_time\": \"2021-04-19T20:25:49.503727Z\", \"created_time\": \"2021-04-19T20:24:29.589358Z\", \"created_time_dt\": \"2021-04-19T20:24:29.589358Z\", \"duration\": \"0:01:19\", \"iteration\": \"34\", \"goal\": \"accuracy_max\", \"run_name\": \"TruncatedSVDWrapper, XGBoostClassifier\", \"run_properties\": \"n_components=0.7026315789473684, random_state=None\", \"primary_metric\": 0.81253433, \"best_metric\": 0.82380774}, {\"run_id\": \"AutoML_2e98f987-8c25-4dd3-a149-4ea7f8c9b5c1_33\", \"run_number\": 39, \"metric\": null, \"status\": \"Completed\", \"run_type\": \"azureml.scriptrun\", \"training_percent\": \"100\", \"start_time\": \"2021-04-19T20:24:40.335472Z\", \"end_time\": \"2021-04-19T20:25:26.446233Z\", \"created_time\": \"2021-04-19T20:24:29.76624Z\", \"created_time_dt\": \"2021-04-19T20:24:29.76624Z\", \"duration\": \"0:00:56\", \"iteration\": \"33\", \"goal\": \"accuracy_max\", \"run_name\": \"MaxAbsScaler, LightGBM\", \"run_properties\": \"copy=True\", \"primary_metric\": 0.809201, \"best_metric\": 0.82380774}, {\"run_id\": \"AutoML_2e98f987-8c25-4dd3-a149-4ea7f8c9b5c1_36\", \"run_number\": 40, \"metric\": null, \"status\": \"Completed\", \"run_type\": \"azureml.scriptrun\", \"training_percent\": \"100\", \"start_time\": \"2021-04-19T20:24:50.415557Z\", \"end_time\": \"2021-04-19T20:25:54.582558Z\", \"created_time\": \"2021-04-19T20:24:38.436853Z\", \"created_time_dt\": \"2021-04-19T20:24:38.436853Z\", \"duration\": \"0:01:16\", \"iteration\": \"36\", \"goal\": \"accuracy_max\", \"run_name\": \"MaxAbsScaler, ExtremeRandomTrees\", \"run_properties\": \"copy=True\", \"primary_metric\": 0.79460674, \"best_metric\": 0.82380774}, {\"run_id\": \"AutoML_2e98f987-8c25-4dd3-a149-4ea7f8c9b5c1_35\", \"run_number\": 41, \"metric\": null, \"status\": \"Completed\", \"run_type\": \"azureml.scriptrun\", \"training_percent\": \"100\", \"start_time\": \"2021-04-19T20:24:49.302857Z\", \"end_time\": \"2021-04-19T20:25:44.355601Z\", \"created_time\": \"2021-04-19T20:24:38.662788Z\", \"created_time_dt\": \"2021-04-19T20:24:38.662788Z\", \"duration\": \"0:01:05\", \"iteration\": \"35\", \"goal\": \"accuracy_max\", \"run_name\": \"TruncatedSVDWrapper, LightGBM\", \"run_properties\": \"n_components=0.2573684210526316, random_state=None\", \"primary_metric\": 0.80803995, \"best_metric\": 0.82380774}, {\"run_id\": \"AutoML_2e98f987-8c25-4dd3-a149-4ea7f8c9b5c1_37\", \"run_number\": 42, \"metric\": null, \"status\": \"Completed\", \"run_type\": \"azureml.scriptrun\", \"training_percent\": \"100\", \"start_time\": \"2021-04-19T20:25:02.334638Z\", \"end_time\": \"2021-04-19T20:25:53.161893Z\", \"created_time\": \"2021-04-19T20:24:50.80905Z\", \"created_time_dt\": \"2021-04-19T20:24:50.80905Z\", \"duration\": \"0:01:02\", \"iteration\": \"37\", \"goal\": \"accuracy_max\", \"run_name\": \"MaxAbsScaler, ExtremeRandomTrees\", \"run_properties\": \"copy=True\", \"primary_metric\": 0.79011236, \"best_metric\": 0.82380774}, {\"run_id\": \"AutoML_2e98f987-8c25-4dd3-a149-4ea7f8c9b5c1_38\", \"run_number\": 43, \"metric\": null, \"status\": \"Canceled\", \"run_type\": \"azureml.scriptrun\", \"training_percent\": \"100\", \"start_time\": \"2021-04-19T20:25:23.482428Z\", \"end_time\": \"2021-04-19T20:26:19.145488Z\", \"created_time\": \"2021-04-19T20:25:12.119901Z\", \"created_time_dt\": \"2021-04-19T20:25:12.119901Z\", \"duration\": \"0:01:07\", \"iteration\": \"38\", \"goal\": \"accuracy_max\", \"run_name\": \"SparseNormalizer, ExtremeRandomTrees\", \"run_properties\": \"<azureml.automl.runtime.shared.model_wrappers.SparseNormalizer object at 0x7f72051a3a20\", \"primary_metric\": 0.79235955, \"best_metric\": 0.82380774}, {\"run_id\": \"AutoML_2e98f987-8c25-4dd3-a149-4ea7f8c9b5c1_39\", \"run_number\": 44, \"metric\": null, \"status\": \"Canceled\", \"run_type\": \"azureml.scriptrun\", \"training_percent\": \"100\", \"start_time\": \"2021-04-19T20:25:37.948618Z\", \"end_time\": \"2021-04-19T20:26:24.712823Z\", \"created_time\": \"2021-04-19T20:25:26.734104Z\", \"created_time_dt\": \"2021-04-19T20:25:26.734104Z\", \"duration\": \"0:00:57\", \"iteration\": \"39\", \"goal\": \"accuracy_max\", \"run_name\": \"StandardScalerWrapper, ExtremeRandomTrees\", \"run_properties\": \"<azureml.automl.runtime.shared.model_wrappers.StandardScalerWrapper object at 0x7fca86372828\", \"primary_metric\": 0.78227216, \"best_metric\": 0.82380774}, {\"run_id\": \"AutoML_2e98f987-8c25-4dd3-a149-4ea7f8c9b5c1_40\", \"run_number\": 45, \"metric\": null, \"status\": \"Canceled\", \"run_type\": \"azureml.scriptrun\", \"training_percent\": \"100\", \"start_time\": \"2021-04-19T20:25:47.591592Z\", \"end_time\": \"2021-04-19T20:26:24.786795Z\", \"created_time\": \"2021-04-19T20:25:39.212268Z\", \"created_time_dt\": \"2021-04-19T20:25:39.212268Z\", \"duration\": \"0:00:45\", \"iteration\": \"40\", \"goal\": \"accuracy_max\", \"run_name\": \"MaxAbsScaler, LightGBM\", \"run_properties\": \"copy=True\", \"primary_metric\": 0.78227216, \"best_metric\": 0.82380774}, {\"run_id\": \"AutoML_2e98f987-8c25-4dd3-a149-4ea7f8c9b5c1_41\", \"run_number\": 46, \"metric\": null, \"status\": \"Canceled\", \"run_type\": \"azureml.scriptrun\", \"training_percent\": \"100\", \"start_time\": \"2021-04-19T20:25:57.709449Z\", \"end_time\": \"2021-04-19T20:26:24.403897Z\", \"created_time\": \"2021-04-19T20:25:46.855646Z\", \"created_time_dt\": \"2021-04-19T20:25:46.855646Z\", \"duration\": \"0:00:37\", \"iteration\": \"41\", \"goal\": null, \"run_name\": \"StandardScalerWrapper, RandomForest\", \"run_properties\": null}, {\"run_id\": \"AutoML_2e98f987-8c25-4dd3-a149-4ea7f8c9b5c1_42\", \"run_number\": 47, \"metric\": null, \"status\": \"Canceled\", \"run_type\": \"azureml.scriptrun\", \"training_percent\": \"100\", \"start_time\": \"2021-04-19T20:26:00.537825Z\", \"end_time\": \"2021-04-19T20:26:24.958095Z\", \"created_time\": \"2021-04-19T20:25:51.877469Z\", \"created_time_dt\": \"2021-04-19T20:25:51.877469Z\", \"duration\": \"0:00:33\", \"iteration\": \"42\", \"goal\": null, \"run_name\": \"MaxAbsScaler, RandomForest\", \"run_properties\": null}, {\"run_id\": \"AutoML_2e98f987-8c25-4dd3-a149-4ea7f8c9b5c1_43\", \"run_number\": 48, \"metric\": null, \"status\": \"Canceled\", \"run_type\": \"azureml.scriptrun\", \"training_percent\": \"100\", \"start_time\": \"2021-04-19T20:26:06.972909Z\", \"end_time\": \"2021-04-19T20:26:24.843403Z\", \"created_time\": \"2021-04-19T20:25:55.881491Z\", \"created_time_dt\": \"2021-04-19T20:25:55.881491Z\", \"duration\": \"0:00:28\", \"iteration\": \"43\", \"goal\": null, \"run_name\": \"Canceled\", \"run_properties\": null}, {\"run_id\": \"AutoML_2e98f987-8c25-4dd3-a149-4ea7f8c9b5c1_44\", \"run_number\": 49, \"metric\": null, \"status\": \"Canceled\", \"run_type\": \"azureml.scriptrun\", \"training_percent\": \"100\", \"start_time\": \"2021-04-19T20:26:10.167175Z\", \"end_time\": \"2021-04-19T20:26:24.537473Z\", \"created_time\": \"2021-04-19T20:26:01.700711Z\", \"created_time_dt\": \"2021-04-19T20:26:01.700711Z\", \"duration\": \"0:00:22\", \"iteration\": \"44\", \"goal\": null, \"run_name\": \"Canceled\", \"run_properties\": null}, {\"run_id\": \"AutoML_2e98f987-8c25-4dd3-a149-4ea7f8c9b5c1_45\", \"run_number\": 50, \"metric\": null, \"status\": \"Canceled\", \"run_type\": \"azureml.scriptrun\", \"training_percent\": \"100\", \"start_time\": \"2021-04-19T20:26:11.475352Z\", \"end_time\": \"2021-04-19T20:26:24.794455Z\", \"created_time\": \"2021-04-19T20:26:01.923432Z\", \"created_time_dt\": \"2021-04-19T20:26:01.923432Z\", \"duration\": \"0:00:22\", \"iteration\": \"45\", \"goal\": null, \"run_name\": \"Canceled\", \"run_properties\": null}, {\"run_id\": \"AutoML_2e98f987-8c25-4dd3-a149-4ea7f8c9b5c1_46\", \"run_number\": 51, \"metric\": null, \"status\": \"Completed\", \"run_type\": \"azureml.scriptrun\", \"training_percent\": \"100\", \"start_time\": \"2021-04-19T20:26:40.457085Z\", \"end_time\": \"2021-04-19T20:28:16.133528Z\", \"created_time\": \"2021-04-19T20:26:28.669309Z\", \"created_time_dt\": \"2021-04-19T20:26:28.669309Z\", \"duration\": \"0:01:47\", \"iteration\": \"46\", \"goal\": \"accuracy_max\", \"run_name\": \"VotingEnsemble\", \"run_properties\": \"classification_labels=None,\\n                              estimators=[('12',\\n                                           Pipeline(memory=None,\\n                                                    steps=[('standardscalerwrapper',\\n                                                            <azureml.automl.runtime.shared.model_wrappers.StandardScalerWrapper object at 0x7f83e03fbda0>\", \"primary_metric\": 0.83501873, \"best_metric\": 0.83501873}, {\"run_id\": \"AutoML_2e98f987-8c25-4dd3-a149-4ea7f8c9b5c1_47\", \"run_number\": 52, \"metric\": null, \"status\": \"Completed\", \"run_type\": \"azureml.scriptrun\", \"training_percent\": \"100\", \"start_time\": \"2021-04-19T20:26:41.97022Z\", \"end_time\": \"2021-04-19T20:28:26.352647Z\", \"created_time\": \"2021-04-19T20:26:28.781891Z\", \"created_time_dt\": \"2021-04-19T20:26:28.781891Z\", \"duration\": \"0:01:57\", \"iteration\": \"47\", \"goal\": \"accuracy_max\", \"run_name\": \"StackEnsemble\", \"run_properties\": \"base_learners=[('12',\\n                                        Pipeline(memory=None,\\n                                                 steps=[('standardscalerwrapper',\\n                                                         <azureml.automl.runtime.shared.model_wrappers.StandardScalerWrapper object at 0x7ffaec843be0>\", \"primary_metric\": 0.82715356, \"best_metric\": 0.83501873}], \"children_metrics\": {\"categories\": [0], \"series\": {\"balanced_accuracy\": [{\"categories\": [\"0\", \"1\", \"2\", \"3\", \"4\", \"5\", \"6\", \"7\", \"8\", \"9\", \"10\", \"11\", \"12\", \"13\", \"14\", \"15\", \"16\", \"17\", \"18\", \"19\", \"20\", \"21\", \"22\", \"23\", \"24\", \"25\", \"26\", \"27\", \"28\", \"29\", \"30\", \"31\", \"32\", \"33\", \"34\", \"35\", \"36\", \"37\", \"38\", \"39\", \"40\", \"46\", \"47\"], \"mode\": \"markers\", \"name\": \"balanced_accuracy\", \"stepped\": false, \"type\": \"scatter\", \"data\": [0.7952799890744926, 0.7898811575753069, 0.7679547611371004, 0.5357017543859649, 0.6644909302811907, 0.7736289861968231, 0.7900948172055058, 0.758296602035557, 0.7505930123603562, 0.7789178385354159, 0.7495649082971686, 0.7890302479235629, 0.7984290800155001, 0.7852392090302124, 0.7666010517704663, 0.7681859307558417, 0.777109809092775, 0.7821745188172908, 0.7971196032143064, 0.7823071560071984, 0.7777036425883197, 0.7928323303567384, 0.755944619680009, 0.7827047958367321, 0.7694308670733836, 0.7634656961299023, 0.7904932806640608, 0.7933619717377149, 0.7705047995618585, 0.7487970479297215, 0.773698775758888, 0.7823944438245789, 0.7846568960692334, 0.7878372443093472, 0.7854352974464804, 0.780738910427319, 0.7837742109251067, 0.7822958685121232, 0.7841975450453333, 0.7795743295140192, 0.7655543815917847, 0.8120482753721575, 0.8061725611634403]}, {\"categories\": [\"0\", \"1\", \"2\", \"3\", \"4\", \"5\", \"6\", \"7\", \"8\", \"9\", \"10\", \"11\", \"12\", \"13\", \"14\", \"15\", \"16\", \"17\", \"18\", \"19\", \"20\", \"21\", \"22\", \"23\", \"24\", \"25\", \"26\", \"27\", \"28\", \"29\", \"30\", \"31\", \"32\", \"33\", \"34\", \"35\", \"36\", \"37\", \"38\", \"39\", \"40\", \"46\", \"47\"], \"mode\": \"lines\", \"name\": \"balanced_accuracy_max\", \"stepped\": true, \"type\": \"scatter\", \"data\": [0.7952799890744926, 0.7952799890744926, 0.7952799890744926, 0.7952799890744926, 0.7952799890744926, 0.7952799890744926, 0.7952799890744926, 0.7952799890744926, 0.7952799890744926, 0.7952799890744926, 0.7952799890744926, 0.7952799890744926, 0.7984290800155001, 0.7984290800155001, 0.7984290800155001, 0.7984290800155001, 0.7984290800155001, 0.7984290800155001, 0.7984290800155001, 0.7984290800155001, 0.7984290800155001, 0.7984290800155001, 0.7984290800155001, 0.7984290800155001, 0.7984290800155001, 0.7984290800155001, 0.7984290800155001, 0.7984290800155001, 0.7984290800155001, 0.7984290800155001, 0.7984290800155001, 0.7984290800155001, 0.7984290800155001, 0.7984290800155001, 0.7984290800155001, 0.7984290800155001, 0.7984290800155001, 0.7984290800155001, 0.7984290800155001, 0.7984290800155001, 0.7984290800155001, 0.8120482753721575, 0.8120482753721575]}], \"weighted_accuracy\": [{\"categories\": [\"0\", \"1\", \"2\", \"3\", \"4\", \"5\", \"6\", \"7\", \"8\", \"9\", \"10\", \"11\", \"12\", \"13\", \"14\", \"15\", \"16\", \"17\", \"18\", \"19\", \"20\", \"21\", \"22\", \"23\", \"24\", \"25\", \"26\", \"27\", \"28\", \"29\", \"30\", \"31\", \"32\", \"33\", \"34\", \"35\", \"36\", \"37\", \"38\", \"39\", \"40\", \"46\", \"47\"], \"mode\": \"markers\", \"name\": \"weighted_accuracy\", \"stepped\": false, \"type\": \"scatter\", \"data\": [0.83324557260474, 0.8277249837448808, 0.802911347505493, 0.7311668210686781, 0.7153433464828123, 0.7857204283225829, 0.8192621328156712, 0.8194910217415687, 0.796599748404522, 0.8347480460171072, 0.7933402021820402, 0.8285079000522801, 0.8451127426394006, 0.8272435234877064, 0.8140843704736692, 0.7944814775697648, 0.8137152789040151, 0.82991255958874, 0.8279820952127002, 0.8178261685601672, 0.7967746415867443, 0.8375421091494838, 0.8355905047647181, 0.8276059276826281, 0.8140054721343472, 0.8166423366630753, 0.8312912411989037, 0.8224361123085326, 0.8174210572436451, 0.8290591413993325, 0.8308936412009512, 0.8236114635600836, 0.831906357633758, 0.8274122447393946, 0.835454180114058, 0.8310642831650752, 0.8040853795176439, 0.797141409531725, 0.7995192472327577, 0.7848468955896765, 0.7969824857623108, 0.8545275982918492, 0.8450157953521277]}, {\"categories\": [\"0\", \"1\", \"2\", \"3\", \"4\", \"5\", \"6\", \"7\", \"8\", \"9\", \"10\", \"11\", \"12\", \"13\", \"14\", \"15\", \"16\", \"17\", \"18\", \"19\", \"20\", \"21\", \"22\", \"23\", \"24\", \"25\", \"26\", \"27\", \"28\", \"29\", \"30\", \"31\", \"32\", \"33\", \"34\", \"35\", \"36\", \"37\", \"38\", \"39\", \"40\", \"46\", \"47\"], \"mode\": \"lines\", \"name\": \"weighted_accuracy_max\", \"stepped\": true, \"type\": \"scatter\", \"data\": [0.83324557260474, 0.83324557260474, 0.83324557260474, 0.83324557260474, 0.83324557260474, 0.83324557260474, 0.83324557260474, 0.83324557260474, 0.83324557260474, 0.8347480460171072, 0.8347480460171072, 0.8347480460171072, 0.8451127426394006, 0.8451127426394006, 0.8451127426394006, 0.8451127426394006, 0.8451127426394006, 0.8451127426394006, 0.8451127426394006, 0.8451127426394006, 0.8451127426394006, 0.8451127426394006, 0.8451127426394006, 0.8451127426394006, 0.8451127426394006, 0.8451127426394006, 0.8451127426394006, 0.8451127426394006, 0.8451127426394006, 0.8451127426394006, 0.8451127426394006, 0.8451127426394006, 0.8451127426394006, 0.8451127426394006, 0.8451127426394006, 0.8451127426394006, 0.8451127426394006, 0.8451127426394006, 0.8451127426394006, 0.8451127426394006, 0.8451127426394006, 0.8545275982918492, 0.8545275982918492]}], \"average_precision_score_micro\": [{\"categories\": [\"0\", \"1\", \"2\", \"3\", \"4\", \"5\", \"6\", \"7\", \"8\", \"9\", \"10\", \"11\", \"12\", \"13\", \"14\", \"15\", \"16\", \"17\", \"18\", \"19\", \"20\", \"21\", \"22\", \"23\", \"24\", \"25\", \"26\", \"27\", \"28\", \"29\", \"30\", \"31\", \"32\", \"33\", \"34\", \"35\", \"36\", \"37\", \"38\", \"39\", \"40\", \"46\", \"47\"], \"mode\": \"markers\", \"name\": \"average_precision_score_micro\", \"stepped\": false, \"type\": \"scatter\", \"data\": [0.8416565204952681, 0.8567513884990999, 0.8223778448538424, 0.7537444373437691, 0.700777482214182, 0.8089381473011679, 0.8572656520448362, 0.8372469476923948, 0.817423637221426, 0.8579920800324528, 0.8191089675125902, 0.8514003465014118, 0.8545213044067378, 0.8601309440152599, 0.8357745821187861, 0.8404571692282923, 0.8507324493902295, 0.8430934388254941, 0.8648071916184568, 0.8393098522343136, 0.8353889503306661, 0.8526751695539583, 0.8359496433353784, 0.8545967419213151, 0.8576832782251979, 0.8430482115135923, 0.857437862729333, 0.864043657178728, 0.8656173950321275, 0.8303626651997671, 0.8446250846453889, 0.85364618405693, 0.8647457021411004, 0.8477238774626754, 0.8361194563916342, 0.8414055097734818, 0.8125034232265838, 0.8559312890014559, 0.8117482563269867, 0.8476174777770822, 0.8365850531970086, 0.8582100371911207, 0.8666032525558259]}, {\"categories\": [\"0\", \"1\", \"2\", \"3\", \"4\", \"5\", \"6\", \"7\", \"8\", \"9\", \"10\", \"11\", \"12\", \"13\", \"14\", \"15\", \"16\", \"17\", \"18\", \"19\", \"20\", \"21\", \"22\", \"23\", \"24\", \"25\", \"26\", \"27\", \"28\", \"29\", \"30\", \"31\", \"32\", \"33\", \"34\", \"35\", \"36\", \"37\", \"38\", \"39\", \"40\", \"46\", \"47\"], \"mode\": \"lines\", \"name\": \"average_precision_score_micro_max\", \"stepped\": true, \"type\": \"scatter\", \"data\": [0.8416565204952681, 0.8567513884990999, 0.8567513884990999, 0.8567513884990999, 0.8567513884990999, 0.8567513884990999, 0.8572656520448362, 0.8572656520448362, 0.8572656520448362, 0.8579920800324528, 0.8579920800324528, 0.8579920800324528, 0.8579920800324528, 0.8601309440152599, 0.8601309440152599, 0.8601309440152599, 0.8601309440152599, 0.8601309440152599, 0.8648071916184568, 0.8648071916184568, 0.8648071916184568, 0.8648071916184568, 0.8648071916184568, 0.8648071916184568, 0.8648071916184568, 0.8648071916184568, 0.8648071916184568, 0.8648071916184568, 0.8656173950321275, 0.8656173950321275, 0.8656173950321275, 0.8656173950321275, 0.8656173950321275, 0.8656173950321275, 0.8656173950321275, 0.8656173950321275, 0.8656173950321275, 0.8656173950321275, 0.8656173950321275, 0.8656173950321275, 0.8656173950321275, 0.8656173950321275, 0.8666032525558259]}], \"AUC_micro\": [{\"categories\": [\"0\", \"1\", \"2\", \"3\", \"4\", \"5\", \"6\", \"7\", \"8\", \"9\", \"10\", \"11\", \"12\", \"13\", \"14\", \"15\", \"16\", \"17\", \"18\", \"19\", \"20\", \"21\", \"22\", \"23\", \"24\", \"25\", \"26\", \"27\", \"28\", \"29\", \"30\", \"31\", \"32\", \"33\", \"34\", \"35\", \"36\", \"37\", \"38\", \"39\", \"40\", \"46\", \"47\"], \"mode\": \"markers\", \"name\": \"AUC_micro\", \"stepped\": false, \"type\": \"scatter\", \"data\": [0.8637583326709277, 0.8749472086234279, 0.8381147707064048, 0.7605208361582978, 0.7191702241735907, 0.824355763161217, 0.8702109363919319, 0.8483635624009314, 0.8346691432837543, 0.8728617676718086, 0.835201611281778, 0.8742908676887973, 0.8750127742943044, 0.8743132554344522, 0.8534669974018121, 0.8595818709758868, 0.8691674825943225, 0.8703841951617906, 0.8781420181701712, 0.8636438768019377, 0.8605916356115404, 0.8722306043787338, 0.8567940526900675, 0.8764567293380153, 0.8696507767288392, 0.8568333200852244, 0.8705956739468922, 0.8781422270227136, 0.8758937112005747, 0.8567653853407335, 0.870588979755331, 0.869399330736704, 0.8753825866854946, 0.8643440222194168, 0.8565725271625201, 0.8589208557966712, 0.8284467823460375, 0.8640910394466342, 0.830263550087983, 0.8596969565197062, 0.853355188037425, 0.8793613803594444, 0.8828645513333052]}, {\"categories\": [\"0\", \"1\", \"2\", \"3\", \"4\", \"5\", \"6\", \"7\", \"8\", \"9\", \"10\", \"11\", \"12\", \"13\", \"14\", \"15\", \"16\", \"17\", \"18\", \"19\", \"20\", \"21\", \"22\", \"23\", \"24\", \"25\", \"26\", \"27\", \"28\", \"29\", \"30\", \"31\", \"32\", \"33\", \"34\", \"35\", \"36\", \"37\", \"38\", \"39\", \"40\", \"46\", \"47\"], \"mode\": \"lines\", \"name\": \"AUC_micro_max\", \"stepped\": true, \"type\": \"scatter\", \"data\": [0.8637583326709277, 0.8749472086234279, 0.8749472086234279, 0.8749472086234279, 0.8749472086234279, 0.8749472086234279, 0.8749472086234279, 0.8749472086234279, 0.8749472086234279, 0.8749472086234279, 0.8749472086234279, 0.8749472086234279, 0.8750127742943044, 0.8750127742943044, 0.8750127742943044, 0.8750127742943044, 0.8750127742943044, 0.8750127742943044, 0.8781420181701712, 0.8781420181701712, 0.8781420181701712, 0.8781420181701712, 0.8781420181701712, 0.8781420181701712, 0.8781420181701712, 0.8781420181701712, 0.8781420181701712, 0.8781422270227136, 0.8781422270227136, 0.8781422270227136, 0.8781422270227136, 0.8781422270227136, 0.8781422270227136, 0.8781422270227136, 0.8781422270227136, 0.8781422270227136, 0.8781422270227136, 0.8781422270227136, 0.8781422270227136, 0.8781422270227136, 0.8781422270227136, 0.8793613803594444, 0.8828645513333052]}], \"recall_score_macro\": [{\"categories\": [\"0\", \"1\", \"2\", \"3\", \"4\", \"5\", \"6\", \"7\", \"8\", \"9\", \"10\", \"11\", \"12\", \"13\", \"14\", \"15\", \"16\", \"17\", \"18\", \"19\", \"20\", \"21\", \"22\", \"23\", \"24\", \"25\", \"26\", \"27\", \"28\", \"29\", \"30\", \"31\", \"32\", \"33\", \"34\", \"35\", \"36\", \"37\", \"38\", \"39\", \"40\", \"46\", \"47\"], \"mode\": \"markers\", \"name\": \"recall_score_macro\", \"stepped\": false, \"type\": \"scatter\", \"data\": [0.7952799890744926, 0.7898811575753069, 0.7679547611371004, 0.5357017543859649, 0.6644909302811907, 0.7736289861968231, 0.7900948172055058, 0.758296602035557, 0.7505930123603562, 0.7789178385354159, 0.7495649082971686, 0.7890302479235629, 0.7984290800155001, 0.7852392090302124, 0.7666010517704663, 0.7681859307558417, 0.777109809092775, 0.7821745188172908, 0.7971196032143064, 0.7823071560071984, 0.7777036425883197, 0.7928323303567384, 0.755944619680009, 0.7827047958367321, 0.7694308670733836, 0.7634656961299023, 0.7904932806640608, 0.7933619717377149, 0.7705047995618585, 0.7487970479297215, 0.773698775758888, 0.7823944438245789, 0.7846568960692334, 0.7878372443093472, 0.7854352974464804, 0.780738910427319, 0.7837742109251067, 0.7822958685121232, 0.7841975450453333, 0.7795743295140192, 0.7655543815917847, 0.8120482753721575, 0.8061725611634403]}, {\"categories\": [\"0\", \"1\", \"2\", \"3\", \"4\", \"5\", \"6\", \"7\", \"8\", \"9\", \"10\", \"11\", \"12\", \"13\", \"14\", \"15\", \"16\", \"17\", \"18\", \"19\", \"20\", \"21\", \"22\", \"23\", \"24\", \"25\", \"26\", \"27\", \"28\", \"29\", \"30\", \"31\", \"32\", \"33\", \"34\", \"35\", \"36\", \"37\", \"38\", \"39\", \"40\", \"46\", \"47\"], \"mode\": \"lines\", \"name\": \"recall_score_macro_max\", \"stepped\": true, \"type\": \"scatter\", \"data\": [0.7952799890744926, 0.7952799890744926, 0.7952799890744926, 0.7952799890744926, 0.7952799890744926, 0.7952799890744926, 0.7952799890744926, 0.7952799890744926, 0.7952799890744926, 0.7952799890744926, 0.7952799890744926, 0.7952799890744926, 0.7984290800155001, 0.7984290800155001, 0.7984290800155001, 0.7984290800155001, 0.7984290800155001, 0.7984290800155001, 0.7984290800155001, 0.7984290800155001, 0.7984290800155001, 0.7984290800155001, 0.7984290800155001, 0.7984290800155001, 0.7984290800155001, 0.7984290800155001, 0.7984290800155001, 0.7984290800155001, 0.7984290800155001, 0.7984290800155001, 0.7984290800155001, 0.7984290800155001, 0.7984290800155001, 0.7984290800155001, 0.7984290800155001, 0.7984290800155001, 0.7984290800155001, 0.7984290800155001, 0.7984290800155001, 0.7984290800155001, 0.7984290800155001, 0.8120482753721575, 0.8120482753721575]}], \"precision_score_macro\": [{\"categories\": [\"0\", \"1\", \"2\", \"3\", \"4\", \"5\", \"6\", \"7\", \"8\", \"9\", \"10\", \"11\", \"12\", \"13\", \"14\", \"15\", \"16\", \"17\", \"18\", \"19\", \"20\", \"21\", \"22\", \"23\", \"24\", \"25\", \"26\", \"27\", \"28\", \"29\", \"30\", \"31\", \"32\", \"33\", \"34\", \"35\", \"36\", \"37\", \"38\", \"39\", \"40\", \"46\", \"47\"], \"mode\": \"markers\", \"name\": \"precision_score_macro\", \"stepped\": false, \"type\": \"scatter\", \"data\": [0.8082993158278455, 0.8029305139568835, 0.7772972279980602, 0.4040404733744474, 0.7007577505228582, 0.7681776985582325, 0.7950348752610281, 0.800090618316539, 0.7664857522220562, 0.8106629846176652, 0.7637153107597241, 0.803988111998392, 0.8211922391516666, 0.8018577456768494, 0.7852284894047761, 0.7702497784510238, 0.7877392048905167, 0.8041977014960013, 0.8054462040531627, 0.7952735491047747, 0.7752119037249636, 0.8121124754376942, 0.825507939731156, 0.8037301862240428, 0.7870960159845934, 0.786900457365256, 0.8056615629371423, 0.7986112953161199, 0.7932500951909868, 0.8134559018795073, 0.8057828605270251, 0.7983131901629168, 0.8077612000812234, 0.8010171511685039, 0.8102146000894092, 0.8045255488626, 0.7832579288960335, 0.7781087274855044, 0.7803292625271483, 0.7708162676016854, 0.7730216093438242, 0.8331481289218134, 0.8227863311408641]}, {\"categories\": [\"0\", \"1\", \"2\", \"3\", \"4\", \"5\", \"6\", \"7\", \"8\", \"9\", \"10\", \"11\", \"12\", \"13\", \"14\", \"15\", \"16\", \"17\", \"18\", \"19\", \"20\", \"21\", \"22\", \"23\", \"24\", \"25\", \"26\", \"27\", \"28\", \"29\", \"30\", \"31\", \"32\", \"33\", \"34\", \"35\", \"36\", \"37\", \"38\", \"39\", \"40\", \"46\", \"47\"], \"mode\": \"lines\", \"name\": \"precision_score_macro_max\", \"stepped\": true, \"type\": \"scatter\", \"data\": [0.8082993158278455, 0.8082993158278455, 0.8082993158278455, 0.8082993158278455, 0.8082993158278455, 0.8082993158278455, 0.8082993158278455, 0.8082993158278455, 0.8082993158278455, 0.8106629846176652, 0.8106629846176652, 0.8106629846176652, 0.8211922391516666, 0.8211922391516666, 0.8211922391516666, 0.8211922391516666, 0.8211922391516666, 0.8211922391516666, 0.8211922391516666, 0.8211922391516666, 0.8211922391516666, 0.8211922391516666, 0.825507939731156, 0.825507939731156, 0.825507939731156, 0.825507939731156, 0.825507939731156, 0.825507939731156, 0.825507939731156, 0.825507939731156, 0.825507939731156, 0.825507939731156, 0.825507939731156, 0.825507939731156, 0.825507939731156, 0.825507939731156, 0.825507939731156, 0.825507939731156, 0.825507939731156, 0.825507939731156, 0.825507939731156, 0.8331481289218134, 0.8331481289218134]}], \"recall_score_weighted\": [{\"categories\": [\"0\", \"1\", \"2\", \"3\", \"4\", \"5\", \"6\", \"7\", \"8\", \"9\", \"10\", \"11\", \"12\", \"13\", \"14\", \"15\", \"16\", \"17\", \"18\", \"19\", \"20\", \"21\", \"22\", \"23\", \"24\", \"25\", \"26\", \"27\", \"28\", \"29\", \"30\", \"31\", \"32\", \"33\", \"34\", \"35\", \"36\", \"37\", \"38\", \"39\", \"40\", \"46\", \"47\"], \"mode\": \"markers\", \"name\": \"recall_score_weighted\", \"stepped\": false, \"type\": \"scatter\", \"data\": [0.8159550561797753, 0.8103121098626718, 0.786729088639201, 0.64187265917603, 0.6924843945068664, 0.7800249687890137, 0.8058302122347065, 0.7912359550561797, 0.7755430711610486, 0.8091760299625468, 0.7732958801498129, 0.8103245942571784, 0.8238077403245943, 0.8080898876404495, 0.7923720349563046, 0.782247191011236, 0.7968289637952559, 0.8080274656679152, 0.8136828963795256, 0.8013108614232209, 0.7878776529338327, 0.8170162297128589, 0.7990387016229712, 0.806916354556804, 0.7934831460674157, 0.792334581772784, 0.8125468164794007, 0.8092134831460674, 0.795705368289638, 0.7923096129837702, 0.804681647940075, 0.8046941323345816, 0.8103121098626718, 0.8092009987515605, 0.8125343320848938, 0.8080399500624219, 0.7946067415730338, 0.7901123595505618, 0.7923595505617979, 0.7822721598002498, 0.7822721598002497, 0.8350187265917602, 0.8271535580524343]}, {\"categories\": [\"0\", \"1\", \"2\", \"3\", \"4\", \"5\", \"6\", \"7\", \"8\", \"9\", \"10\", \"11\", \"12\", \"13\", \"14\", \"15\", \"16\", \"17\", \"18\", \"19\", \"20\", \"21\", \"22\", \"23\", \"24\", \"25\", \"26\", \"27\", \"28\", \"29\", \"30\", \"31\", \"32\", \"33\", \"34\", \"35\", \"36\", \"37\", \"38\", \"39\", \"40\", \"46\", \"47\"], \"mode\": \"lines\", \"name\": \"recall_score_weighted_max\", \"stepped\": true, \"type\": \"scatter\", \"data\": [0.8159550561797753, 0.8159550561797753, 0.8159550561797753, 0.8159550561797753, 0.8159550561797753, 0.8159550561797753, 0.8159550561797753, 0.8159550561797753, 0.8159550561797753, 0.8159550561797753, 0.8159550561797753, 0.8159550561797753, 0.8238077403245943, 0.8238077403245943, 0.8238077403245943, 0.8238077403245943, 0.8238077403245943, 0.8238077403245943, 0.8238077403245943, 0.8238077403245943, 0.8238077403245943, 0.8238077403245943, 0.8238077403245943, 0.8238077403245943, 0.8238077403245943, 0.8238077403245943, 0.8238077403245943, 0.8238077403245943, 0.8238077403245943, 0.8238077403245943, 0.8238077403245943, 0.8238077403245943, 0.8238077403245943, 0.8238077403245943, 0.8238077403245943, 0.8238077403245943, 0.8238077403245943, 0.8238077403245943, 0.8238077403245943, 0.8238077403245943, 0.8238077403245943, 0.8350187265917602, 0.8350187265917602]}], \"AUC_weighted\": [{\"categories\": [\"0\", \"1\", \"2\", \"3\", \"4\", \"5\", \"6\", \"7\", \"8\", \"9\", \"10\", \"11\", \"12\", \"13\", \"14\", \"15\", \"16\", \"17\", \"18\", \"19\", \"20\", \"21\", \"22\", \"23\", \"24\", \"25\", \"26\", \"27\", \"28\", \"29\", \"30\", \"31\", \"32\", \"33\", \"34\", \"35\", \"36\", \"37\", \"38\", \"39\", \"40\", \"46\", \"47\"], \"mode\": \"markers\", \"name\": \"AUC_weighted\", \"stepped\": false, \"type\": \"scatter\", \"data\": [0.8467774571995029, 0.8621626578726671, 0.8224841806800957, 0.7965733768855541, 0.6960665946178692, 0.8199826534966972, 0.8545621692115525, 0.8535705400237992, 0.818480641187084, 0.8546672984336512, 0.81952299435255, 0.8584736598811533, 0.8564709874562005, 0.8559936844683911, 0.8374255566189209, 0.8483197740414095, 0.8499709397899293, 0.8535070820787027, 0.8628384638004848, 0.8481062476486034, 0.8407953000230044, 0.8497998626639227, 0.8557954800470071, 0.8576073736007077, 0.849959296871514, 0.8357444959929303, 0.853605644607865, 0.8625084476371873, 0.8560951056116914, 0.850215416779261, 0.8539348558193363, 0.8517934400868585, 0.8544087176522656, 0.8471393444188895, 0.8385580133236304, 0.8431916959135461, 0.8290027999583808, 0.8513733030765197, 0.8308076818500606, 0.8422844120105607, 0.8433593465478936, 0.8620145861982367, 0.8636598118024448]}, {\"categories\": [\"0\", \"1\", \"2\", \"3\", \"4\", \"5\", \"6\", \"7\", \"8\", \"9\", \"10\", \"11\", \"12\", \"13\", \"14\", \"15\", \"16\", \"17\", \"18\", \"19\", \"20\", \"21\", \"22\", \"23\", \"24\", \"25\", \"26\", \"27\", \"28\", \"29\", \"30\", \"31\", \"32\", \"33\", \"34\", \"35\", \"36\", \"37\", \"38\", \"39\", \"40\", \"46\", \"47\"], \"mode\": \"lines\", \"name\": \"AUC_weighted_max\", \"stepped\": true, \"type\": \"scatter\", \"data\": [0.8467774571995029, 0.8621626578726671, 0.8621626578726671, 0.8621626578726671, 0.8621626578726671, 0.8621626578726671, 0.8621626578726671, 0.8621626578726671, 0.8621626578726671, 0.8621626578726671, 0.8621626578726671, 0.8621626578726671, 0.8621626578726671, 0.8621626578726671, 0.8621626578726671, 0.8621626578726671, 0.8621626578726671, 0.8621626578726671, 0.8628384638004848, 0.8628384638004848, 0.8628384638004848, 0.8628384638004848, 0.8628384638004848, 0.8628384638004848, 0.8628384638004848, 0.8628384638004848, 0.8628384638004848, 0.8628384638004848, 0.8628384638004848, 0.8628384638004848, 0.8628384638004848, 0.8628384638004848, 0.8628384638004848, 0.8628384638004848, 0.8628384638004848, 0.8628384638004848, 0.8628384638004848, 0.8628384638004848, 0.8628384638004848, 0.8628384638004848, 0.8628384638004848, 0.8628384638004848, 0.8636598118024448]}], \"average_precision_score_weighted\": [{\"categories\": [\"0\", \"1\", \"2\", \"3\", \"4\", \"5\", \"6\", \"7\", \"8\", \"9\", \"10\", \"11\", \"12\", \"13\", \"14\", \"15\", \"16\", \"17\", \"18\", \"19\", \"20\", \"21\", \"22\", \"23\", \"24\", \"25\", \"26\", \"27\", \"28\", \"29\", \"30\", \"31\", \"32\", \"33\", \"34\", \"35\", \"36\", \"37\", \"38\", \"39\", \"40\", \"46\", \"47\"], \"mode\": \"markers\", \"name\": \"average_precision_score_weighted\", \"stepped\": false, \"type\": \"scatter\", \"data\": [0.8428038638877933, 0.8616099442866776, 0.8142081700001214, 0.7907446666320463, 0.7021262557788275, 0.817683562448895, 0.8584690300277767, 0.8578144346956798, 0.8169971956995878, 0.8599713559317944, 0.8188894253804863, 0.8583420591569823, 0.8556925173340529, 0.8552732011953967, 0.8370228826038003, 0.8503769706923888, 0.8526599029146125, 0.8492488427042668, 0.8677736870385413, 0.8486421032818112, 0.8398121780097391, 0.8471486504523169, 0.8565391518205899, 0.8558328788021136, 0.8552013785152603, 0.8361525938133004, 0.8578277945935776, 0.859065608418948, 0.8614120173664348, 0.8478004172874858, 0.8500090694245568, 0.8538059487413081, 0.8558067116536094, 0.8506568575552725, 0.8403578210614523, 0.8447890157988335, 0.8315178622029731, 0.8531864991193526, 0.831813783912895, 0.8348136978793859, 0.8475325220292464, 0.8622664289719417, 0.862898909177568]}, {\"categories\": [\"0\", \"1\", \"2\", \"3\", \"4\", \"5\", \"6\", \"7\", \"8\", \"9\", \"10\", \"11\", \"12\", \"13\", \"14\", \"15\", \"16\", \"17\", \"18\", \"19\", \"20\", \"21\", \"22\", \"23\", \"24\", \"25\", \"26\", \"27\", \"28\", \"29\", \"30\", \"31\", \"32\", \"33\", \"34\", \"35\", \"36\", \"37\", \"38\", \"39\", \"40\", \"46\", \"47\"], \"mode\": \"lines\", \"name\": \"average_precision_score_weighted_max\", \"stepped\": true, \"type\": \"scatter\", \"data\": [0.8428038638877933, 0.8616099442866776, 0.8616099442866776, 0.8616099442866776, 0.8616099442866776, 0.8616099442866776, 0.8616099442866776, 0.8616099442866776, 0.8616099442866776, 0.8616099442866776, 0.8616099442866776, 0.8616099442866776, 0.8616099442866776, 0.8616099442866776, 0.8616099442866776, 0.8616099442866776, 0.8616099442866776, 0.8616099442866776, 0.8677736870385413, 0.8677736870385413, 0.8677736870385413, 0.8677736870385413, 0.8677736870385413, 0.8677736870385413, 0.8677736870385413, 0.8677736870385413, 0.8677736870385413, 0.8677736870385413, 0.8677736870385413, 0.8677736870385413, 0.8677736870385413, 0.8677736870385413, 0.8677736870385413, 0.8677736870385413, 0.8677736870385413, 0.8677736870385413, 0.8677736870385413, 0.8677736870385413, 0.8677736870385413, 0.8677736870385413, 0.8677736870385413, 0.8677736870385413, 0.8677736870385413]}], \"matthews_correlation\": [{\"categories\": [\"0\", \"1\", \"2\", \"3\", \"4\", \"5\", \"6\", \"7\", \"8\", \"9\", \"10\", \"11\", \"12\", \"13\", \"14\", \"15\", \"16\", \"17\", \"18\", \"19\", \"20\", \"21\", \"22\", \"23\", \"24\", \"25\", \"26\", \"27\", \"28\", \"29\", \"30\", \"31\", \"32\", \"33\", \"34\", \"35\", \"36\", \"37\", \"38\", \"39\", \"40\", \"46\", \"47\"], \"mode\": \"markers\", \"name\": \"matthews_correlation\", \"stepped\": false, \"type\": \"scatter\", \"data\": [0.6032715776617146, 0.592415935132043, 0.5448858290254944, 0.09097702395622917, 0.3543410768539072, 0.5415558625791242, 0.584919074854309, 0.5558510320805212, 0.5164725527312779, 0.5881796297998558, 0.5127048210928409, 0.5926202490852666, 0.6189248750894387, 0.586506505487834, 0.551119620023455, 0.5382078080679812, 0.5645549544063815, 0.5857581765126815, 0.6022932745834592, 0.5769658034603999, 0.5527124131304251, 0.6043896016441712, 0.5766837724520968, 0.585806467423837, 0.5557870849031624, 0.5497078407150185, 0.5957906430785895, 0.5918228830441313, 0.5625755174871359, 0.5579982679322196, 0.5783073801089492, 0.580122932427078, 0.5915879783004697, 0.5885263166231565, 0.5949502407391332, 0.5845692423898413, 0.5667844566989684, 0.5601765814341031, 0.5642961943956666, 0.5501200640682555, 0.5382102577420421, 0.6446547494102213, 0.6284875041186152]}, {\"categories\": [\"0\", \"1\", \"2\", \"3\", \"4\", \"5\", \"6\", \"7\", \"8\", \"9\", \"10\", \"11\", \"12\", \"13\", \"14\", \"15\", \"16\", \"17\", \"18\", \"19\", \"20\", \"21\", \"22\", \"23\", \"24\", \"25\", \"26\", \"27\", \"28\", \"29\", \"30\", \"31\", \"32\", \"33\", \"34\", \"35\", \"36\", \"37\", \"38\", \"39\", \"40\", \"46\", \"47\"], \"mode\": \"lines\", \"name\": \"matthews_correlation_max\", \"stepped\": true, \"type\": \"scatter\", \"data\": [0.6032715776617146, 0.6032715776617146, 0.6032715776617146, 0.6032715776617146, 0.6032715776617146, 0.6032715776617146, 0.6032715776617146, 0.6032715776617146, 0.6032715776617146, 0.6032715776617146, 0.6032715776617146, 0.6032715776617146, 0.6189248750894387, 0.6189248750894387, 0.6189248750894387, 0.6189248750894387, 0.6189248750894387, 0.6189248750894387, 0.6189248750894387, 0.6189248750894387, 0.6189248750894387, 0.6189248750894387, 0.6189248750894387, 0.6189248750894387, 0.6189248750894387, 0.6189248750894387, 0.6189248750894387, 0.6189248750894387, 0.6189248750894387, 0.6189248750894387, 0.6189248750894387, 0.6189248750894387, 0.6189248750894387, 0.6189248750894387, 0.6189248750894387, 0.6189248750894387, 0.6189248750894387, 0.6189248750894387, 0.6189248750894387, 0.6189248750894387, 0.6189248750894387, 0.6446547494102213, 0.6446547494102213]}], \"f1_score_micro\": [{\"categories\": [\"0\", \"1\", \"2\", \"3\", \"4\", \"5\", \"6\", \"7\", \"8\", \"9\", \"10\", \"11\", \"12\", \"13\", \"14\", \"15\", \"16\", \"17\", \"18\", \"19\", \"20\", \"21\", \"22\", \"23\", \"24\", \"25\", \"26\", \"27\", \"28\", \"29\", \"30\", \"31\", \"32\", \"33\", \"34\", \"35\", \"36\", \"37\", \"38\", \"39\", \"40\", \"46\", \"47\"], \"mode\": \"markers\", \"name\": \"f1_score_micro\", \"stepped\": false, \"type\": \"scatter\", \"data\": [0.8159550561797753, 0.8103121098626718, 0.786729088639201, 0.64187265917603, 0.6924843945068664, 0.7800249687890137, 0.8058302122347065, 0.7912359550561797, 0.7755430711610486, 0.8091760299625467, 0.7732958801498129, 0.8103245942571785, 0.8238077403245944, 0.8080898876404495, 0.7923720349563046, 0.782247191011236, 0.7968289637952559, 0.8080274656679152, 0.8136828963795255, 0.8013108614232209, 0.7878776529338328, 0.8170162297128588, 0.7990387016229712, 0.806916354556804, 0.7934831460674158, 0.792334581772784, 0.8125468164794007, 0.8092134831460674, 0.795705368289638, 0.7923096129837702, 0.804681647940075, 0.8046941323345816, 0.8103121098626715, 0.8092009987515605, 0.8125343320848938, 0.8080399500624219, 0.7946067415730338, 0.7901123595505617, 0.7923595505617979, 0.7822721598002498, 0.7822721598002497, 0.8350187265917602, 0.8271535580524343]}, {\"categories\": [\"0\", \"1\", \"2\", \"3\", \"4\", \"5\", \"6\", \"7\", \"8\", \"9\", \"10\", \"11\", \"12\", \"13\", \"14\", \"15\", \"16\", \"17\", \"18\", \"19\", \"20\", \"21\", \"22\", \"23\", \"24\", \"25\", \"26\", \"27\", \"28\", \"29\", \"30\", \"31\", \"32\", \"33\", \"34\", \"35\", \"36\", \"37\", \"38\", \"39\", \"40\", \"46\", \"47\"], \"mode\": \"lines\", \"name\": \"f1_score_micro_max\", \"stepped\": true, \"type\": \"scatter\", \"data\": [0.8159550561797753, 0.8159550561797753, 0.8159550561797753, 0.8159550561797753, 0.8159550561797753, 0.8159550561797753, 0.8159550561797753, 0.8159550561797753, 0.8159550561797753, 0.8159550561797753, 0.8159550561797753, 0.8159550561797753, 0.8238077403245944, 0.8238077403245944, 0.8238077403245944, 0.8238077403245944, 0.8238077403245944, 0.8238077403245944, 0.8238077403245944, 0.8238077403245944, 0.8238077403245944, 0.8238077403245944, 0.8238077403245944, 0.8238077403245944, 0.8238077403245944, 0.8238077403245944, 0.8238077403245944, 0.8238077403245944, 0.8238077403245944, 0.8238077403245944, 0.8238077403245944, 0.8238077403245944, 0.8238077403245944, 0.8238077403245944, 0.8238077403245944, 0.8238077403245944, 0.8238077403245944, 0.8238077403245944, 0.8238077403245944, 0.8238077403245944, 0.8238077403245944, 0.8350187265917602, 0.8350187265917602]}], \"AUC_macro\": [{\"categories\": [\"0\", \"1\", \"2\", \"3\", \"4\", \"5\", \"6\", \"7\", \"8\", \"9\", \"10\", \"11\", \"12\", \"13\", \"14\", \"15\", \"16\", \"17\", \"18\", \"19\", \"20\", \"21\", \"22\", \"23\", \"24\", \"25\", \"26\", \"27\", \"28\", \"29\", \"30\", \"31\", \"32\", \"33\", \"34\", \"35\", \"36\", \"37\", \"38\", \"39\", \"40\", \"46\", \"47\"], \"mode\": \"markers\", \"name\": \"AUC_macro\", \"stepped\": false, \"type\": \"scatter\", \"data\": [0.8467774571995029, 0.8621626578726671, 0.8224841806800957, 0.7965733768855541, 0.6960665946178692, 0.8199826534966972, 0.8545621692115525, 0.8535705400237991, 0.8184806411870842, 0.854667298433651, 0.81952299435255, 0.8584736598811533, 0.8564709874562005, 0.8559936844683909, 0.8374255566189209, 0.8483197740414095, 0.8499709397899293, 0.8535070820787027, 0.8628384638004848, 0.8481062476486034, 0.8407953000230046, 0.8497998626639227, 0.8557954800470071, 0.8576073736007075, 0.8499592968715138, 0.8357444959929303, 0.853605644607865, 0.8625084476371873, 0.8560951056116914, 0.8502154167792609, 0.8539348558193363, 0.8517934400868585, 0.8544087176522656, 0.8471393444188895, 0.8385580133236307, 0.8431916959135461, 0.8290027999583808, 0.8513733030765197, 0.8308076818500606, 0.8422844120105607, 0.8433593465478936, 0.8620145861982369, 0.8636598118024448]}, {\"categories\": [\"0\", \"1\", \"2\", \"3\", \"4\", \"5\", \"6\", \"7\", \"8\", \"9\", \"10\", \"11\", \"12\", \"13\", \"14\", \"15\", \"16\", \"17\", \"18\", \"19\", \"20\", \"21\", \"22\", \"23\", \"24\", \"25\", \"26\", \"27\", \"28\", \"29\", \"30\", \"31\", \"32\", \"33\", \"34\", \"35\", \"36\", \"37\", \"38\", \"39\", \"40\", \"46\", \"47\"], \"mode\": \"lines\", \"name\": \"AUC_macro_max\", \"stepped\": true, \"type\": \"scatter\", \"data\": [0.8467774571995029, 0.8621626578726671, 0.8621626578726671, 0.8621626578726671, 0.8621626578726671, 0.8621626578726671, 0.8621626578726671, 0.8621626578726671, 0.8621626578726671, 0.8621626578726671, 0.8621626578726671, 0.8621626578726671, 0.8621626578726671, 0.8621626578726671, 0.8621626578726671, 0.8621626578726671, 0.8621626578726671, 0.8621626578726671, 0.8628384638004848, 0.8628384638004848, 0.8628384638004848, 0.8628384638004848, 0.8628384638004848, 0.8628384638004848, 0.8628384638004848, 0.8628384638004848, 0.8628384638004848, 0.8628384638004848, 0.8628384638004848, 0.8628384638004848, 0.8628384638004848, 0.8628384638004848, 0.8628384638004848, 0.8628384638004848, 0.8628384638004848, 0.8628384638004848, 0.8628384638004848, 0.8628384638004848, 0.8628384638004848, 0.8628384638004848, 0.8628384638004848, 0.8628384638004848, 0.8636598118024448]}], \"accuracy\": [{\"categories\": [\"0\", \"1\", \"2\", \"3\", \"4\", \"5\", \"6\", \"7\", \"8\", \"9\", \"10\", \"11\", \"12\", \"13\", \"14\", \"15\", \"16\", \"17\", \"18\", \"19\", \"20\", \"21\", \"22\", \"23\", \"24\", \"25\", \"26\", \"27\", \"28\", \"29\", \"30\", \"31\", \"32\", \"33\", \"34\", \"35\", \"36\", \"37\", \"38\", \"39\", \"40\", \"46\", \"47\"], \"mode\": \"markers\", \"name\": \"accuracy\", \"stepped\": false, \"type\": \"scatter\", \"data\": [0.8159550561797753, 0.8103121098626718, 0.786729088639201, 0.64187265917603, 0.6924843945068664, 0.7800249687890137, 0.8058302122347065, 0.7912359550561797, 0.7755430711610486, 0.8091760299625468, 0.7732958801498129, 0.8103245942571784, 0.8238077403245943, 0.8080898876404495, 0.7923720349563046, 0.782247191011236, 0.7968289637952559, 0.8080274656679152, 0.8136828963795256, 0.8013108614232209, 0.7878776529338327, 0.8170162297128589, 0.7990387016229712, 0.806916354556804, 0.7934831460674157, 0.792334581772784, 0.8125468164794007, 0.8092134831460674, 0.795705368289638, 0.7923096129837702, 0.804681647940075, 0.8046941323345816, 0.8103121098626718, 0.8092009987515605, 0.8125343320848938, 0.8080399500624219, 0.7946067415730338, 0.7901123595505618, 0.7923595505617979, 0.7822721598002498, 0.7822721598002497, 0.8350187265917602, 0.8271535580524343]}, {\"categories\": [\"0\", \"1\", \"2\", \"3\", \"4\", \"5\", \"6\", \"7\", \"8\", \"9\", \"10\", \"11\", \"12\", \"13\", \"14\", \"15\", \"16\", \"17\", \"18\", \"19\", \"20\", \"21\", \"22\", \"23\", \"24\", \"25\", \"26\", \"27\", \"28\", \"29\", \"30\", \"31\", \"32\", \"33\", \"34\", \"35\", \"36\", \"37\", \"38\", \"39\", \"40\", \"46\", \"47\"], \"mode\": \"lines\", \"name\": \"accuracy_max\", \"stepped\": true, \"type\": \"scatter\", \"data\": [0.8159550561797753, 0.8159550561797753, 0.8159550561797753, 0.8159550561797753, 0.8159550561797753, 0.8159550561797753, 0.8159550561797753, 0.8159550561797753, 0.8159550561797753, 0.8159550561797753, 0.8159550561797753, 0.8159550561797753, 0.8238077403245943, 0.8238077403245943, 0.8238077403245943, 0.8238077403245943, 0.8238077403245943, 0.8238077403245943, 0.8238077403245943, 0.8238077403245943, 0.8238077403245943, 0.8238077403245943, 0.8238077403245943, 0.8238077403245943, 0.8238077403245943, 0.8238077403245943, 0.8238077403245943, 0.8238077403245943, 0.8238077403245943, 0.8238077403245943, 0.8238077403245943, 0.8238077403245943, 0.8238077403245943, 0.8238077403245943, 0.8238077403245943, 0.8238077403245943, 0.8238077403245943, 0.8238077403245943, 0.8238077403245943, 0.8238077403245943, 0.8238077403245943, 0.8350187265917602, 0.8350187265917602]}], \"recall_score_micro\": [{\"categories\": [\"0\", \"1\", \"2\", \"3\", \"4\", \"5\", \"6\", \"7\", \"8\", \"9\", \"10\", \"11\", \"12\", \"13\", \"14\", \"15\", \"16\", \"17\", \"18\", \"19\", \"20\", \"21\", \"22\", \"23\", \"24\", \"25\", \"26\", \"27\", \"28\", \"29\", \"30\", \"31\", \"32\", \"33\", \"34\", \"35\", \"36\", \"37\", \"38\", \"39\", \"40\", \"46\", \"47\"], \"mode\": \"markers\", \"name\": \"recall_score_micro\", \"stepped\": false, \"type\": \"scatter\", \"data\": [0.8159550561797753, 0.8103121098626718, 0.786729088639201, 0.64187265917603, 0.6924843945068664, 0.7800249687890137, 0.8058302122347065, 0.7912359550561797, 0.7755430711610486, 0.8091760299625468, 0.7732958801498129, 0.8103245942571784, 0.8238077403245943, 0.8080898876404495, 0.7923720349563046, 0.782247191011236, 0.7968289637952559, 0.8080274656679152, 0.8136828963795256, 0.8013108614232209, 0.7878776529338327, 0.8170162297128589, 0.7990387016229712, 0.806916354556804, 0.7934831460674157, 0.792334581772784, 0.8125468164794007, 0.8092134831460674, 0.795705368289638, 0.7923096129837702, 0.804681647940075, 0.8046941323345816, 0.8103121098626718, 0.8092009987515605, 0.8125343320848938, 0.8080399500624219, 0.7946067415730338, 0.7901123595505618, 0.7923595505617979, 0.7822721598002498, 0.7822721598002497, 0.8350187265917602, 0.8271535580524343]}, {\"categories\": [\"0\", \"1\", \"2\", \"3\", \"4\", \"5\", \"6\", \"7\", \"8\", \"9\", \"10\", \"11\", \"12\", \"13\", \"14\", \"15\", \"16\", \"17\", \"18\", \"19\", \"20\", \"21\", \"22\", \"23\", \"24\", \"25\", \"26\", \"27\", \"28\", \"29\", \"30\", \"31\", \"32\", \"33\", \"34\", \"35\", \"36\", \"37\", \"38\", \"39\", \"40\", \"46\", \"47\"], \"mode\": \"lines\", \"name\": \"recall_score_micro_max\", \"stepped\": true, \"type\": \"scatter\", \"data\": [0.8159550561797753, 0.8159550561797753, 0.8159550561797753, 0.8159550561797753, 0.8159550561797753, 0.8159550561797753, 0.8159550561797753, 0.8159550561797753, 0.8159550561797753, 0.8159550561797753, 0.8159550561797753, 0.8159550561797753, 0.8238077403245943, 0.8238077403245943, 0.8238077403245943, 0.8238077403245943, 0.8238077403245943, 0.8238077403245943, 0.8238077403245943, 0.8238077403245943, 0.8238077403245943, 0.8238077403245943, 0.8238077403245943, 0.8238077403245943, 0.8238077403245943, 0.8238077403245943, 0.8238077403245943, 0.8238077403245943, 0.8238077403245943, 0.8238077403245943, 0.8238077403245943, 0.8238077403245943, 0.8238077403245943, 0.8238077403245943, 0.8238077403245943, 0.8238077403245943, 0.8238077403245943, 0.8238077403245943, 0.8238077403245943, 0.8238077403245943, 0.8238077403245943, 0.8350187265917602, 0.8350187265917602]}], \"f1_score_macro\": [{\"categories\": [\"0\", \"1\", \"2\", \"3\", \"4\", \"5\", \"6\", \"7\", \"8\", \"9\", \"10\", \"11\", \"12\", \"13\", \"14\", \"15\", \"16\", \"17\", \"18\", \"19\", \"20\", \"21\", \"22\", \"23\", \"24\", \"25\", \"26\", \"27\", \"28\", \"29\", \"30\", \"31\", \"32\", \"33\", \"34\", \"35\", \"36\", \"37\", \"38\", \"39\", \"40\", \"46\", \"47\"], \"mode\": \"markers\", \"name\": \"f1_score_macro\", \"stepped\": false, \"type\": \"scatter\", \"data\": [0.7990999889871939, 0.7923133695689885, 0.769167438051449, 0.44040352724142656, 0.6460875543886695, 0.7676297256864336, 0.7903212490666893, 0.7643812960512568, 0.754244170235259, 0.7861551353718899, 0.7526212578116583, 0.7922896131332016, 0.80445024621469, 0.7888127336443371, 0.7713537419376699, 0.7666500361554736, 0.7790340315681402, 0.7881597424664105, 0.7981309156004951, 0.7835852983420336, 0.7742273974140328, 0.7979720039128242, 0.7657206070498374, 0.7870178195895625, 0.7719495059284965, 0.769006018889823, 0.7945787857816164, 0.793702287838517, 0.7733949174265774, 0.7581812895159676, 0.7807403679922642, 0.7851902183725532, 0.7900018655762104, 0.7912360795312119, 0.7915442562829785, 0.7869477050438336, 0.7809447237795079, 0.7776762103660141, 0.7796755068153415, 0.7715753624500075, 0.7652730014923256, 0.8181346119757331, 0.810334671280479]}, {\"categories\": [\"0\", \"1\", \"2\", \"3\", \"4\", \"5\", \"6\", \"7\", \"8\", \"9\", \"10\", \"11\", \"12\", \"13\", \"14\", \"15\", \"16\", \"17\", \"18\", \"19\", \"20\", \"21\", \"22\", \"23\", \"24\", \"25\", \"26\", \"27\", \"28\", \"29\", \"30\", \"31\", \"32\", \"33\", \"34\", \"35\", \"36\", \"37\", \"38\", \"39\", \"40\", \"46\", \"47\"], \"mode\": \"lines\", \"name\": \"f1_score_macro_max\", \"stepped\": true, \"type\": \"scatter\", \"data\": [0.7990999889871939, 0.7990999889871939, 0.7990999889871939, 0.7990999889871939, 0.7990999889871939, 0.7990999889871939, 0.7990999889871939, 0.7990999889871939, 0.7990999889871939, 0.7990999889871939, 0.7990999889871939, 0.7990999889871939, 0.80445024621469, 0.80445024621469, 0.80445024621469, 0.80445024621469, 0.80445024621469, 0.80445024621469, 0.80445024621469, 0.80445024621469, 0.80445024621469, 0.80445024621469, 0.80445024621469, 0.80445024621469, 0.80445024621469, 0.80445024621469, 0.80445024621469, 0.80445024621469, 0.80445024621469, 0.80445024621469, 0.80445024621469, 0.80445024621469, 0.80445024621469, 0.80445024621469, 0.80445024621469, 0.80445024621469, 0.80445024621469, 0.80445024621469, 0.80445024621469, 0.80445024621469, 0.80445024621469, 0.8181346119757331, 0.8181346119757331]}], \"precision_score_micro\": [{\"categories\": [\"0\", \"1\", \"2\", \"3\", \"4\", \"5\", \"6\", \"7\", \"8\", \"9\", \"10\", \"11\", \"12\", \"13\", \"14\", \"15\", \"16\", \"17\", \"18\", \"19\", \"20\", \"21\", \"22\", \"23\", \"24\", \"25\", \"26\", \"27\", \"28\", \"29\", \"30\", \"31\", \"32\", \"33\", \"34\", \"35\", \"36\", \"37\", \"38\", \"39\", \"40\", \"46\", \"47\"], \"mode\": \"markers\", \"name\": \"precision_score_micro\", \"stepped\": false, \"type\": \"scatter\", \"data\": [0.8159550561797753, 0.8103121098626718, 0.786729088639201, 0.64187265917603, 0.6924843945068664, 0.7800249687890137, 0.8058302122347065, 0.7912359550561797, 0.7755430711610486, 0.8091760299625468, 0.7732958801498129, 0.8103245942571784, 0.8238077403245943, 0.8080898876404495, 0.7923720349563046, 0.782247191011236, 0.7968289637952559, 0.8080274656679152, 0.8136828963795256, 0.8013108614232209, 0.7878776529338327, 0.8170162297128589, 0.7990387016229712, 0.806916354556804, 0.7934831460674157, 0.792334581772784, 0.8125468164794007, 0.8092134831460674, 0.795705368289638, 0.7923096129837702, 0.804681647940075, 0.8046941323345816, 0.8103121098626718, 0.8092009987515605, 0.8125343320848938, 0.8080399500624219, 0.7946067415730338, 0.7901123595505618, 0.7923595505617979, 0.7822721598002498, 0.7822721598002497, 0.8350187265917602, 0.8271535580524343]}, {\"categories\": [\"0\", \"1\", \"2\", \"3\", \"4\", \"5\", \"6\", \"7\", \"8\", \"9\", \"10\", \"11\", \"12\", \"13\", \"14\", \"15\", \"16\", \"17\", \"18\", \"19\", \"20\", \"21\", \"22\", \"23\", \"24\", \"25\", \"26\", \"27\", \"28\", \"29\", \"30\", \"31\", \"32\", \"33\", \"34\", \"35\", \"36\", \"37\", \"38\", \"39\", \"40\", \"46\", \"47\"], \"mode\": \"lines\", \"name\": \"precision_score_micro_max\", \"stepped\": true, \"type\": \"scatter\", \"data\": [0.8159550561797753, 0.8159550561797753, 0.8159550561797753, 0.8159550561797753, 0.8159550561797753, 0.8159550561797753, 0.8159550561797753, 0.8159550561797753, 0.8159550561797753, 0.8159550561797753, 0.8159550561797753, 0.8159550561797753, 0.8238077403245943, 0.8238077403245943, 0.8238077403245943, 0.8238077403245943, 0.8238077403245943, 0.8238077403245943, 0.8238077403245943, 0.8238077403245943, 0.8238077403245943, 0.8238077403245943, 0.8238077403245943, 0.8238077403245943, 0.8238077403245943, 0.8238077403245943, 0.8238077403245943, 0.8238077403245943, 0.8238077403245943, 0.8238077403245943, 0.8238077403245943, 0.8238077403245943, 0.8238077403245943, 0.8238077403245943, 0.8238077403245943, 0.8238077403245943, 0.8238077403245943, 0.8238077403245943, 0.8238077403245943, 0.8238077403245943, 0.8238077403245943, 0.8350187265917602, 0.8350187265917602]}], \"precision_score_weighted\": [{\"categories\": [\"0\", \"1\", \"2\", \"3\", \"4\", \"5\", \"6\", \"7\", \"8\", \"9\", \"10\", \"11\", \"12\", \"13\", \"14\", \"15\", \"16\", \"17\", \"18\", \"19\", \"20\", \"21\", \"22\", \"23\", \"24\", \"25\", \"26\", \"27\", \"28\", \"29\", \"30\", \"31\", \"32\", \"33\", \"34\", \"35\", \"36\", \"37\", \"38\", \"39\", \"40\", \"46\", \"47\"], \"mode\": \"markers\", \"name\": \"precision_score_weighted\", \"stepped\": false, \"type\": \"scatter\", \"data\": [0.8168656627926103, 0.813155805566935, 0.7908081977940858, 0.461357087802197, 0.7206187318966013, 0.7884232355485337, 0.8085231342811927, 0.8024119296219989, 0.7776653904488178, 0.8140666265109365, 0.7755489020657315, 0.8132819899584046, 0.8267057069218462, 0.8117689896335498, 0.7940411672248296, 0.786771669053819, 0.7998263873288687, 0.8102250728419677, 0.817009097253975, 0.8065285241459854, 0.7935357556061562, 0.8192761753488693, 0.818707390796402, 0.8111365572323553, 0.7983428042776862, 0.7940808564834559, 0.8143595383352767, 0.8116308515639338, 0.8021555183037788, 0.8083368516782518, 0.8097253100710471, 0.8083868893733651, 0.8140867429320044, 0.8115746000114944, 0.8160418147835179, 0.8108704917560832, 0.8001630676153401, 0.7968613953614236, 0.7991612501130465, 0.7928379569525591, 0.7876949607107695, 0.8379620541370836, 0.8303368679121037]}, {\"categories\": [\"0\", \"1\", \"2\", \"3\", \"4\", \"5\", \"6\", \"7\", \"8\", \"9\", \"10\", \"11\", \"12\", \"13\", \"14\", \"15\", \"16\", \"17\", \"18\", \"19\", \"20\", \"21\", \"22\", \"23\", \"24\", \"25\", \"26\", \"27\", \"28\", \"29\", \"30\", \"31\", \"32\", \"33\", \"34\", \"35\", \"36\", \"37\", \"38\", \"39\", \"40\", \"46\", \"47\"], \"mode\": \"lines\", \"name\": \"precision_score_weighted_max\", \"stepped\": true, \"type\": \"scatter\", \"data\": [0.8168656627926103, 0.8168656627926103, 0.8168656627926103, 0.8168656627926103, 0.8168656627926103, 0.8168656627926103, 0.8168656627926103, 0.8168656627926103, 0.8168656627926103, 0.8168656627926103, 0.8168656627926103, 0.8168656627926103, 0.8267057069218462, 0.8267057069218462, 0.8267057069218462, 0.8267057069218462, 0.8267057069218462, 0.8267057069218462, 0.8267057069218462, 0.8267057069218462, 0.8267057069218462, 0.8267057069218462, 0.8267057069218462, 0.8267057069218462, 0.8267057069218462, 0.8267057069218462, 0.8267057069218462, 0.8267057069218462, 0.8267057069218462, 0.8267057069218462, 0.8267057069218462, 0.8267057069218462, 0.8267057069218462, 0.8267057069218462, 0.8267057069218462, 0.8267057069218462, 0.8267057069218462, 0.8267057069218462, 0.8267057069218462, 0.8267057069218462, 0.8267057069218462, 0.8379620541370836, 0.8379620541370836]}], \"f1_score_weighted\": [{\"categories\": [\"0\", \"1\", \"2\", \"3\", \"4\", \"5\", \"6\", \"7\", \"8\", \"9\", \"10\", \"11\", \"12\", \"13\", \"14\", \"15\", \"16\", \"17\", \"18\", \"19\", \"20\", \"21\", \"22\", \"23\", \"24\", \"25\", \"26\", \"27\", \"28\", \"29\", \"30\", \"31\", \"32\", \"33\", \"34\", \"35\", \"36\", \"37\", \"38\", \"39\", \"40\", \"46\", \"47\"], \"mode\": \"markers\", \"name\": \"f1_score_weighted\", \"stepped\": false, \"type\": \"scatter\", \"data\": [0.8139616594466386, 0.8079135259513304, 0.7856593982711908, 0.519982730426352, 0.6727607211828613, 0.7813412559964219, 0.805135171324473, 0.7837178381182108, 0.7727515949562352, 0.8040579592444093, 0.7708153158080137, 0.8078632189783452, 0.8204035336280967, 0.8056281987939402, 0.7891473091172732, 0.7822286627304155, 0.7951725791517834, 0.8045818321997225, 0.8124723840320115, 0.7991683168544956, 0.7887740445852387, 0.8140938235661507, 0.7866429925113365, 0.8032337114015894, 0.7901311515773282, 0.7875200041504634, 0.8102720435506742, 0.8082606368714984, 0.7912658258424996, 0.779962242077924, 0.7989955381437365, 0.8018281179452673, 0.8065569080124855, 0.8074751127251334, 0.8085247313624846, 0.8043176019104618, 0.7951445777067108, 0.7913199012546099, 0.7934997451155754, 0.7843907656586762, 0.7813579514676813, 0.8324744499456063, 0.8249819636524265]}, {\"categories\": [\"0\", \"1\", \"2\", \"3\", \"4\", \"5\", \"6\", \"7\", \"8\", \"9\", \"10\", \"11\", \"12\", \"13\", \"14\", \"15\", \"16\", \"17\", \"18\", \"19\", \"20\", \"21\", \"22\", \"23\", \"24\", \"25\", \"26\", \"27\", \"28\", \"29\", \"30\", \"31\", \"32\", \"33\", \"34\", \"35\", \"36\", \"37\", \"38\", \"39\", \"40\", \"46\", \"47\"], \"mode\": \"lines\", \"name\": \"f1_score_weighted_max\", \"stepped\": true, \"type\": \"scatter\", \"data\": [0.8139616594466386, 0.8139616594466386, 0.8139616594466386, 0.8139616594466386, 0.8139616594466386, 0.8139616594466386, 0.8139616594466386, 0.8139616594466386, 0.8139616594466386, 0.8139616594466386, 0.8139616594466386, 0.8139616594466386, 0.8204035336280967, 0.8204035336280967, 0.8204035336280967, 0.8204035336280967, 0.8204035336280967, 0.8204035336280967, 0.8204035336280967, 0.8204035336280967, 0.8204035336280967, 0.8204035336280967, 0.8204035336280967, 0.8204035336280967, 0.8204035336280967, 0.8204035336280967, 0.8204035336280967, 0.8204035336280967, 0.8204035336280967, 0.8204035336280967, 0.8204035336280967, 0.8204035336280967, 0.8204035336280967, 0.8204035336280967, 0.8204035336280967, 0.8204035336280967, 0.8204035336280967, 0.8204035336280967, 0.8204035336280967, 0.8204035336280967, 0.8204035336280967, 0.8324744499456063, 0.8324744499456063]}], \"log_loss\": [{\"categories\": [\"0\", \"1\", \"2\", \"3\", \"4\", \"5\", \"6\", \"7\", \"8\", \"9\", \"10\", \"11\", \"12\", \"13\", \"14\", \"15\", \"16\", \"17\", \"18\", \"19\", \"20\", \"21\", \"22\", \"23\", \"24\", \"25\", \"26\", \"27\", \"28\", \"29\", \"30\", \"31\", \"32\", \"33\", \"34\", \"35\", \"36\", \"37\", \"38\", \"39\", \"40\", \"46\", \"47\"], \"mode\": \"markers\", \"name\": \"log_loss\", \"stepped\": false, \"type\": \"scatter\", \"data\": [0.5726700833433668, 0.44036437917585286, 0.5069950796866995, 0.6204183861281922, 0.6825815582057049, 0.5479728478178006, 0.4500580160369977, 0.5351901240973589, 1.295812970381362, 0.4428991135740272, 0.9881105315313532, 0.45313902949289425, 0.44018728887708514, 0.4745606010817651, 0.559357978024312, 0.47384604534526664, 0.4461084569018058, 0.45923974319308397, 0.4430817627363326, 0.46918604084640547, 0.45277896759830727, 0.4369138341192106, 0.5179197808265817, 0.43092222830057614, 0.44517414894677854, 0.5113688815921147, 0.45476669383449514, 0.496901863418001, 0.4403771157646621, 0.5131438929442594, 0.4632485806667811, 0.4481413900982657, 0.47313931154742167, 0.4577083183949866, 0.49108833505475386, 0.47989678561673016, 0.6609779634594126, 0.4717570141442402, 0.5432502194355471, 0.4771815387698754, 0.4911121837187878, 0.43880644654833895, 0.42167590501636865]}, {\"categories\": [\"0\", \"1\", \"2\", \"3\", \"4\", \"5\", \"6\", \"7\", \"8\", \"9\", \"10\", \"11\", \"12\", \"13\", \"14\", \"15\", \"16\", \"17\", \"18\", \"19\", \"20\", \"21\", \"22\", \"23\", \"24\", \"25\", \"26\", \"27\", \"28\", \"29\", \"30\", \"31\", \"32\", \"33\", \"34\", \"35\", \"36\", \"37\", \"38\", \"39\", \"40\", \"46\", \"47\"], \"mode\": \"lines\", \"name\": \"log_loss_min\", \"stepped\": true, \"type\": \"scatter\", \"data\": [0.5726700833433668, 0.44036437917585286, 0.44036437917585286, 0.44036437917585286, 0.44036437917585286, 0.44036437917585286, 0.44036437917585286, 0.44036437917585286, 0.44036437917585286, 0.44036437917585286, 0.44036437917585286, 0.44036437917585286, 0.44018728887708514, 0.44018728887708514, 0.44018728887708514, 0.44018728887708514, 0.44018728887708514, 0.44018728887708514, 0.44018728887708514, 0.44018728887708514, 0.44018728887708514, 0.4369138341192106, 0.4369138341192106, 0.43092222830057614, 0.43092222830057614, 0.43092222830057614, 0.43092222830057614, 0.43092222830057614, 0.43092222830057614, 0.43092222830057614, 0.43092222830057614, 0.43092222830057614, 0.43092222830057614, 0.43092222830057614, 0.43092222830057614, 0.43092222830057614, 0.43092222830057614, 0.43092222830057614, 0.43092222830057614, 0.43092222830057614, 0.43092222830057614, 0.43092222830057614, 0.42167590501636865]}], \"norm_macro_recall\": [{\"categories\": [\"0\", \"1\", \"2\", \"3\", \"4\", \"5\", \"6\", \"7\", \"8\", \"9\", \"10\", \"11\", \"12\", \"13\", \"14\", \"15\", \"16\", \"17\", \"18\", \"19\", \"20\", \"21\", \"22\", \"23\", \"24\", \"25\", \"26\", \"27\", \"28\", \"29\", \"30\", \"31\", \"32\", \"33\", \"34\", \"35\", \"36\", \"37\", \"38\", \"39\", \"40\", \"46\", \"47\"], \"mode\": \"markers\", \"name\": \"norm_macro_recall\", \"stepped\": false, \"type\": \"scatter\", \"data\": [0.590559978148985, 0.5797623151506138, 0.5359095222742007, 0.07140350877192983, 0.3289818605623814, 0.5472579723936464, 0.5801896344110116, 0.5165932040711143, 0.5011860247207124, 0.5578356770708319, 0.49912981659433714, 0.5780604958471259, 0.5968581600310001, 0.5704784180604248, 0.5332021035409327, 0.5363718615116833, 0.5542196181855502, 0.5643490376345819, 0.5942392064286127, 0.5646143120143968, 0.5554072851766394, 0.5856646607134766, 0.5118892393600178, 0.5654095916734642, 0.5388617341467674, 0.5269313922598046, 0.5809865613281214, 0.5867239434754298, 0.541009599123717, 0.4975940958594431, 0.5473975515177761, 0.5647888876491579, 0.5693137921384671, 0.5756744886186944, 0.570870594892961, 0.5614778208546379, 0.5675484218502133, 0.5645917370242464, 0.5683950900906666, 0.5591486590280382, 0.5311087631835694, 0.624096550744315, 0.6123451223268807]}, {\"categories\": [\"0\", \"1\", \"2\", \"3\", \"4\", \"5\", \"6\", \"7\", \"8\", \"9\", \"10\", \"11\", \"12\", \"13\", \"14\", \"15\", \"16\", \"17\", \"18\", \"19\", \"20\", \"21\", \"22\", \"23\", \"24\", \"25\", \"26\", \"27\", \"28\", \"29\", \"30\", \"31\", \"32\", \"33\", \"34\", \"35\", \"36\", \"37\", \"38\", \"39\", \"40\", \"46\", \"47\"], \"mode\": \"lines\", \"name\": \"norm_macro_recall_max\", \"stepped\": true, \"type\": \"scatter\", \"data\": [0.590559978148985, 0.590559978148985, 0.590559978148985, 0.590559978148985, 0.590559978148985, 0.590559978148985, 0.590559978148985, 0.590559978148985, 0.590559978148985, 0.590559978148985, 0.590559978148985, 0.590559978148985, 0.5968581600310001, 0.5968581600310001, 0.5968581600310001, 0.5968581600310001, 0.5968581600310001, 0.5968581600310001, 0.5968581600310001, 0.5968581600310001, 0.5968581600310001, 0.5968581600310001, 0.5968581600310001, 0.5968581600310001, 0.5968581600310001, 0.5968581600310001, 0.5968581600310001, 0.5968581600310001, 0.5968581600310001, 0.5968581600310001, 0.5968581600310001, 0.5968581600310001, 0.5968581600310001, 0.5968581600310001, 0.5968581600310001, 0.5968581600310001, 0.5968581600310001, 0.5968581600310001, 0.5968581600310001, 0.5968581600310001, 0.5968581600310001, 0.624096550744315, 0.624096550744315]}], \"average_precision_score_macro\": [{\"categories\": [\"0\", \"1\", \"2\", \"3\", \"4\", \"5\", \"6\", \"7\", \"8\", \"9\", \"10\", \"11\", \"12\", \"13\", \"14\", \"15\", \"16\", \"17\", \"18\", \"19\", \"20\", \"21\", \"22\", \"23\", \"24\", \"25\", \"26\", \"27\", \"28\", \"29\", \"30\", \"31\", \"32\", \"33\", \"34\", \"35\", \"36\", \"37\", \"38\", \"39\", \"40\", \"46\", \"47\"], \"mode\": \"markers\", \"name\": \"average_precision_score_macro\", \"stepped\": false, \"type\": \"scatter\", \"data\": [0.8339116448220197, 0.8518954838245054, 0.7941479301095425, 0.7732181354374026, 0.6746903181485943, 0.7987586501976762, 0.8484723327566217, 0.8454009702496684, 0.8040712464514701, 0.8522141888288616, 0.8061260314820817, 0.8515612820351102, 0.8486102123541119, 0.8469026666717914, 0.8269540135074855, 0.8415918124296512, 0.8436631916278385, 0.8432675988450097, 0.8605972949856291, 0.8419032486348487, 0.8326894455408581, 0.8409874644119555, 0.8491662450458136, 0.8490862168379527, 0.8467110050836751, 0.8252939214451315, 0.8471511150158255, 0.8487800918900905, 0.8521966891327792, 0.8418118861014408, 0.8427682991354754, 0.8443518415816953, 0.8502603709954009, 0.8397185079415692, 0.8302477480311129, 0.8325887729704645, 0.8158812062948225, 0.845338500819776, 0.8143319141670796, 0.8269875351295735, 0.8368745549096201, 0.8555433074225899, 0.8564542497328264]}, {\"categories\": [\"0\", \"1\", \"2\", \"3\", \"4\", \"5\", \"6\", \"7\", \"8\", \"9\", \"10\", \"11\", \"12\", \"13\", \"14\", \"15\", \"16\", \"17\", \"18\", \"19\", \"20\", \"21\", \"22\", \"23\", \"24\", \"25\", \"26\", \"27\", \"28\", \"29\", \"30\", \"31\", \"32\", \"33\", \"34\", \"35\", \"36\", \"37\", \"38\", \"39\", \"40\", \"46\", \"47\"], \"mode\": \"lines\", \"name\": \"average_precision_score_macro_max\", \"stepped\": true, \"type\": \"scatter\", \"data\": [0.8339116448220197, 0.8518954838245054, 0.8518954838245054, 0.8518954838245054, 0.8518954838245054, 0.8518954838245054, 0.8518954838245054, 0.8518954838245054, 0.8518954838245054, 0.8522141888288616, 0.8522141888288616, 0.8522141888288616, 0.8522141888288616, 0.8522141888288616, 0.8522141888288616, 0.8522141888288616, 0.8522141888288616, 0.8522141888288616, 0.8605972949856291, 0.8605972949856291, 0.8605972949856291, 0.8605972949856291, 0.8605972949856291, 0.8605972949856291, 0.8605972949856291, 0.8605972949856291, 0.8605972949856291, 0.8605972949856291, 0.8605972949856291, 0.8605972949856291, 0.8605972949856291, 0.8605972949856291, 0.8605972949856291, 0.8605972949856291, 0.8605972949856291, 0.8605972949856291, 0.8605972949856291, 0.8605972949856291, 0.8605972949856291, 0.8605972949856291, 0.8605972949856291, 0.8605972949856291, 0.8605972949856291]}]}, \"metricName\": null, \"primaryMetricName\": \"accuracy\", \"showLegend\": false}, \"run_metrics\": [{\"name\": \"experiment_status\", \"run_id\": \"AutoML_2e98f987-8c25-4dd3-a149-4ea7f8c9b5c1\", \"categories\": [0, 1, 2, 3, 4, 5, 6, 7, 8, 9, 10, 11, 12, 13], \"series\": [{\"data\": [\"DatasetEvaluation\", \"FeaturesGeneration\", \"DatasetFeaturization\", \"DatasetFeaturizationCompleted\", \"DatasetCrossValidationSplit\", \"ModelSelection\", \"BestRunExplainModel\", \"ModelExplanationDataSetSetup\", \"PickSurrogateModel\", \"EngineeredFeatureExplanations\", \"EngineeredFeatureExplanations\", \"RawFeaturesExplanations\", \"RawFeaturesExplanations\", \"BestRunExplainModel\"]}]}, {\"name\": \"experiment_status_description\", \"run_id\": \"AutoML_2e98f987-8c25-4dd3-a149-4ea7f8c9b5c1\", \"categories\": [0, 1, 2, 3, 4, 5, 6, 7, 8, 9, 10, 11, 12, 13], \"series\": [{\"data\": [\"Gathering dataset statistics.\", \"Generating features for the dataset.\", \"Beginning to fit featurizers and featurize the dataset.\", \"Completed fit featurizers and featurizing the dataset.\", \"Generating individually featurized CV splits.\", \"Beginning model selection.\", \"Best run model explanations started\", \"Model explanations data setup completed\", \"Choosing LinearModel as the surrogate model for explanations\", \"Computation of engineered features started\", \"Computation of engineered features completed\", \"Computation of raw features started\", \"Computation of raw features completed\", \"Best run model explanations completed\"]}]}, {\"name\": \"AUC_macro\", \"run_id\": \"AutoML_2e98f987-8c25-4dd3-a149-4ea7f8c9b5c1\", \"categories\": [0], \"series\": [{\"data\": [0.8620145861982369]}]}, {\"name\": \"matthews_correlation\", \"run_id\": \"AutoML_2e98f987-8c25-4dd3-a149-4ea7f8c9b5c1\", \"categories\": [0], \"series\": [{\"data\": [0.6446547494102213]}]}, {\"name\": \"precision_score_weighted\", \"run_id\": \"AutoML_2e98f987-8c25-4dd3-a149-4ea7f8c9b5c1\", \"categories\": [0], \"series\": [{\"data\": [0.8379620541370836]}]}, {\"name\": \"average_precision_score_macro\", \"run_id\": \"AutoML_2e98f987-8c25-4dd3-a149-4ea7f8c9b5c1\", \"categories\": [0], \"series\": [{\"data\": [0.8555433074225899]}]}, {\"name\": \"f1_score_weighted\", \"run_id\": \"AutoML_2e98f987-8c25-4dd3-a149-4ea7f8c9b5c1\", \"categories\": [0], \"series\": [{\"data\": [0.8324744499456063]}]}, {\"name\": \"AUC_micro\", \"run_id\": \"AutoML_2e98f987-8c25-4dd3-a149-4ea7f8c9b5c1\", \"categories\": [0], \"series\": [{\"data\": [0.8793613803594444]}]}, {\"name\": \"AUC_weighted\", \"run_id\": \"AutoML_2e98f987-8c25-4dd3-a149-4ea7f8c9b5c1\", \"categories\": [0], \"series\": [{\"data\": [0.8620145861982367]}]}, {\"name\": \"precision_score_macro\", \"run_id\": \"AutoML_2e98f987-8c25-4dd3-a149-4ea7f8c9b5c1\", \"categories\": [0], \"series\": [{\"data\": [0.8331481289218134]}]}, {\"name\": \"precision_score_micro\", \"run_id\": \"AutoML_2e98f987-8c25-4dd3-a149-4ea7f8c9b5c1\", \"categories\": [0], \"series\": [{\"data\": [0.8350187265917602]}]}, {\"name\": \"recall_score_macro\", \"run_id\": \"AutoML_2e98f987-8c25-4dd3-a149-4ea7f8c9b5c1\", \"categories\": [0], \"series\": [{\"data\": [0.8120482753721575]}]}, {\"name\": \"f1_score_macro\", \"run_id\": \"AutoML_2e98f987-8c25-4dd3-a149-4ea7f8c9b5c1\", \"categories\": [0], \"series\": [{\"data\": [0.8181346119757331]}]}, {\"name\": \"log_loss\", \"run_id\": \"AutoML_2e98f987-8c25-4dd3-a149-4ea7f8c9b5c1\", \"categories\": [0], \"series\": [{\"data\": [0.43880644654833895]}]}, {\"name\": \"balanced_accuracy\", \"run_id\": \"AutoML_2e98f987-8c25-4dd3-a149-4ea7f8c9b5c1\", \"categories\": [0], \"series\": [{\"data\": [0.8120482753721575]}]}, {\"name\": \"recall_score_micro\", \"run_id\": \"AutoML_2e98f987-8c25-4dd3-a149-4ea7f8c9b5c1\", \"categories\": [0], \"series\": [{\"data\": [0.8350187265917602]}]}, {\"name\": \"f1_score_micro\", \"run_id\": \"AutoML_2e98f987-8c25-4dd3-a149-4ea7f8c9b5c1\", \"categories\": [0], \"series\": [{\"data\": [0.8350187265917602]}]}, {\"name\": \"accuracy\", \"run_id\": \"AutoML_2e98f987-8c25-4dd3-a149-4ea7f8c9b5c1\", \"categories\": [0], \"series\": [{\"data\": [0.8350187265917602]}]}, {\"name\": \"average_precision_score_micro\", \"run_id\": \"AutoML_2e98f987-8c25-4dd3-a149-4ea7f8c9b5c1\", \"categories\": [0], \"series\": [{\"data\": [0.8582100371911207]}]}, {\"name\": \"weighted_accuracy\", \"run_id\": \"AutoML_2e98f987-8c25-4dd3-a149-4ea7f8c9b5c1\", \"categories\": [0], \"series\": [{\"data\": [0.8545275982918492]}]}, {\"name\": \"recall_score_weighted\", \"run_id\": \"AutoML_2e98f987-8c25-4dd3-a149-4ea7f8c9b5c1\", \"categories\": [0], \"series\": [{\"data\": [0.8350187265917602]}]}, {\"name\": \"norm_macro_recall\", \"run_id\": \"AutoML_2e98f987-8c25-4dd3-a149-4ea7f8c9b5c1\", \"categories\": [0], \"series\": [{\"data\": [0.624096550744315]}]}, {\"name\": \"average_precision_score_weighted\", \"run_id\": \"AutoML_2e98f987-8c25-4dd3-a149-4ea7f8c9b5c1\", \"categories\": [0], \"series\": [{\"data\": [0.8622664289719417]}]}], \"run_logs\": \"\\nRun is completed.\", \"graph\": {}, \"widget_settings\": {\"childWidgetDisplay\": \"popup\", \"send_telemetry\": false, \"log_level\": \"INFO\", \"sdk_version\": \"1.26.0\"}, \"loading\": false}"
          },
          "metadata": {}
        },
        {
          "output_type": "display_data",
          "data": {
            "text/plain": "<IPython.core.display.HTML object>",
            "text/html": "<table style=\"width:100%\"><tr><th>Experiment</th><th>Id</th><th>Type</th><th>Status</th><th>Details Page</th><th>Docs Page</th></tr><tr><td>automl</td><td>AutoML_2e98f987-8c25-4dd3-a149-4ea7f8c9b5c1</td><td>automl</td><td>Completed</td><td><a href=\"https://ml.azure.com/runs/AutoML_2e98f987-8c25-4dd3-a149-4ea7f8c9b5c1?wsid=/subscriptions/510b94ba-e453-4417-988b-fbdc37b55ca7/resourcegroups/aml-quickstarts-143180/workspaces/quick-starts-ws-143180&amp;tid=660b3398-b80e-49d2-bc5b-ac1dc93b5254\" target=\"_blank\" rel=\"noopener\">Link to Azure Machine Learning studio</a></td><td><a href=\"https://docs.microsoft.com/en-us/python/api/overview/azure/ml/intro?view=azure-ml-py\" target=\"_blank\" rel=\"noopener\">Link to Documentation</a></td></tr></table>"
          },
          "metadata": {}
        },
        {
          "output_type": "stream",
          "name": "stdout",
          "text": [
            "\n",
            "\n",
            "****************************************************************************************************\n",
            "DATA GUARDRAILS: \n",
            "\n",
            "TYPE:         Cross validation\n",
            "STATUS:       DONE\n",
            "DESCRIPTION:  Each iteration of the trained model was validated through cross-validation.\n",
            "              \n",
            "DETAILS:      \n",
            "+---------------------------------+\n",
            "|Number of folds                  |\n",
            "+=================================+\n",
            "|10                               |\n",
            "+---------------------------------+\n",
            "\n",
            "****************************************************************************************************\n",
            "\n",
            "TYPE:         Class balancing detection\n",
            "STATUS:       PASSED\n",
            "DESCRIPTION:  Your inputs were analyzed, and all classes are balanced in your training data.\n",
            "              Learn more about imbalanced data: https://aka.ms/AutomatedMLImbalancedData\n",
            "\n",
            "****************************************************************************************************\n",
            "\n",
            "TYPE:         Missing feature values imputation\n",
            "STATUS:       DONE\n",
            "DESCRIPTION:  If the missing values are expected, let the run complete. Otherwise cancel the current run and use a script to customize the handling of missing feature values that may be more appropriate based on the data type and business requirement.\n",
            "              Learn more about missing value imputation: https://aka.ms/AutomatedMLFeaturization\n",
            "DETAILS:      \n",
            "+---------------------------------+---------------------------------+---------------------------------+\n",
            "|Column name                      |Missing value count              |Imputation type                  |\n",
            "+=================================+=================================+=================================+\n",
            "|Age                              |177                              |mean                             |\n",
            "|Embarked                         |2                                |                                 |\n",
            "+---------------------------------+---------------------------------+---------------------------------+\n",
            "\n",
            "****************************************************************************************************\n",
            "\n",
            "TYPE:         High cardinality feature detection\n",
            "STATUS:       DONE\n",
            "DESCRIPTION:  High cardinality features were detected in your inputs and handled.\n",
            "              Learn more about high cardinality feature handling: https://aka.ms/AutomatedMLFeaturization\n",
            "DETAILS:      High cardinality features refer to columns that contain a large percentage of unique values.\n",
            "+---------------------------------+---------------------------------+\n",
            "|Column name                      |Column Content Type              |\n",
            "+=================================+=================================+\n",
            "|Name                             |text                             |\n",
            "+---------------------------------+---------------------------------+\n",
            "\n",
            "****************************************************************************************************\n",
            "\n",
            "****************************************************************************************************\n",
            "ITERATION: The iteration being evaluated.\n",
            "PIPELINE: A summary description of the pipeline being evaluated.\n",
            "DURATION: Time taken for the current iteration.\n",
            "METRIC: The result of computing score on the fitted pipeline.\n",
            "BEST: The best observed score thus far.\n",
            "****************************************************************************************************\n",
            "\n",
            " ITERATION   PIPELINE                                       DURATION      METRIC      BEST\n",
            "         0   MaxAbsScaler LightGBM                          0:00:52       0.8160    0.8160\n",
            "         1   MaxAbsScaler XGBoostClassifier                 0:01:47       0.8103    0.8160\n",
            "         2   MaxAbsScaler RandomForest                      0:00:44       0.7867    0.8160\n",
            "         3   MaxAbsScaler RandomForest                      0:00:48       0.6419    0.8160\n",
            "         4   MaxAbsScaler RandomForest                      0:01:33       0.6925    0.8160\n",
            "         5   MaxAbsScaler RandomForest                      0:00:52       0.7800    0.8160\n",
            "         6   StandardScalerWrapper XGBoostClassifier        0:01:55       0.8058    0.8160\n",
            "         7   MaxAbsScaler LightGBM                          0:00:56       0.7912    0.8160\n",
            "         8   StandardScalerWrapper LogisticRegression       0:00:52       0.7755    0.8160\n",
            "        10   StandardScalerWrapper LogisticRegression       0:01:34       0.7733    0.8160\n",
            "        11   MaxAbsScaler LightGBM                          0:02:04       0.8103    0.8160\n",
            "        12   StandardScalerWrapper LightGBM                 0:01:42       0.8238    0.8238\n",
            "        13   SparseNormalizer XGBoostClassifier             0:02:01       0.8081    0.8238\n",
            "        14   StandardScalerWrapper LogisticRegression       0:02:35       0.7924    0.8238\n",
            "        15   MaxAbsScaler RandomForest                      0:01:10       0.7822    0.8238\n",
            "        16   SparseNormalizer LightGBM                      0:00:45       0.7968    0.8238\n",
            "        17   MaxAbsScaler LightGBM                          0:00:45       0.8080    0.8238\n",
            "         9   SparseNormalizer XGBoostClassifier             0:00:59       0.8092    0.8238\n",
            "        18   StandardScalerWrapper RandomForest             0:00:47       0.8137    0.8238\n",
            "        19   MaxAbsScaler LightGBM                          0:00:43       0.8013    0.8238\n",
            "        20   MaxAbsScaler RandomForest                      0:01:25       0.7879    0.8238\n",
            "        21   StandardScalerWrapper ExtremeRandomTrees       0:00:48       0.8170    0.8238\n",
            "        22   StandardScalerWrapper LightGBM                 0:00:49       0.7990    0.8238\n",
            "        23   MaxAbsScaler LightGBM                          0:00:56       0.8069    0.8238\n",
            "        24   SparseNormalizer XGBoostClassifier             0:01:00       0.7935    0.8238\n",
            "        25   TruncatedSVDWrapper XGBoostClassifier          0:00:58       0.7923    0.8238\n",
            "        26   MaxAbsScaler LightGBM                          0:00:49       0.8125    0.8238\n",
            "        27   StandardScalerWrapper XGBoostClassifier        0:00:48       0.8092    0.8238\n",
            "        28   SparseNormalizer XGBoostClassifier             0:00:50       0.7957    0.8238\n",
            "        29   MaxAbsScaler LightGBM                          0:00:48       0.7923    0.8238\n",
            "        30   MaxAbsScaler LightGBM                          0:01:52       0.8047    0.8238\n",
            "        31   SparseNormalizer XGBoostClassifier             0:01:21       0.8047    0.8238\n",
            "        32   SparseNormalizer XGBoostClassifier             0:00:45       0.8103    0.8238\n",
            "        33   MaxAbsScaler LightGBM                          0:00:46       0.8092    0.8238\n",
            "        34   TruncatedSVDWrapper XGBoostClassifier          0:01:07       0.8125    0.8238\n",
            "        35   TruncatedSVDWrapper LightGBM                   0:00:55       0.8080    0.8238\n",
            "        36   MaxAbsScaler ExtremeRandomTrees                0:01:04       0.7946    0.8238\n",
            "        37   MaxAbsScaler ExtremeRandomTrees                0:00:51       0.7901    0.8238\n",
            "        38   SparseNormalizer ExtremeRandomTrees            0:00:56       0.7924    0.8238\n",
            "        39   StandardScalerWrapper ExtremeRandomTrees       0:00:47       0.7823    0.8238\n",
            "        40   MaxAbsScaler LightGBM                          0:00:37       0.7823    0.8238\n",
            "        41   StandardScalerWrapper RandomForest             0:00:27          nan    0.8238\n",
            "        42   MaxAbsScaler RandomForest                      0:00:24          nan    0.8238\n",
            "        43                                                  0:00:18          nan    0.8238\n",
            "        44                                                  0:00:14          nan    0.8238\n",
            "        45                                                  0:00:13          nan    0.8238\n",
            "        46    VotingEnsemble                                0:01:36       0.8350    0.8350\n",
            "        47    StackEnsemble                                 0:01:44       0.8272    0.8350\n"
          ]
        },
        {
          "output_type": "execute_result",
          "execution_count": 12,
          "data": {
            "text/plain": "{'runId': 'AutoML_2e98f987-8c25-4dd3-a149-4ea7f8c9b5c1',\n 'target': 'titaniclusters',\n 'status': 'Completed',\n 'startTimeUtc': '2021-04-19T20:09:56.051852Z',\n 'endTimeUtc': '2021-04-19T20:28:29.921733Z',\n 'properties': {'num_iterations': '1000',\n  'training_type': 'TrainFull',\n  'acquisition_function': 'EI',\n  'primary_metric': 'accuracy',\n  'train_split': '0',\n  'acquisition_parameter': '0',\n  'num_cross_validation': None,\n  'target': 'titaniclusters',\n  'AMLSettingsJsonString': '{\"path\":null,\"name\":\"automl\",\"subscription_id\":\"510b94ba-e453-4417-988b-fbdc37b55ca7\",\"resource_group\":\"aml-quickstarts-143180\",\"workspace_name\":\"quick-starts-ws-143180\",\"region\":\"southcentralus\",\"compute_target\":\"titaniclusters\",\"spark_service\":null,\"azure_service\":\"remote\",\"many_models\":false,\"pipeline_fetch_max_batch_size\":1,\"enable_batch_run\":false,\"enable_run_restructure\":false,\"iterations\":1000,\"primary_metric\":\"accuracy\",\"task_type\":\"classification\",\"data_script\":null,\"test_size\":0.0,\"validation_size\":0.0,\"n_cross_validations\":null,\"y_min\":null,\"y_max\":null,\"num_classes\":null,\"featurization\":\"auto\",\"_ignore_package_version_incompatibilities\":false,\"is_timeseries\":false,\"max_cores_per_iteration\":1,\"max_concurrent_iterations\":9,\"iteration_timeout_minutes\":null,\"mem_in_mb\":null,\"enforce_time_on_windows\":false,\"experiment_timeout_minutes\":20,\"experiment_exit_score\":null,\"whitelist_models\":null,\"blacklist_algos\":[\"TensorFlowLinearClassifier\",\"TensorFlowDNN\"],\"supported_models\":[\"LogisticRegression\",\"TensorFlowDNN\",\"LinearSVM\",\"XGBoostClassifier\",\"GradientBoosting\",\"BernoulliNaiveBayes\",\"TensorFlowLinearClassifier\",\"LightGBM\",\"SVM\",\"ExtremeRandomTrees\",\"DecisionTree\",\"AveragedPerceptronClassifier\",\"SGD\",\"KNN\",\"RandomForest\",\"MultinomialNaiveBayes\"],\"private_models\":[],\"auto_blacklist\":true,\"blacklist_samples_reached\":false,\"exclude_nan_labels\":true,\"verbosity\":20,\"_debug_log\":\"azureml_automl.log\",\"show_warnings\":false,\"model_explainability\":true,\"service_url\":null,\"sdk_url\":null,\"sdk_packages\":null,\"enable_onnx_compatible_models\":false,\"enable_split_onnx_featurizer_estimator_models\":false,\"vm_type\":\"STANDARD_DS12_V2\",\"telemetry_verbosity\":20,\"send_telemetry\":true,\"enable_dnn\":false,\"scenario\":\"SDK-1.13.0\",\"environment_label\":null,\"save_mlflow\":false,\"force_text_dnn\":false,\"enable_feature_sweeping\":true,\"enable_early_stopping\":true,\"early_stopping_n_iters\":10,\"metrics\":null,\"enable_metric_confidence\":false,\"enable_ensembling\":true,\"enable_stack_ensembling\":true,\"ensemble_iterations\":15,\"enable_tf\":false,\"enable_subsampling\":null,\"subsample_seed\":null,\"enable_nimbusml\":false,\"enable_streaming\":false,\"force_streaming\":false,\"track_child_runs\":true,\"allowed_private_models\":[],\"label_column_name\":\"Survived\",\"weight_column_name\":null,\"cv_split_column_names\":null,\"enable_local_managed\":false,\"_local_managed_run_id\":null,\"cost_mode\":1,\"lag_length\":0,\"metric_operation\":\"maximize\",\"preprocess\":true}',\n  'DataPrepJsonString': '{\\\\\"training_data\\\\\": {\\\\\"datasetId\\\\\": \\\\\"50daaf4b-d1fd-4a12-b662-c5367e89c578\\\\\"}, \\\\\"datasets\\\\\": 0}',\n  'EnableSubsampling': None,\n  'runTemplate': 'AutoML',\n  'azureml.runsource': 'automl',\n  'display_task_type': 'classification',\n  'dependencies_versions': '{\"azureml-widgets\": \"1.26.0\", \"azureml-train\": \"1.26.0\", \"azureml-train-restclients-hyperdrive\": \"1.26.0\", \"azureml-train-core\": \"1.26.0\", \"azureml-train-automl\": \"1.26.0\", \"azureml-train-automl-runtime\": \"1.26.0\", \"azureml-train-automl-client\": \"1.26.0\", \"azureml-tensorboard\": \"1.26.0\", \"azureml-telemetry\": \"1.26.0\", \"azureml-sdk\": \"1.26.0\", \"azureml-samples\": \"0+unknown\", \"azureml-pipeline\": \"1.26.0\", \"azureml-pipeline-steps\": \"1.26.0\", \"azureml-pipeline-core\": \"1.26.0\", \"azureml-opendatasets\": \"1.26.0\", \"azureml-model-management-sdk\": \"1.0.1b6.post1\", \"azureml-mlflow\": \"1.26.0\", \"azureml-interpret\": \"1.26.0\", \"azureml-explain-model\": \"1.26.0\", \"azureml-defaults\": \"1.26.0\", \"azureml-dataset-runtime\": \"1.26.0\", \"azureml-dataprep\": \"2.13.2\", \"azureml-dataprep-rslex\": \"1.11.2\", \"azureml-dataprep-native\": \"32.0.0\", \"azureml-datadrift\": \"1.26.0\", \"azureml-core\": \"1.26.0\", \"azureml-contrib-services\": \"1.26.0\", \"azureml-contrib-server\": \"1.26.0\", \"azureml-contrib-reinforcementlearning\": \"1.26.0\", \"azureml-contrib-pipeline-steps\": \"1.26.0\", \"azureml-contrib-notebook\": \"1.26.0\", \"azureml-contrib-gbdt\": \"1.26.0\", \"azureml-contrib-fairness\": \"1.26.0\", \"azureml-contrib-dataset\": \"1.26.0\", \"azureml-cli-common\": \"1.26.0\", \"azureml-automl-runtime\": \"1.26.0\", \"azureml-automl-dnn-nlp\": \"1.26.0\", \"azureml-automl-core\": \"1.26.0\", \"azureml-accel-models\": \"1.26.0\"}',\n  '_aml_system_scenario_identification': 'Remote.Parent',\n  'ClientType': 'SDK',\n  'environment_cpu_name': 'AzureML-AutoML',\n  'environment_cpu_label': 'prod',\n  'environment_gpu_name': 'AzureML-AutoML-GPU',\n  'environment_gpu_label': 'prod',\n  'root_attribution': 'automl',\n  'attribution': 'AutoML',\n  'Orchestrator': 'AutoML',\n  'CancelUri': 'https://southcentralus.experiments.azureml.net/jasmine/v1.0/subscriptions/510b94ba-e453-4417-988b-fbdc37b55ca7/resourceGroups/aml-quickstarts-143180/providers/Microsoft.MachineLearningServices/workspaces/quick-starts-ws-143180/experimentids/cead3ee6-9242-4e6c-951e-ff3b2a1bf061/cancel/AutoML_2e98f987-8c25-4dd3-a149-4ea7f8c9b5c1',\n  'ClientSdkVersion': '1.26.0',\n  'snapshotId': '00000000-0000-0000-0000-000000000000',\n  'SetupRunId': 'AutoML_2e98f987-8c25-4dd3-a149-4ea7f8c9b5c1_setup',\n  'SetupRunContainerId': 'dcid.AutoML_2e98f987-8c25-4dd3-a149-4ea7f8c9b5c1_setup',\n  'FeaturizationRunJsonPath': 'featurizer_container.json',\n  'FeaturizationRunId': 'AutoML_2e98f987-8c25-4dd3-a149-4ea7f8c9b5c1_featurize',\n  'ProblemInfoJsonString': '{\"dataset_num_categorical\": 0, \"is_sparse\": true, \"subsampling\": false, \"dataset_classes\": 2, \"dataset_features\": 6974, \"dataset_samples\": 891, \"single_frequency_class_detected\": false}',\n  'ModelExplainRunId': 'AutoML_2e98f987-8c25-4dd3-a149-4ea7f8c9b5c1_ModelExplain'},\n 'inputDatasets': [{'dataset': {'id': '50daaf4b-d1fd-4a12-b662-c5367e89c578'}, 'consumptionDetails': {'type': 'RunInput', 'inputName': 'training_data', 'mechanism': 'Direct'}}],\n 'outputDatasets': [],\n 'logFiles': {},\n 'submittedBy': 'ODL_User 143180'}"
          },
          "metadata": {}
        }
      ],
      "execution_count": 12,
      "metadata": {
        "gather": {
          "logged": 1618864360921
        },
        "jupyter": {
          "outputs_hidden": false,
          "source_hidden": false
        },
        "nteract": {
          "transient": {
            "deleting": false
          }
        }
      }
    },
    {
      "cell_type": "markdown",
      "source": [
        "## Best Model\n",
        "\n",
        "TODO: In the cell below, get the best model from the automl experiments and display all the properties of the model.\n",
        "\n"
      ],
      "metadata": {}
    },
    {
      "cell_type": "code",
      "source": [
        "best_run_automl, fitted_model_automl = remote_run.get_output()\n",
        "model_name = best_run_automl.properties['model_name']"
      ],
      "outputs": [],
      "execution_count": 13,
      "metadata": {
        "gather": {
          "logged": 1618864501820
        },
        "jupyter": {
          "outputs_hidden": false,
          "source_hidden": false
        },
        "nteract": {
          "transient": {
            "deleting": false
          }
        }
      }
    },
    {
      "cell_type": "code",
      "source": [
        "print(best_run_automl)"
      ],
      "outputs": [
        {
          "output_type": "stream",
          "name": "stdout",
          "text": [
            "Run(Experiment: automl,\n",
            "Id: AutoML_2e98f987-8c25-4dd3-a149-4ea7f8c9b5c1_46,\n",
            "Type: azureml.scriptrun,\n",
            "Status: Completed)\n"
          ]
        }
      ],
      "execution_count": 14,
      "metadata": {
        "gather": {
          "logged": 1618864505467
        },
        "jupyter": {
          "outputs_hidden": false,
          "source_hidden": false
        },
        "nteract": {
          "transient": {
            "deleting": false
          }
        }
      }
    },
    {
      "cell_type": "code",
      "source": [
        "fitted_model_automl.steps"
      ],
      "outputs": [
        {
          "output_type": "execute_result",
          "execution_count": 15,
          "data": {
            "text/plain": "[('datatransformer',\n  DataTransformer(enable_dnn=None, enable_feature_sweeping=None,\n                  feature_sweeping_config=None, feature_sweeping_timeout=None,\n                  featurization_config=None, force_text_dnn=None,\n                  is_cross_validation=None, is_onnx_compatible=None, logger=None,\n                  observer=None, task=None, working_dir=None)),\n ('prefittedsoftvotingclassifier',\n  PreFittedSoftVotingClassifier(classification_labels=None,\n                                estimators=[('12',\n                                             Pipeline(memory=None,\n                                                      steps=[('standardscalerwrapper',\n                                                              <azureml.automl.runtime.shared.model_wrappers.StandardScalerWrapper object at 0x7fcf106e0828>),\n                                                             ('lightgbmclassifier',\n                                                              LightGBMClassifier(boosting_type='gbdt',\n                                                                                 class_weight=None,\n                                                                                 colsample_bytree=0.4955555555555555,\n                                                                                 importance_typ...\n                                                                                 multi_class='multinomial',\n                                                                                 n_jobs=1,\n                                                                                 penalty='l1',\n                                                                                 random_state=None,\n                                                                                 solver='saga',\n                                                                                 tol=0.0001,\n                                                                                 verbose=0,\n                                                                                 warm_start=False))],\n                                                      verbose=False))],\n                                flatten_transform=None,\n                                weights=[0.07692307692307693, 0.23076923076923078,\n                                         0.07692307692307693, 0.07692307692307693,\n                                         0.15384615384615385, 0.07692307692307693,\n                                         0.07692307692307693, 0.07692307692307693,\n                                         0.07692307692307693,\n                                         0.07692307692307693]))]"
          },
          "metadata": {}
        }
      ],
      "execution_count": 15,
      "metadata": {
        "gather": {
          "logged": 1618864528779
        }
      }
    },
    {
      "cell_type": "code",
      "source": [],
      "outputs": [],
      "execution_count": null,
      "metadata": {}
    },
    {
      "cell_type": "code",
      "source": [
        "from pprint import pprint\n",
        "\n",
        "def print_model(model, prefix=\"\"):\n",
        "    for step in model.steps:\n",
        "        print(prefix + step[0])\n",
        "        if hasattr(step[1], 'estimators') and hasattr(step[1], 'weights'):\n",
        "            pprint({'estimators': list(\n",
        "                e[0] for e in step[1].estimators), 'weights': step[1].weights})\n",
        "            print()\n",
        "            for estimator in step[1].estimators:\n",
        "                print_model(estimator[1], estimator[0] + ' - ')\n",
        "        else:\n",
        "            pprint(step[1].get_params())\n",
        "            print()\n",
        "\n",
        "print_model(fitted_model_automl)"
      ],
      "outputs": [
        {
          "output_type": "stream",
          "name": "stdout",
          "text": [
            "datatransformer\n",
            "{'enable_dnn': None,\n",
            " 'enable_feature_sweeping': None,\n",
            " 'feature_sweeping_config': None,\n",
            " 'feature_sweeping_timeout': None,\n",
            " 'featurization_config': None,\n",
            " 'force_text_dnn': None,\n",
            " 'is_cross_validation': None,\n",
            " 'is_onnx_compatible': None,\n",
            " 'logger': None,\n",
            " 'observer': None,\n",
            " 'task': None,\n",
            " 'working_dir': None}\n",
            "\n",
            "prefittedsoftvotingclassifier\n",
            "{'estimators': ['12', '21', '0', '18', '26', '11', '32', '3', '36', '14'],\n",
            " 'weights': [0.07692307692307693,\n",
            "             0.23076923076923078,\n",
            "             0.07692307692307693,\n",
            "             0.07692307692307693,\n",
            "             0.15384615384615385,\n",
            "             0.07692307692307693,\n",
            "             0.07692307692307693,\n",
            "             0.07692307692307693,\n",
            "             0.07692307692307693,\n",
            "             0.07692307692307693]}\n",
            "\n",
            "12 - standardscalerwrapper\n",
            "{'class_name': 'StandardScaler',\n",
            " 'copy': True,\n",
            " 'module_name': 'sklearn.preprocessing._data',\n",
            " 'with_mean': False,\n",
            " 'with_std': True}\n",
            "\n",
            "12 - lightgbmclassifier\n",
            "{'boosting_type': 'gbdt',\n",
            " 'class_weight': None,\n",
            " 'colsample_bytree': 0.4955555555555555,\n",
            " 'importance_type': 'split',\n",
            " 'learning_rate': 0.05789894736842106,\n",
            " 'max_bin': 210,\n",
            " 'max_depth': 5,\n",
            " 'min_child_samples': 71,\n",
            " 'min_child_weight': 0,\n",
            " 'min_split_gain': 0.3684210526315789,\n",
            " 'n_estimators': 600,\n",
            " 'n_jobs': 1,\n",
            " 'num_leaves': 137,\n",
            " 'objective': None,\n",
            " 'random_state': None,\n",
            " 'reg_alpha': 0.5789473684210527,\n",
            " 'reg_lambda': 0.42105263157894735,\n",
            " 'silent': True,\n",
            " 'subsample': 0.05,\n",
            " 'subsample_for_bin': 200000,\n",
            " 'subsample_freq': 0,\n",
            " 'verbose': -10}\n",
            "\n",
            "21 - standardscalerwrapper\n",
            "{'class_name': 'StandardScaler',\n",
            " 'copy': True,\n",
            " 'module_name': 'sklearn.preprocessing._data',\n",
            " 'with_mean': False,\n",
            " 'with_std': True}\n",
            "\n",
            "21 - extratreesclassifier\n",
            "{'bootstrap': True,\n",
            " 'ccp_alpha': 0.0,\n",
            " 'class_weight': None,\n",
            " 'criterion': 'entropy',\n",
            " 'max_depth': None,\n",
            " 'max_features': 0.5,\n",
            " 'max_leaf_nodes': None,\n",
            " 'max_samples': None,\n",
            " 'min_impurity_decrease': 0.0,\n",
            " 'min_impurity_split': None,\n",
            " 'min_samples_leaf': 0.035789473684210524,\n",
            " 'min_samples_split': 0.01,\n",
            " 'min_weight_fraction_leaf': 0.0,\n",
            " 'n_estimators': 25,\n",
            " 'n_jobs': 1,\n",
            " 'oob_score': True,\n",
            " 'random_state': None,\n",
            " 'verbose': 0,\n",
            " 'warm_start': False}\n",
            "\n",
            "0 - maxabsscaler\n",
            "{'copy': True}\n",
            "\n",
            "0 - lightgbmclassifier\n",
            "{'boosting_type': 'gbdt',\n",
            " 'class_weight': None,\n",
            " 'colsample_bytree': 1.0,\n",
            " 'importance_type': 'split',\n",
            " 'learning_rate': 0.1,\n",
            " 'max_depth': -1,\n",
            " 'min_child_samples': 20,\n",
            " 'min_child_weight': 0.001,\n",
            " 'min_split_gain': 0.0,\n",
            " 'n_estimators': 100,\n",
            " 'n_jobs': 1,\n",
            " 'num_leaves': 31,\n",
            " 'objective': None,\n",
            " 'random_state': None,\n",
            " 'reg_alpha': 0.0,\n",
            " 'reg_lambda': 0.0,\n",
            " 'silent': True,\n",
            " 'subsample': 1.0,\n",
            " 'subsample_for_bin': 200000,\n",
            " 'subsample_freq': 0,\n",
            " 'verbose': -10}\n",
            "\n",
            "18 - standardscalerwrapper\n",
            "{'class_name': 'StandardScaler',\n",
            " 'copy': True,\n",
            " 'module_name': 'sklearn.preprocessing._data',\n",
            " 'with_mean': False,\n",
            " 'with_std': True}\n",
            "\n",
            "18 - randomforestclassifier\n",
            "{'bootstrap': False,\n",
            " 'ccp_alpha': 0.0,\n",
            " 'class_weight': None,\n",
            " 'criterion': 'entropy',\n",
            " 'max_depth': None,\n",
            " 'max_features': 0.2,\n",
            " 'max_leaf_nodes': None,\n",
            " 'max_samples': None,\n",
            " 'min_impurity_decrease': 0.0,\n",
            " 'min_impurity_split': None,\n",
            " 'min_samples_leaf': 0.01,\n",
            " 'min_samples_split': 0.10368421052631578,\n",
            " 'min_weight_fraction_leaf': 0.0,\n",
            " 'n_estimators': 25,\n",
            " 'n_jobs': 1,\n",
            " 'oob_score': False,\n",
            " 'random_state': None,\n",
            " 'verbose': 0,\n",
            " 'warm_start': False}\n",
            "\n",
            "26 - maxabsscaler\n",
            "{'copy': True}\n",
            "\n",
            "26 - lightgbmclassifier\n",
            "{'boosting_type': 'goss',\n",
            " 'class_weight': None,\n",
            " 'colsample_bytree': 0.3966666666666666,\n",
            " 'importance_type': 'split',\n",
            " 'learning_rate': 0.1,\n",
            " 'max_bin': 130,\n",
            " 'max_depth': 4,\n",
            " 'min_child_samples': 53,\n",
            " 'min_child_weight': 5,\n",
            " 'min_split_gain': 0.3157894736842105,\n",
            " 'n_estimators': 400,\n",
            " 'n_jobs': 1,\n",
            " 'num_leaves': 137,\n",
            " 'objective': None,\n",
            " 'random_state': None,\n",
            " 'reg_alpha': 0.6842105263157894,\n",
            " 'reg_lambda': 0.7894736842105263,\n",
            " 'silent': True,\n",
            " 'subsample': 1,\n",
            " 'subsample_for_bin': 200000,\n",
            " 'subsample_freq': 0,\n",
            " 'verbose': -10}\n",
            "\n",
            "11 - maxabsscaler\n",
            "{'copy': True}\n",
            "\n",
            "11 - lightgbmclassifier\n",
            "{'boosting_type': 'goss',\n",
            " 'class_weight': None,\n",
            " 'colsample_bytree': 0.5944444444444444,\n",
            " 'importance_type': 'split',\n",
            " 'learning_rate': 0.015797894736842105,\n",
            " 'max_bin': 200,\n",
            " 'max_depth': 4,\n",
            " 'min_child_samples': 28,\n",
            " 'min_child_weight': 4,\n",
            " 'min_split_gain': 0.8421052631578947,\n",
            " 'n_estimators': 100,\n",
            " 'n_jobs': 1,\n",
            " 'num_leaves': 212,\n",
            " 'objective': None,\n",
            " 'random_state': None,\n",
            " 'reg_alpha': 0.3157894736842105,\n",
            " 'reg_lambda': 0.5263157894736842,\n",
            " 'silent': True,\n",
            " 'subsample': 1,\n",
            " 'subsample_for_bin': 200000,\n",
            " 'subsample_freq': 0,\n",
            " 'verbose': -10}\n",
            "\n",
            "32 - sparsenormalizer\n",
            "{'copy': True, 'norm': 'l2'}\n",
            "\n",
            "32 - xgboostclassifier\n",
            "{'base_score': 0.5,\n",
            " 'booster': 'gbtree',\n",
            " 'colsample_bylevel': 1,\n",
            " 'colsample_bynode': 1,\n",
            " 'colsample_bytree': 1,\n",
            " 'eta': 0.3,\n",
            " 'gamma': 0,\n",
            " 'grow_policy': 'lossguide',\n",
            " 'learning_rate': 0.1,\n",
            " 'max_bin': 255,\n",
            " 'max_delta_step': 0,\n",
            " 'max_depth': 0,\n",
            " 'max_leaves': 31,\n",
            " 'min_child_weight': 1,\n",
            " 'missing': nan,\n",
            " 'n_estimators': 10,\n",
            " 'n_jobs': 1,\n",
            " 'nthread': None,\n",
            " 'objective': 'reg:logistic',\n",
            " 'random_state': 0,\n",
            " 'reg_alpha': 1.5625,\n",
            " 'reg_lambda': 0.20833333333333334,\n",
            " 'scale_pos_weight': 1,\n",
            " 'seed': None,\n",
            " 'silent': None,\n",
            " 'subsample': 0.9,\n",
            " 'tree_method': 'hist',\n",
            " 'verbose': -10,\n",
            " 'verbosity': 0}\n",
            "\n",
            "3 - maxabsscaler\n",
            "{'copy': True}\n",
            "\n",
            "3 - randomforestclassifier\n",
            "{'bootstrap': True,\n",
            " 'ccp_alpha': 0.0,\n",
            " 'class_weight': None,\n",
            " 'criterion': 'gini',\n",
            " 'max_depth': None,\n",
            " 'max_features': 'sqrt',\n",
            " 'max_leaf_nodes': None,\n",
            " 'max_samples': None,\n",
            " 'min_impurity_decrease': 0.0,\n",
            " 'min_impurity_split': None,\n",
            " 'min_samples_leaf': 0.035789473684210524,\n",
            " 'min_samples_split': 0.01,\n",
            " 'min_weight_fraction_leaf': 0.0,\n",
            " 'n_estimators': 10,\n",
            " 'n_jobs': 1,\n",
            " 'oob_score': True,\n",
            " 'random_state': None,\n",
            " 'verbose': 0,\n",
            " 'warm_start': False}\n",
            "\n",
            "36 - maxabsscaler\n",
            "{'copy': True}\n",
            "\n",
            "36 - extratreesclassifier\n",
            "{'bootstrap': False,\n",
            " 'ccp_alpha': 0.0,\n",
            " 'class_weight': 'balanced',\n",
            " 'criterion': 'entropy',\n",
            " 'max_depth': None,\n",
            " 'max_features': 'sqrt',\n",
            " 'max_leaf_nodes': None,\n",
            " 'max_samples': None,\n",
            " 'min_impurity_decrease': 0.0,\n",
            " 'min_impurity_split': None,\n",
            " 'min_samples_leaf': 0.06157894736842105,\n",
            " 'min_samples_split': 0.33789473684210525,\n",
            " 'min_weight_fraction_leaf': 0.0,\n",
            " 'n_estimators': 600,\n",
            " 'n_jobs': 1,\n",
            " 'oob_score': False,\n",
            " 'random_state': None,\n",
            " 'verbose': 0,\n",
            " 'warm_start': False}\n",
            "\n",
            "14 - standardscalerwrapper\n",
            "{'class_name': 'StandardScaler',\n",
            " 'copy': True,\n",
            " 'module_name': 'sklearn.preprocessing._data',\n",
            " 'with_mean': False,\n",
            " 'with_std': True}\n",
            "\n",
            "14 - logisticregression\n",
            "{'C': 1.7575106248547894,\n",
            " 'class_weight': None,\n",
            " 'dual': False,\n",
            " 'fit_intercept': True,\n",
            " 'intercept_scaling': 1,\n",
            " 'l1_ratio': None,\n",
            " 'max_iter': 100,\n",
            " 'multi_class': 'multinomial',\n",
            " 'n_jobs': 1,\n",
            " 'penalty': 'l1',\n",
            " 'random_state': None,\n",
            " 'solver': 'saga',\n",
            " 'tol': 0.0001,\n",
            " 'verbose': 0,\n",
            " 'warm_start': False}\n",
            "\n"
          ]
        }
      ],
      "execution_count": 16,
      "metadata": {
        "gather": {
          "logged": 1618864534389
        }
      }
    },
    {
      "cell_type": "code",
      "source": [
        "#Save the best model - download pkl and register model in Azure\n",
        "model_name = 'best_model'\n",
        "model = best_run_automl.register_model(model_name, model_path='outputs/model.pkl')\n",
        "\n",
        "best_run_automl.download_file('outputs/model.pkl', 'automl_output/model.pkl')\n",
        "best_run_automl.download_file('outputs/scoring_file_v_1_0_0.py', 'automl_output/score.py')\n",
        "print(model)"
      ],
      "outputs": [
        {
          "output_type": "stream",
          "name": "stdout",
          "text": [
            "Model(workspace=Workspace.create(name='quick-starts-ws-143180', subscription_id='510b94ba-e453-4417-988b-fbdc37b55ca7', resource_group='aml-quickstarts-143180'), name=best_model, id=best_model:1, version=1, tags={}, properties={})\n"
          ]
        }
      ],
      "execution_count": 17,
      "metadata": {
        "gather": {
          "logged": 1618864541741
        }
      }
    },
    {
      "cell_type": "markdown",
      "source": [
        "## Model Deployment\n",
        "\n",
        "Remember you have to deploy only one of the two models you trained.. Perform the steps in the rest of this notebook only if you wish to deploy this model.\n",
        "\n",
        "TODO: In the cell below, register the model, create an inference config and deploy the model as a web service."
      ],
      "metadata": {}
    },
    {
      "cell_type": "code",
      "source": [
        "service_name = 'capstone-service'\n",
        "inference_config = InferenceConfig(entry_script='automl_output/score.py')\n",
        "service = Model.deploy(ws, service_name, [model], inference_config, overwrite=True)\n",
        "service.wait_for_deployment(show_output=True)"
      ],
      "outputs": [
        {
          "output_type": "stream",
          "name": "stdout",
          "text": [
            "Tips: You can try get_logs(): https://aka.ms/debugimage#dockerlog or local deployment: https://aka.ms/debugimage#debug-locally to debug if deployment takes longer than 10 minutes.\n",
            "Running\n",
            "2021-04-19 20:35:55+00:00 Creating Container Registry if not exists..\n",
            "2021-04-19 20:36:11+00:00 Use the existing image.\n",
            "2021-04-19 20:36:12+00:00 Generating deployment configuration.\n",
            "2021-04-19 20:36:14+00:00 Submitting deployment to compute..\n",
            "2021-04-19 20:36:45+00:00 Checking the status of deployment capstone-service..\n",
            "2021-04-19 20:41:44+00:00 Checking the status of inference endpoint capstone-service.\n",
            "Succeeded\n",
            "ACI service creation operation finished, operation \"Succeeded\"\n"
          ]
        }
      ],
      "execution_count": 18,
      "metadata": {
        "gather": {
          "logged": 1618864971197
        },
        "jupyter": {
          "outputs_hidden": false,
          "source_hidden": false
        },
        "nteract": {
          "transient": {
            "deleting": false
          }
        }
      }
    },
    {
      "cell_type": "markdown",
      "source": [
        "TODO: In the cell below, send a request to the web service you deployed to test it."
      ],
      "metadata": {
        "collapsed": true,
        "gather": {
          "logged": 1598431657736
        },
        "jupyter": {
          "outputs_hidden": false,
          "source_hidden": false
        },
        "nteract": {
          "transient": {
            "deleting": false
          }
        }
      }
    },
    {
      "cell_type": "code",
      "source": [
        "print(service.state)\n",
        "\n",
        "# service.update(enable_app_insights=True)\n",
        "\n",
        "scoring_uri = service.scoring_uri\n",
        "\n",
        "print(f'\\nservice state: {service.state}\\n')\n",
        "print(f'scoring URI: \\n{service.scoring_uri}\\n')\n",
        "print(f'swagger URI: \\n{service.swagger_uri}\\n')\n",
        "\n",
        "print(service.scoring_uri)\n",
        "print(service.swagger_uri)\n",
        "\n",
        "import requests\n",
        "import json\n",
        "\n",
        "data = {\"data\":\n",
        "        [\n",
        "          {\n",
        "            \"PassengerId\": 812,\n",
        "            \"Pclass\": 2,\n",
        "            \"Name\": \"Berriman, Mr. William John\",\n",
        "            \"Sex\": \"male\",\n",
        "            \"Age\": 23.0,\n",
        "            \"SibSp\": 0,\n",
        "            \"Parch\": 0, \n",
        "            \"Ticket\": \"28425\",\n",
        "            \"Fare\": 13.0,\n",
        "            \"Cabin\": \"\",\n",
        "            \"Embarked\": \"S\",\n",
        "          },\n",
        "          {\n",
        "            \"PassengerId\": 813,\n",
        "            \"Pclass\": 1,\n",
        "            \"Name\": \"Lesurer, Mr. Gustave J\",\n",
        "            \"Sex\": \"male\",\n",
        "            \"Age\": 35.0,\n",
        "            \"SibSp\": 0,\n",
        "            \"Parch\": 0, \n",
        "            \"Ticket\": \"PC 17755\",\n",
        "            \"Fare\": 512.3292,\n",
        "            \"Cabin\": \"B101\",\n",
        "            \"Embarked\": \"S\",\n",
        "\n",
        "          }\n",
        "      ]\n",
        "    }\n",
        "\n",
        "input_data=json.dumps(data)\n",
        "# with open(\"data.json\",\"w\") as file:\n",
        "#     file.write(input_data)\n",
        "\n",
        "# headers={\"Content-Type\":\"application/json\"}\n",
        "\n",
        "# resp=requests.post(scoring_uri, input_data, headers=headers)\n",
        "# print(\"Response is: \",resp.json())"
      ],
      "outputs": [
        {
          "output_type": "stream",
          "name": "stdout",
          "text": [
            "Healthy\n",
            "\n",
            "service state: Healthy\n",
            "\n",
            "scoring URI: \n",
            "http://b11480c0-5026-474d-b44c-1a52fbb3fb48.southcentralus.azurecontainer.io/score\n",
            "\n",
            "swagger URI: \n",
            "http://b11480c0-5026-474d-b44c-1a52fbb3fb48.southcentralus.azurecontainer.io/swagger.json\n",
            "\n",
            "http://b11480c0-5026-474d-b44c-1a52fbb3fb48.southcentralus.azurecontainer.io/score\n",
            "http://b11480c0-5026-474d-b44c-1a52fbb3fb48.southcentralus.azurecontainer.io/swagger.json\n"
          ]
        }
      ],
      "execution_count": 24,
      "metadata": {
        "gather": {
          "logged": 1618865481254
        },
        "jupyter": {
          "outputs_hidden": false,
          "source_hidden": false
        },
        "nteract": {
          "transient": {
            "deleting": false
          }
        }
      }
    },
    {
      "cell_type": "code",
      "source": [
        "output = service.run(input_data)\n",
        "print(output)"
      ],
      "outputs": [
        {
          "output_type": "stream",
          "name": "stdout",
          "text": [
            "{\"result\": [0, 1]}\n"
          ]
        }
      ],
      "execution_count": 25,
      "metadata": {
        "gather": {
          "logged": 1618865489084
        }
      }
    },
    {
      "cell_type": "code",
      "source": [
        "service.delete()"
      ],
      "outputs": [],
      "execution_count": 27,
      "metadata": {
        "gather": {
          "logged": 1618865529429
        }
      }
    },
    {
      "cell_type": "markdown",
      "source": [
        "TODO: In the cell below, print the logs of the web service and delete the service"
      ],
      "metadata": {
        "collapsed": true,
        "gather": {
          "logged": 1598432765711
        },
        "jupyter": {
          "outputs_hidden": false,
          "source_hidden": false
        },
        "nteract": {
          "transient": {
            "deleting": false
          }
        }
      }
    },
    {
      "cell_type": "code",
      "source": [
        "logs = service.get_logs()\n",
        "for line in logs.split('\\n'):\n",
        "    print(line)"
      ],
      "outputs": [
        {
          "output_type": "stream",
          "name": "stdout",
          "text": [
            "2021-04-19T20:48:55,011073300+00:00 - gunicorn/run \n",
            "2021-04-19T20:48:55,038908600+00:00 - iot-server/run \n",
            "2021-04-19T20:48:55,012057700+00:00 - nginx/run \n",
            "/usr/sbin/nginx: /azureml-envs/azureml_1c91e9a5baadb44a18d64bdd7f599d89/lib/libcrypto.so.1.0.0: no version information available (required by /usr/sbin/nginx)\n",
            "/usr/sbin/nginx: /azureml-envs/azureml_1c91e9a5baadb44a18d64bdd7f599d89/lib/libcrypto.so.1.0.0: no version information available (required by /usr/sbin/nginx)\n",
            "/usr/sbin/nginx: /azureml-envs/azureml_1c91e9a5baadb44a18d64bdd7f599d89/lib/libssl.so.1.0.0: no version information available (required by /usr/sbin/nginx)\n",
            "/usr/sbin/nginx: /azureml-envs/azureml_1c91e9a5baadb44a18d64bdd7f599d89/lib/libssl.so.1.0.0: no version information available (required by /usr/sbin/nginx)\n",
            "/usr/sbin/nginx: /azureml-envs/azureml_1c91e9a5baadb44a18d64bdd7f599d89/lib/libssl.so.1.0.0: no version information available (required by /usr/sbin/nginx)\n",
            "2021-04-19T20:48:55,220025400+00:00 - rsyslog/run \n",
            "rsyslogd: /azureml-envs/azureml_1c91e9a5baadb44a18d64bdd7f599d89/lib/libuuid.so.1: no version information available (required by rsyslogd)\n",
            "EdgeHubConnectionString and IOTEDGE_IOTHUBHOSTNAME are not set. Exiting...\n",
            "2021-04-19T20:48:57,430276800+00:00 - iot-server/finish 1 0\n",
            "2021-04-19T20:48:57,509857900+00:00 - Exit code 1 is normal. Not restarting iot-server.\n",
            "Starting gunicorn 19.9.0\n",
            "Listening at: http://127.0.0.1:31311 (61)\n",
            "Using worker: sync\n",
            "worker timeout is set to 300\n",
            "Booting worker with pid: 90\n",
            "SPARK_HOME not set. Skipping PySpark Initialization.\n",
            "Generating new fontManager, this may take some time...\n",
            "Initializing logger\n",
            "2021-04-19 20:49:13,829 | root | INFO | Starting up app insights client\n",
            "2021-04-19 20:49:13,830 | root | INFO | Starting up request id generator\n",
            "2021-04-19 20:49:13,830 | root | INFO | Starting up app insight hooks\n",
            "2021-04-19 20:49:13,830 | root | INFO | Invoking user's init function\n",
            "2021-04-19 20:49:46,218 | azureml.core | WARNING | Failure while loading azureml_run_type_providers. Failed to load entrypoint automl = azureml.train.automl.run:AutoMLRun._from_run_dto with exception cannot import name 'RunType'.\n",
            "Failure while loading azureml_run_type_providers. Failed to load entrypoint automl = azureml.train.automl.run:AutoMLRun._from_run_dto with exception cannot import name 'RunType'.\n",
            "2021-04-19 20:49:51,810 | root | INFO | Users's init has completed successfully\n",
            "2021-04-19 20:49:51,910 | root | INFO | Skipping middleware: dbg_model_info as it's not enabled.\n",
            "2021-04-19 20:49:51,910 | root | INFO | Skipping middleware: dbg_resource_usage as it's not enabled.\n",
            "2021-04-19 20:49:51,919 | root | INFO | Scoring timeout is found from os.environ: 60000 ms\n",
            "2021-04-19 20:49:52,109 | root | INFO | 200\n",
            "127.0.0.1 - - [19/Apr/2021:20:49:52 +0000] \"GET /swagger.json HTTP/1.0\" 200 2623 \"-\" \"Go-http-client/1.1\"\n",
            "2021-04-19 20:51:26,742 | root | INFO | Validation Request Content-Type\n",
            "2021-04-19 20:51:26,743 | root | INFO | Scoring Timer is set to 60.0 seconds\n",
            "2021-04-19 20:51:29,018 | root | INFO | 200\n",
            "127.0.0.1 - - [19/Apr/2021:20:51:29 +0000] \"POST /score HTTP/1.0\" 200 22 \"-\" \"python-requests/2.25.1\"\n",
            "\n"
          ]
        }
      ],
      "execution_count": 26,
      "metadata": {
        "jupyter": {
          "outputs_hidden": false,
          "source_hidden": false
        },
        "nteract": {
          "transient": {
            "deleting": false
          }
        },
        "gather": {
          "logged": 1618865505215
        }
      }
    }
  ],
  "metadata": {
    "kernel_info": {
      "name": "python3"
    },
    "kernelspec": {
      "name": "python3",
      "language": "python",
      "display_name": "Python 3"
    },
    "language_info": {
      "name": "python",
      "version": "3.6.9",
      "mimetype": "text/x-python",
      "codemirror_mode": {
        "name": "ipython",
        "version": 3
      },
      "pygments_lexer": "ipython3",
      "nbconvert_exporter": "python",
      "file_extension": ".py"
    },
    "nteract": {
      "version": "nteract-front-end@1.0.0"
    },
    "microsoft": {
      "host": {
        "AzureML": {
          "notebookHasBeenCompleted": true
        }
      }
    }
  },
  "nbformat": 4,
  "nbformat_minor": 2
}