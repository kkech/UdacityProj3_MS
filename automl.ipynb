{
  "cells": [
    {
      "cell_type": "markdown",
      "source": [
        "# Automated ML\n",
        "\n",
        "TODO: Import Dependencies. In the cell below, import all the dependencies that you will need to complete the project."
      ],
      "metadata": {}
    },
    {
      "cell_type": "code",
      "source": [
        "import azureml.core\n",
        "from azureml.core.experiment import Experiment\n",
        "from azureml.core.workspace import Workspace\n",
        "from azureml.train.automl import AutoMLConfig\n",
        "from azureml.core.dataset import Dataset\n",
        "from azureml.core.webservice import Webservice\n",
        "from azureml.core.webservice import AciWebservice\n",
        "from azureml.core.model import InferenceConfig\n",
        "from azureml.core.model import Model\n",
        "\n",
        "# Check core SDK version number\n",
        "print(\"SDK version:\", azureml.core.VERSION)"
      ],
      "outputs": [
        {
          "output_type": "stream",
          "name": "stdout",
          "text": [
            "SDK version: 1.26.0\n"
          ]
        }
      ],
      "execution_count": 1,
      "metadata": {
        "gather": {
          "logged": 1618875625244
        },
        "jupyter": {
          "outputs_hidden": false,
          "source_hidden": false
        },
        "nteract": {
          "transient": {
            "deleting": false
          }
        }
      }
    },
    {
      "cell_type": "markdown",
      "source": [
        "## Dataset\n",
        "\n",
        "### Overview\n",
        "TODO: In this markdown cell, give an overview of the dataset you are using. Also mention the task you will be performing.\n",
        "\n",
        "\n",
        "TODO: Get data. In the cell below, write code to access the data you will be using in this project. Remember that the dataset needs to be external."
      ],
      "metadata": {}
    },
    {
      "cell_type": "code",
      "source": [
        "ws = Workspace.from_config()\n",
        "ws.write_config(path='.azureml')\n",
        "# Name of the experiment\n",
        "experiment_name = 'automl'\n",
        "experiment=Experiment(ws, experiment_name)\n",
        "\n",
        "# Get the data of Kaggle Titanic Dataset\n",
        "key = \"titanic-dataset\"\n",
        "found = False\n",
        "\n",
        "if key in ws.datasets.keys(): \n",
        "    found = True\n",
        "    dataset = ws.datasets[key] \n",
        "\n",
        "if not found:\n",
        "    # Create AML Dataset and register it into Workspace\n",
        "    titanicData = 'https://raw.githubusercontent.com/kkech/UdacityProj3_MS/master/train.csv'\n",
        "    dataset = Dataset.Tabular.from_delimited_files(titanicData)\n",
        "    #Register Dataset in Workspace\n",
        "    dataset = dataset.register(workspace=ws,\n",
        "                               name=key)\n",
        "\n",
        "\n",
        "df = dataset.to_pandas_dataframe()\n",
        "df.describe()"
      ],
      "outputs": [
        {
          "output_type": "execute_result",
          "execution_count": 2,
          "data": {
            "text/plain": "       PassengerId    Survived      Pclass         Age       SibSp  \\\ncount   891.000000  891.000000  891.000000  714.000000  891.000000   \nmean    446.000000    0.383838    2.308642   29.699118    0.523008   \nstd     257.353842    0.486592    0.836071   14.526497    1.102743   \nmin       1.000000    0.000000    1.000000    0.420000    0.000000   \n25%     223.500000    0.000000    2.000000   20.125000    0.000000   \n50%     446.000000    0.000000    3.000000   28.000000    0.000000   \n75%     668.500000    1.000000    3.000000   38.000000    1.000000   \nmax     891.000000    1.000000    3.000000   80.000000    8.000000   \n\n            Parch        Fare  \ncount  891.000000  891.000000  \nmean     0.381594   32.204208  \nstd      0.806057   49.693429  \nmin      0.000000    0.000000  \n25%      0.000000    7.910400  \n50%      0.000000   14.454200  \n75%      0.000000   31.000000  \nmax      6.000000  512.329200  ",
            "text/html": "<div>\n<style scoped>\n    .dataframe tbody tr th:only-of-type {\n        vertical-align: middle;\n    }\n\n    .dataframe tbody tr th {\n        vertical-align: top;\n    }\n\n    .dataframe thead th {\n        text-align: right;\n    }\n</style>\n<table border=\"1\" class=\"dataframe\">\n  <thead>\n    <tr style=\"text-align: right;\">\n      <th></th>\n      <th>PassengerId</th>\n      <th>Survived</th>\n      <th>Pclass</th>\n      <th>Age</th>\n      <th>SibSp</th>\n      <th>Parch</th>\n      <th>Fare</th>\n    </tr>\n  </thead>\n  <tbody>\n    <tr>\n      <th>count</th>\n      <td>891.000000</td>\n      <td>891.000000</td>\n      <td>891.000000</td>\n      <td>714.000000</td>\n      <td>891.000000</td>\n      <td>891.000000</td>\n      <td>891.000000</td>\n    </tr>\n    <tr>\n      <th>mean</th>\n      <td>446.000000</td>\n      <td>0.383838</td>\n      <td>2.308642</td>\n      <td>29.699118</td>\n      <td>0.523008</td>\n      <td>0.381594</td>\n      <td>32.204208</td>\n    </tr>\n    <tr>\n      <th>std</th>\n      <td>257.353842</td>\n      <td>0.486592</td>\n      <td>0.836071</td>\n      <td>14.526497</td>\n      <td>1.102743</td>\n      <td>0.806057</td>\n      <td>49.693429</td>\n    </tr>\n    <tr>\n      <th>min</th>\n      <td>1.000000</td>\n      <td>0.000000</td>\n      <td>1.000000</td>\n      <td>0.420000</td>\n      <td>0.000000</td>\n      <td>0.000000</td>\n      <td>0.000000</td>\n    </tr>\n    <tr>\n      <th>25%</th>\n      <td>223.500000</td>\n      <td>0.000000</td>\n      <td>2.000000</td>\n      <td>20.125000</td>\n      <td>0.000000</td>\n      <td>0.000000</td>\n      <td>7.910400</td>\n    </tr>\n    <tr>\n      <th>50%</th>\n      <td>446.000000</td>\n      <td>0.000000</td>\n      <td>3.000000</td>\n      <td>28.000000</td>\n      <td>0.000000</td>\n      <td>0.000000</td>\n      <td>14.454200</td>\n    </tr>\n    <tr>\n      <th>75%</th>\n      <td>668.500000</td>\n      <td>1.000000</td>\n      <td>3.000000</td>\n      <td>38.000000</td>\n      <td>1.000000</td>\n      <td>0.000000</td>\n      <td>31.000000</td>\n    </tr>\n    <tr>\n      <th>max</th>\n      <td>891.000000</td>\n      <td>1.000000</td>\n      <td>3.000000</td>\n      <td>80.000000</td>\n      <td>8.000000</td>\n      <td>6.000000</td>\n      <td>512.329200</td>\n    </tr>\n  </tbody>\n</table>\n</div>"
          },
          "metadata": {}
        }
      ],
      "execution_count": 2,
      "metadata": {
        "gather": {
          "logged": 1618875634006
        },
        "jupyter": {
          "outputs_hidden": false,
          "source_hidden": false
        },
        "nteract": {
          "transient": {
            "deleting": false
          }
        }
      }
    },
    {
      "cell_type": "code",
      "source": [
        "## AnlCompute Cluster"
      ],
      "outputs": [],
      "execution_count": null,
      "metadata": {}
    },
    {
      "cell_type": "code",
      "source": [
        "from azureml.core.compute import AmlCompute\n",
        "from azureml.core.compute import ComputeTarget\n",
        "from azureml.core.compute_target import ComputeTargetException\n",
        "\n",
        "# NOTE: update the cluster name to match the existing cluster\n",
        "# Choose a name for your CPU cluster\n",
        "compute_cluster_name = \"titaniclusters\"\n",
        "\n",
        "# Verify that cluster does not exist already\n",
        "try:\n",
        "    compute_target = ComputeTarget(workspace=ws, name=compute_cluster_name)\n",
        "    print('Found existing cluster, use it.')\n",
        "except ComputeTargetException:\n",
        "    compute_config = AmlCompute.provisioning_configuration(vm_size='STANDARD_DS12_V2',\n",
        "                                                           max_nodes=10)\n",
        "    compute_target = ComputeTarget.create(ws, compute_cluster_name, compute_config)\n",
        "\n",
        "compute_target.wait_for_completion(show_output=True)\n"
      ],
      "outputs": [
        {
          "output_type": "stream",
          "name": "stdout",
          "text": [
            "Creating....\n",
            "SucceededProvisioning operation finished, operation \"Succeeded\"\n",
            "Succeeded\n",
            "AmlCompute wait for completion finished\n",
            "\n",
            "Minimum number of nodes requested have been provisioned\n"
          ]
        }
      ],
      "execution_count": 3,
      "metadata": {
        "gather": {
          "logged": 1618875657499
        }
      }
    },
    {
      "cell_type": "markdown",
      "source": [
        "## AutoML Configuration\n",
        "\n",
        "TODO: Explain why you chose the automl settings and cofiguration you used below."
      ],
      "metadata": {}
    },
    {
      "cell_type": "code",
      "source": [
        "# TODO: Put your automl settings here\n",
        "automl_settings = {\n",
        "                    \"max_concurrent_iterations\": 9,\n",
        "                    \"primary_metric\" : 'accuracy'\n",
        "}\n",
        "project_folder = './capstone-project'\n",
        "\n",
        "# TODO: Put your automl config here\n",
        "automl_config = AutoMLConfig(compute_target=compute_target,\n",
        "                             task = \"classification\",\n",
        "                             experiment_timeout_minutes = 20,\n",
        "                             training_data=dataset,\n",
        "                             label_column_name=\"Survived\",   \n",
        "                             path = project_folder,\n",
        "                             enable_early_stopping= True,\n",
        "                             featurization= 'auto',\n",
        "                             debug_log = \"automl_errors.log\",\n",
        "                             **automl_settings)"
      ],
      "outputs": [],
      "execution_count": 4,
      "metadata": {
        "gather": {
          "logged": 1618875657620
        },
        "jupyter": {
          "outputs_hidden": false,
          "source_hidden": false
        },
        "nteract": {
          "transient": {
            "deleting": false
          }
        }
      }
    },
    {
      "cell_type": "code",
      "source": [
        "remote_run = experiment.submit(automl_config, show_output=True)"
      ],
      "outputs": [
        {
          "output_type": "stream",
          "name": "stdout",
          "text": [
            "Submitting remote run.\n",
            "No run_configuration provided, running on titaniclusters with default configuration\n",
            "Running on remote compute: titaniclusters\n"
          ]
        },
        {
          "output_type": "display_data",
          "data": {
            "text/plain": "<IPython.core.display.HTML object>",
            "text/html": "<table style=\"width:100%\"><tr><th>Experiment</th><th>Id</th><th>Type</th><th>Status</th><th>Details Page</th><th>Docs Page</th></tr><tr><td>automl</td><td>AutoML_e135651b-d206-4a9e-8702-47cf6ad158d7</td><td>automl</td><td>NotStarted</td><td><a href=\"https://ml.azure.com/runs/AutoML_e135651b-d206-4a9e-8702-47cf6ad158d7?wsid=/subscriptions/6b4af8be-9931-443e-90f6-c4c34a1f9737/resourcegroups/aml-quickstarts-143194/workspaces/quick-starts-ws-143194&amp;tid=660b3398-b80e-49d2-bc5b-ac1dc93b5254\" target=\"_blank\" rel=\"noopener\">Link to Azure Machine Learning studio</a></td><td><a href=\"https://docs.microsoft.com/en-us/python/api/overview/azure/ml/intro?view=azure-ml-py\" target=\"_blank\" rel=\"noopener\">Link to Documentation</a></td></tr></table>"
          },
          "metadata": {}
        },
        {
          "output_type": "stream",
          "name": "stdout",
          "text": [
            "\n",
            "Current status: FeaturesGeneration. Generating features for the dataset.\n",
            "Current status: DatasetCrossValidationSplit. Generating individually featurized CV splits.\n",
            "Current status: ModelSelection. Beginning model selection.\n",
            "\n",
            "****************************************************************************************************\n",
            "DATA GUARDRAILS: \n",
            "\n",
            "TYPE:         Cross validation\n",
            "STATUS:       DONE\n",
            "DESCRIPTION:  Each iteration of the trained model was validated through cross-validation.\n",
            "              \n",
            "DETAILS:      \n",
            "+---------------------------------+\n",
            "|Number of folds                  |\n",
            "+=================================+\n",
            "|10                               |\n",
            "+---------------------------------+\n",
            "\n",
            "****************************************************************************************************\n",
            "\n",
            "TYPE:         Class balancing detection\n",
            "STATUS:       PASSED\n",
            "DESCRIPTION:  Your inputs were analyzed, and all classes are balanced in your training data.\n",
            "              Learn more about imbalanced data: https://aka.ms/AutomatedMLImbalancedData\n",
            "\n",
            "****************************************************************************************************\n",
            "\n",
            "TYPE:         Missing feature values imputation\n",
            "STATUS:       DONE\n",
            "DESCRIPTION:  If the missing values are expected, let the run complete. Otherwise cancel the current run and use a script to customize the handling of missing feature values that may be more appropriate based on the data type and business requirement.\n",
            "              Learn more about missing value imputation: https://aka.ms/AutomatedMLFeaturization\n",
            "DETAILS:      \n",
            "+---------------------------------+---------------------------------+---------------------------------+\n",
            "|Column name                      |Missing value count              |Imputation type                  |\n",
            "+=================================+=================================+=================================+\n",
            "|Age                              |177                              |mean                             |\n",
            "|Embarked                         |2                                |                                 |\n",
            "+---------------------------------+---------------------------------+---------------------------------+\n",
            "\n",
            "****************************************************************************************************\n",
            "\n",
            "TYPE:         High cardinality feature detection\n",
            "STATUS:       DONE\n",
            "DESCRIPTION:  High cardinality features were detected in your inputs and handled.\n",
            "              Learn more about high cardinality feature handling: https://aka.ms/AutomatedMLFeaturization\n",
            "DETAILS:      High cardinality features refer to columns that contain a large percentage of unique values.\n",
            "+---------------------------------+---------------------------------+\n",
            "|Column name                      |Column Content Type              |\n",
            "+=================================+=================================+\n",
            "|Name                             |text                             |\n",
            "+---------------------------------+---------------------------------+\n",
            "\n",
            "****************************************************************************************************\n",
            "\n",
            "****************************************************************************************************\n",
            "ITERATION: The iteration being evaluated.\n",
            "PIPELINE: A summary description of the pipeline being evaluated.\n",
            "DURATION: Time taken for the current iteration.\n",
            "METRIC: The result of computing score on the fitted pipeline.\n",
            "BEST: The best observed score thus far.\n",
            "****************************************************************************************************\n",
            "\n",
            " ITERATION   PIPELINE                                       DURATION      METRIC      BEST\n",
            "         8   SparseNormalizer XGBoostClassifier             0:00:55       0.8148    0.8148\n",
            "         4   MaxAbsScaler RandomForest                      0:00:44       0.7036    0.8148\n",
            "         5   MaxAbsScaler RandomForest                      0:01:24       0.7868    0.8148\n",
            "         0   MaxAbsScaler LightGBM                          0:01:38       0.8160    0.8160\n",
            "        10   MaxAbsScaler LightGBM                          0:00:52       0.8103    0.8160\n",
            "         3   MaxAbsScaler RandomForest                      0:01:32       0.6183    0.8160\n",
            "         9   MaxAbsScaler LightGBM                          0:01:37       0.8036    0.8160\n",
            "         1   MaxAbsScaler XGBoostClassifier                 0:01:54       0.8103    0.8160\n",
            "         2   MaxAbsScaler RandomForest                      0:02:01       0.7834    0.8160\n",
            "        13   SparseNormalizer XGBoostClassifier             0:00:46       0.8081    0.8160\n",
            "        14   SparseNormalizer LightGBM                      0:00:48       0.7968    0.8160\n",
            "         6   MaxAbsScaler GradientBoosting                  0:02:33       0.8272    0.8272\n",
            "        12   SparseNormalizer XGBoostClassifier             0:01:01       0.8036    0.8272\n",
            "        15   MaxAbsScaler LogisticRegression                0:00:49       0.8036    0.8272\n",
            "        11   SparseNormalizer XGBoostClassifier             0:01:19       0.8025    0.8272\n",
            "         7   SparseNormalizer XGBoostClassifier             0:03:03       0.8081    0.8272\n",
            "        17   SparseNormalizer XGBoostClassifier             0:00:57       0.8058    0.8272\n",
            "        16   SparseNormalizer XGBoostClassifier             0:01:21       0.8103    0.8272\n",
            "        18   SparseNormalizer XGBoostClassifier             0:00:49       0.8069    0.8272\n",
            "        20   MaxAbsScaler LogisticRegression                0:00:51       0.8092    0.8272\n",
            "        22   MaxAbsScaler ExtremeRandomTrees                0:00:49       0.7901    0.8272\n",
            "        21   MaxAbsScaler RandomForest                      0:01:02       0.7845    0.8272\n",
            "        23   StandardScalerWrapper LogisticRegression       0:00:53       0.7744    0.8272\n",
            "        24   MaxAbsScaler LightGBM                          0:00:45       0.8013    0.8272\n",
            "        19   SparseNormalizer XGBoostClassifier             0:01:23       0.8081    0.8272\n",
            "        25   TruncatedSVDWrapper GradientBoosting           0:00:55       0.6161    0.8272\n",
            "        28   MaxAbsScaler LogisticRegression                0:00:46       0.8126    0.8272\n",
            "        30   MaxAbsScaler GradientBoosting                  0:00:41       0.6161    0.8272\n",
            "        32   MaxAbsScaler LightGBM                          0:00:43       0.7934    0.8272\n",
            "        26   MaxAbsScaler LogisticRegression                0:01:27       0.8047    0.8272\n",
            "        31   MaxAbsScaler ExtremeRandomTrees                0:01:01       0.7733    0.8272\n",
            "        33   StandardScalerWrapper XGBoostClassifier        0:00:52       0.8126    0.8272\n",
            "        27   MaxAbsScaler LogisticRegression                0:01:31       0.8047    0.8272\n",
            "        29   SparseNormalizer XGBoostClassifier             0:01:21       0.8036    0.8272\n",
            "        34   TruncatedSVDWrapper XGBoostClassifier          0:00:58       0.7979    0.8272\n",
            "        35   MaxAbsScaler GradientBoosting                  0:00:49       0.6161    0.8272\n",
            "        36   SparseNormalizer LightGBM                      0:00:53       0.7867    0.8272\n",
            "        37   StandardScalerWrapper LightGBM                 0:00:48       0.8126    0.8272\n",
            "        38   StandardScalerWrapper RandomForest             0:00:51       0.7834    0.8272\n",
            "        39   MaxAbsScaler LogisticRegression                0:00:47       0.8092    0.8272\n",
            "        40   MaxAbsScaler GradientBoosting                  0:00:40       0.7868    0.8272\n",
            "        41   MaxAbsScaler LogisticRegression                0:00:37       0.8069    0.8272\n",
            "        42   MaxAbsScaler LogisticRegression                0:00:35          nan    0.8272\n",
            "        43   SparseNormalizer XGBoostClassifier             0:00:27          nan    0.8272\n",
            "        44                                                  0:00:14          nan    0.8272\n",
            "        45                                                  0:00:16          nan    0.8272\n",
            "        46    VotingEnsemble                                0:01:18       0.8350    0.8350\n",
            "        47    StackEnsemble                                 0:01:25       0.8193    0.8350\n"
          ]
        }
      ],
      "execution_count": 5,
      "metadata": {
        "gather": {
          "logged": 1618876701724
        },
        "jupyter": {
          "outputs_hidden": false,
          "source_hidden": false
        },
        "nteract": {
          "transient": {
            "deleting": false
          }
        }
      }
    },
    {
      "cell_type": "markdown",
      "source": [
        "## Run Details\n",
        "\n",
        "OPTIONAL: Write about the different models trained and their performance. Why do you think some models did better than others?\n",
        "\n",
        "TODO: In the cell below, use the `RunDetails` widget to show the different experiments."
      ],
      "metadata": {}
    },
    {
      "cell_type": "code",
      "source": [
        "from azureml.widgets import RunDetails\n",
        "RunDetails(remote_run).show()\n",
        "remote_run.wait_for_completion(show_output=True)"
      ],
      "outputs": [
        {
          "output_type": "display_data",
          "data": {
            "text/plain": "_AutoMLWidget(widget_settings={'childWidgetDisplay': 'popup', 'send_telemetry': False, 'log_level': 'INFO', 's…",
            "application/vnd.jupyter.widget-view+json": {
              "version_major": 2,
              "version_minor": 0,
              "model_id": "6ba32cfa31cc4bf2acc3279121f00dcf"
            }
          },
          "metadata": {}
        },
        {
          "output_type": "display_data",
          "data": {
            "application/aml.mini.widget.v1": "{\"status\": \"Completed\", \"workbench_run_details_uri\": \"https://ml.azure.com/runs/AutoML_e135651b-d206-4a9e-8702-47cf6ad158d7?wsid=/subscriptions/6b4af8be-9931-443e-90f6-c4c34a1f9737/resourcegroups/aml-quickstarts-143194/workspaces/quick-starts-ws-143194&tid=660b3398-b80e-49d2-bc5b-ac1dc93b5254\", \"run_id\": \"AutoML_e135651b-d206-4a9e-8702-47cf6ad158d7\", \"run_properties\": {\"run_id\": \"AutoML_e135651b-d206-4a9e-8702-47cf6ad158d7\", \"created_utc\": \"2021-04-19T23:41:25.643445Z\", \"properties\": {\"num_iterations\": \"1000\", \"training_type\": \"TrainFull\", \"acquisition_function\": \"EI\", \"primary_metric\": \"accuracy\", \"train_split\": \"0\", \"acquisition_parameter\": \"0\", \"num_cross_validation\": null, \"target\": \"titaniclusters\", \"AMLSettingsJsonString\": \"{\\\"path\\\":null,\\\"name\\\":\\\"automl\\\",\\\"subscription_id\\\":\\\"6b4af8be-9931-443e-90f6-c4c34a1f9737\\\",\\\"resource_group\\\":\\\"aml-quickstarts-143194\\\",\\\"workspace_name\\\":\\\"quick-starts-ws-143194\\\",\\\"region\\\":\\\"southcentralus\\\",\\\"compute_target\\\":\\\"titaniclusters\\\",\\\"spark_service\\\":null,\\\"azure_service\\\":\\\"remote\\\",\\\"many_models\\\":false,\\\"pipeline_fetch_max_batch_size\\\":1,\\\"enable_batch_run\\\":false,\\\"enable_run_restructure\\\":false,\\\"iterations\\\":1000,\\\"primary_metric\\\":\\\"accuracy\\\",\\\"task_type\\\":\\\"classification\\\",\\\"data_script\\\":null,\\\"test_size\\\":0.0,\\\"validation_size\\\":0.0,\\\"n_cross_validations\\\":null,\\\"y_min\\\":null,\\\"y_max\\\":null,\\\"num_classes\\\":null,\\\"featurization\\\":\\\"auto\\\",\\\"_ignore_package_version_incompatibilities\\\":false,\\\"is_timeseries\\\":false,\\\"max_cores_per_iteration\\\":1,\\\"max_concurrent_iterations\\\":9,\\\"iteration_timeout_minutes\\\":null,\\\"mem_in_mb\\\":null,\\\"enforce_time_on_windows\\\":false,\\\"experiment_timeout_minutes\\\":20,\\\"experiment_exit_score\\\":null,\\\"whitelist_models\\\":null,\\\"blacklist_algos\\\":[\\\"TensorFlowLinearClassifier\\\",\\\"TensorFlowDNN\\\"],\\\"supported_models\\\":[\\\"ExtremeRandomTrees\\\",\\\"LinearSVM\\\",\\\"BernoulliNaiveBayes\\\",\\\"MultinomialNaiveBayes\\\",\\\"LightGBM\\\",\\\"TensorFlowDNN\\\",\\\"RandomForest\\\",\\\"TensorFlowLinearClassifier\\\",\\\"AveragedPerceptronClassifier\\\",\\\"KNN\\\",\\\"XGBoostClassifier\\\",\\\"DecisionTree\\\",\\\"LogisticRegression\\\",\\\"SGD\\\",\\\"GradientBoosting\\\",\\\"SVM\\\"],\\\"private_models\\\":[],\\\"auto_blacklist\\\":true,\\\"blacklist_samples_reached\\\":false,\\\"exclude_nan_labels\\\":true,\\\"verbosity\\\":20,\\\"_debug_log\\\":\\\"azureml_automl.log\\\",\\\"show_warnings\\\":false,\\\"model_explainability\\\":true,\\\"service_url\\\":null,\\\"sdk_url\\\":null,\\\"sdk_packages\\\":null,\\\"enable_onnx_compatible_models\\\":false,\\\"enable_split_onnx_featurizer_estimator_models\\\":false,\\\"vm_type\\\":\\\"STANDARD_DS12_V2\\\",\\\"telemetry_verbosity\\\":20,\\\"send_telemetry\\\":true,\\\"enable_dnn\\\":false,\\\"scenario\\\":\\\"SDK-1.13.0\\\",\\\"environment_label\\\":null,\\\"save_mlflow\\\":false,\\\"force_text_dnn\\\":false,\\\"enable_feature_sweeping\\\":true,\\\"enable_early_stopping\\\":true,\\\"early_stopping_n_iters\\\":10,\\\"metrics\\\":null,\\\"enable_metric_confidence\\\":false,\\\"enable_ensembling\\\":true,\\\"enable_stack_ensembling\\\":true,\\\"ensemble_iterations\\\":15,\\\"enable_tf\\\":false,\\\"enable_subsampling\\\":null,\\\"subsample_seed\\\":null,\\\"enable_nimbusml\\\":false,\\\"enable_streaming\\\":false,\\\"force_streaming\\\":false,\\\"track_child_runs\\\":true,\\\"allowed_private_models\\\":[],\\\"label_column_name\\\":\\\"Survived\\\",\\\"weight_column_name\\\":null,\\\"cv_split_column_names\\\":null,\\\"enable_local_managed\\\":false,\\\"_local_managed_run_id\\\":null,\\\"cost_mode\\\":1,\\\"lag_length\\\":0,\\\"metric_operation\\\":\\\"maximize\\\",\\\"preprocess\\\":true}\", \"DataPrepJsonString\": \"{\\\\\\\"training_data\\\\\\\": {\\\\\\\"datasetId\\\\\\\": \\\\\\\"65ca1f68-3210-4d79-8f99-b7ac2dd28674\\\\\\\"}, \\\\\\\"datasets\\\\\\\": 0}\", \"EnableSubsampling\": null, \"runTemplate\": \"AutoML\", \"azureml.runsource\": \"automl\", \"display_task_type\": \"classification\", \"dependencies_versions\": \"{\\\"azureml-widgets\\\": \\\"1.26.0\\\", \\\"azureml-train\\\": \\\"1.26.0\\\", \\\"azureml-train-restclients-hyperdrive\\\": \\\"1.26.0\\\", \\\"azureml-train-core\\\": \\\"1.26.0\\\", \\\"azureml-train-automl\\\": \\\"1.26.0\\\", \\\"azureml-train-automl-runtime\\\": \\\"1.26.0\\\", \\\"azureml-train-automl-client\\\": \\\"1.26.0\\\", \\\"azureml-tensorboard\\\": \\\"1.26.0\\\", \\\"azureml-telemetry\\\": \\\"1.26.0\\\", \\\"azureml-sdk\\\": \\\"1.26.0\\\", \\\"azureml-samples\\\": \\\"0+unknown\\\", \\\"azureml-pipeline\\\": \\\"1.26.0\\\", \\\"azureml-pipeline-steps\\\": \\\"1.26.0\\\", \\\"azureml-pipeline-core\\\": \\\"1.26.0\\\", \\\"azureml-opendatasets\\\": \\\"1.26.0\\\", \\\"azureml-model-management-sdk\\\": \\\"1.0.1b6.post1\\\", \\\"azureml-mlflow\\\": \\\"1.26.0\\\", \\\"azureml-interpret\\\": \\\"1.26.0\\\", \\\"azureml-explain-model\\\": \\\"1.26.0\\\", \\\"azureml-defaults\\\": \\\"1.26.0\\\", \\\"azureml-dataset-runtime\\\": \\\"1.26.0\\\", \\\"azureml-dataprep\\\": \\\"2.13.2\\\", \\\"azureml-dataprep-rslex\\\": \\\"1.11.2\\\", \\\"azureml-dataprep-native\\\": \\\"32.0.0\\\", \\\"azureml-datadrift\\\": \\\"1.26.0\\\", \\\"azureml-core\\\": \\\"1.26.0\\\", \\\"azureml-contrib-services\\\": \\\"1.26.0\\\", \\\"azureml-contrib-server\\\": \\\"1.26.0\\\", \\\"azureml-contrib-reinforcementlearning\\\": \\\"1.26.0\\\", \\\"azureml-contrib-pipeline-steps\\\": \\\"1.26.0\\\", \\\"azureml-contrib-notebook\\\": \\\"1.26.0\\\", \\\"azureml-contrib-gbdt\\\": \\\"1.26.0\\\", \\\"azureml-contrib-fairness\\\": \\\"1.26.0\\\", \\\"azureml-contrib-dataset\\\": \\\"1.26.0\\\", \\\"azureml-cli-common\\\": \\\"1.26.0\\\", \\\"azureml-automl-runtime\\\": \\\"1.26.0\\\", \\\"azureml-automl-dnn-nlp\\\": \\\"1.26.0\\\", \\\"azureml-automl-core\\\": \\\"1.26.0\\\", \\\"azureml-accel-models\\\": \\\"1.26.0\\\"}\", \"_aml_system_scenario_identification\": \"Remote.Parent\", \"ClientType\": \"SDK\", \"environment_cpu_name\": \"AzureML-AutoML\", \"environment_cpu_label\": \"prod\", \"environment_gpu_name\": \"AzureML-AutoML-GPU\", \"environment_gpu_label\": \"prod\", \"root_attribution\": \"automl\", \"attribution\": \"AutoML\", \"Orchestrator\": \"AutoML\", \"CancelUri\": \"https://southcentralus.api.azureml.ms/jasmine/v1.0/subscriptions/6b4af8be-9931-443e-90f6-c4c34a1f9737/resourceGroups/aml-quickstarts-143194/providers/Microsoft.MachineLearningServices/workspaces/quick-starts-ws-143194/experimentids/16acba1e-d98f-4008-afc8-124d5779b717/cancel/AutoML_e135651b-d206-4a9e-8702-47cf6ad158d7\", \"ClientSdkVersion\": \"1.26.0\", \"snapshotId\": \"00000000-0000-0000-0000-000000000000\", \"SetupRunId\": \"AutoML_e135651b-d206-4a9e-8702-47cf6ad158d7_setup\", \"SetupRunContainerId\": \"dcid.AutoML_e135651b-d206-4a9e-8702-47cf6ad158d7_setup\", \"FeaturizationRunJsonPath\": \"featurizer_container.json\", \"FeaturizationRunId\": \"AutoML_e135651b-d206-4a9e-8702-47cf6ad158d7_featurize\", \"ProblemInfoJsonString\": \"{\\\"dataset_num_categorical\\\": 0, \\\"is_sparse\\\": true, \\\"subsampling\\\": false, \\\"dataset_classes\\\": 2, \\\"dataset_features\\\": 6974, \\\"dataset_samples\\\": 891, \\\"single_frequency_class_detected\\\": false}\", \"ModelExplainRunId\": \"AutoML_e135651b-d206-4a9e-8702-47cf6ad158d7_ModelExplain\"}, \"tags\": {\"model_explain_run\": \"best_run\", \"_aml_system_azureml.automlComponent\": \"AutoML\", \"pipeline_id\": \"\", \"score\": \"\", \"predicted_cost\": \"\", \"fit_time\": \"\", \"training_percent\": \"\", \"iteration\": \"\", \"run_preprocessor\": \"\", \"run_algorithm\": \"\", \"dynamic_whitelisting_iterations\": \"<25>;<30>;<35>;<40>;<45>;\", \"automl_best_child_run_id\": \"AutoML_e135651b-d206-4a9e-8702-47cf6ad158d7_46\", \"model_explain_best_run_child_id\": \"AutoML_e135651b-d206-4a9e-8702-47cf6ad158d7_46\"}, \"end_time_utc\": \"2021-04-19T23:58:04.142896Z\", \"status\": \"Completed\", \"log_files\": {}, \"log_groups\": [], \"run_duration\": \"0:16:38\", \"run_number\": \"1\", \"run_queued_details\": {\"status\": \"Completed\", \"details\": null}}, \"child_runs\": [{\"run_id\": \"AutoML_e135651b-d206-4a9e-8702-47cf6ad158d7_5\", \"run_number\": 5, \"metric\": null, \"status\": \"Completed\", \"run_type\": \"azureml.scriptrun\", \"training_percent\": \"100\", \"start_time\": \"2021-04-19T23:49:57.202671Z\", \"end_time\": \"2021-04-19T23:51:21.263862Z\", \"created_time\": \"2021-04-19T23:48:16.334902Z\", \"created_time_dt\": \"2021-04-19T23:48:16.334902Z\", \"duration\": \"0:03:04\", \"iteration\": \"5\", \"goal\": \"accuracy_max\", \"run_name\": \"MaxAbsScaler, RandomForest\", \"run_properties\": \"copy=True\", \"primary_metric\": 0.78676654, \"best_metric\": 0.81595506}, {\"run_id\": \"AutoML_e135651b-d206-4a9e-8702-47cf6ad158d7_8\", \"run_number\": 6, \"metric\": null, \"status\": \"Completed\", \"run_type\": \"azureml.scriptrun\", \"training_percent\": \"100\", \"start_time\": \"2021-04-19T23:48:28.656412Z\", \"end_time\": \"2021-04-19T23:49:23.193823Z\", \"created_time\": \"2021-04-19T23:48:16.354003Z\", \"created_time_dt\": \"2021-04-19T23:48:16.354003Z\", \"duration\": \"0:01:06\", \"iteration\": \"8\", \"goal\": \"accuracy_max\", \"run_name\": \"SparseNormalizer, XGBoostClassifier\", \"run_properties\": \"<azureml.automl.runtime.shared.model_wrappers.SparseNormalizer object at 0x7fe35d9c2748\", \"primary_metric\": 0.81479401, \"best_metric\": 0.82717853}, {\"run_id\": \"AutoML_e135651b-d206-4a9e-8702-47cf6ad158d7_4\", \"run_number\": 7, \"metric\": null, \"status\": \"Completed\", \"run_type\": \"azureml.scriptrun\", \"training_percent\": \"100\", \"start_time\": \"2021-04-19T23:49:40.174331Z\", \"end_time\": \"2021-04-19T23:50:24.049225Z\", \"created_time\": \"2021-04-19T23:48:16.338583Z\", \"created_time_dt\": \"2021-04-19T23:48:16.338583Z\", \"duration\": \"0:02:07\", \"iteration\": \"4\", \"goal\": \"accuracy_max\", \"run_name\": \"MaxAbsScaler, RandomForest\", \"run_properties\": \"copy=True\", \"primary_metric\": 0.70358302, \"best_metric\": 0.81595506}, {\"run_id\": \"AutoML_e135651b-d206-4a9e-8702-47cf6ad158d7_1\", \"run_number\": 8, \"metric\": null, \"status\": \"Completed\", \"run_type\": \"azureml.scriptrun\", \"training_percent\": \"100\", \"start_time\": \"2021-04-19T23:49:57.946827Z\", \"end_time\": \"2021-04-19T23:51:52.049667Z\", \"created_time\": \"2021-04-19T23:48:16.340939Z\", \"created_time_dt\": \"2021-04-19T23:48:16.340939Z\", \"duration\": \"0:03:35\", \"iteration\": \"1\", \"goal\": \"accuracy_max\", \"run_name\": \"MaxAbsScaler, XGBoostClassifier\", \"run_properties\": \"copy=True\", \"primary_metric\": 0.81031211, \"best_metric\": 0.81595506}, {\"run_id\": \"AutoML_e135651b-d206-4a9e-8702-47cf6ad158d7_7\", \"run_number\": 9, \"metric\": null, \"status\": \"Completed\", \"run_type\": \"azureml.scriptrun\", \"training_percent\": \"100\", \"start_time\": \"2021-04-19T23:49:55.047178Z\", \"end_time\": \"2021-04-19T23:52:57.910824Z\", \"created_time\": \"2021-04-19T23:48:16.341854Z\", \"created_time_dt\": \"2021-04-19T23:48:16.341854Z\", \"duration\": \"0:04:41\", \"iteration\": \"7\", \"goal\": \"accuracy_max\", \"run_name\": \"SparseNormalizer, XGBoostClassifier\", \"run_properties\": \"<azureml.automl.runtime.shared.model_wrappers.SparseNormalizer object at 0x7f3d935258d0\", \"primary_metric\": 0.80806492, \"best_metric\": 0.82717853}, {\"run_id\": \"AutoML_e135651b-d206-4a9e-8702-47cf6ad158d7_2\", \"run_number\": 10, \"metric\": null, \"status\": \"Completed\", \"run_type\": \"azureml.scriptrun\", \"training_percent\": \"100\", \"start_time\": \"2021-04-19T23:49:58.476277Z\", \"end_time\": \"2021-04-19T23:51:59.627463Z\", \"created_time\": \"2021-04-19T23:48:16.405241Z\", \"created_time_dt\": \"2021-04-19T23:48:16.405241Z\", \"duration\": \"0:03:43\", \"iteration\": \"2\", \"goal\": \"accuracy_max\", \"run_name\": \"MaxAbsScaler, RandomForest\", \"run_properties\": \"copy=True\", \"primary_metric\": 0.78338327, \"best_metric\": 0.81595506}, {\"run_id\": \"AutoML_e135651b-d206-4a9e-8702-47cf6ad158d7_0\", \"run_number\": 11, \"metric\": null, \"status\": \"Completed\", \"run_type\": \"azureml.scriptrun\", \"training_percent\": \"100\", \"start_time\": \"2021-04-19T23:49:55.715305Z\", \"end_time\": \"2021-04-19T23:51:33.420323Z\", \"created_time\": \"2021-04-19T23:48:16.588792Z\", \"created_time_dt\": \"2021-04-19T23:48:16.588792Z\", \"duration\": \"0:03:16\", \"iteration\": \"0\", \"goal\": \"accuracy_max\", \"run_name\": \"MaxAbsScaler, LightGBM\", \"run_properties\": \"copy=True\", \"primary_metric\": 0.81595506, \"best_metric\": 0.81595506}, {\"run_id\": \"AutoML_e135651b-d206-4a9e-8702-47cf6ad158d7_3\", \"run_number\": 12, \"metric\": null, \"status\": \"Completed\", \"run_type\": \"azureml.scriptrun\", \"training_percent\": \"100\", \"start_time\": \"2021-04-19T23:49:54.553431Z\", \"end_time\": \"2021-04-19T23:51:26.76376Z\", \"created_time\": \"2021-04-19T23:48:16.345599Z\", \"created_time_dt\": \"2021-04-19T23:48:16.345599Z\", \"duration\": \"0:03:10\", \"iteration\": \"3\", \"goal\": \"accuracy_max\", \"run_name\": \"MaxAbsScaler, RandomForest\", \"run_properties\": \"copy=True\", \"primary_metric\": 0.61832709, \"best_metric\": 0.81595506}, {\"run_id\": \"AutoML_e135651b-d206-4a9e-8702-47cf6ad158d7_6\", \"run_number\": 13, \"metric\": null, \"status\": \"Completed\", \"run_type\": \"azureml.scriptrun\", \"training_percent\": \"100\", \"start_time\": \"2021-04-19T23:49:55.25437Z\", \"end_time\": \"2021-04-19T23:52:28.322675Z\", \"created_time\": \"2021-04-19T23:48:16.3485Z\", \"created_time_dt\": \"2021-04-19T23:48:16.3485Z\", \"duration\": \"0:04:11\", \"iteration\": \"6\", \"goal\": \"accuracy_max\", \"run_name\": \"MaxAbsScaler, GradientBoosting\", \"run_properties\": \"copy=True\", \"primary_metric\": 0.82717853, \"best_metric\": 0.82717853}, {\"run_id\": \"AutoML_e135651b-d206-4a9e-8702-47cf6ad158d7_9\", \"run_number\": 14, \"metric\": null, \"status\": \"Completed\", \"run_type\": \"azureml.scriptrun\", \"training_percent\": \"100\", \"start_time\": \"2021-04-19T23:49:55.288181Z\", \"end_time\": \"2021-04-19T23:51:32.674924Z\", \"created_time\": \"2021-04-19T23:49:28.043438Z\", \"created_time_dt\": \"2021-04-19T23:49:28.043438Z\", \"duration\": \"0:02:04\", \"iteration\": \"9\", \"goal\": \"accuracy_max\", \"run_name\": \"MaxAbsScaler, LightGBM\", \"run_properties\": \"copy=True\", \"primary_metric\": 0.80355805, \"best_metric\": 0.82717853}, {\"run_id\": \"AutoML_e135651b-d206-4a9e-8702-47cf6ad158d7_10\", \"run_number\": 15, \"metric\": null, \"status\": \"Completed\", \"run_type\": \"azureml.scriptrun\", \"training_percent\": \"100\", \"start_time\": \"2021-04-19T23:50:38.595355Z\", \"end_time\": \"2021-04-19T23:51:30.371587Z\", \"created_time\": \"2021-04-19T23:50:26.879707Z\", \"created_time_dt\": \"2021-04-19T23:50:26.879707Z\", \"duration\": \"0:01:03\", \"iteration\": \"10\", \"goal\": \"accuracy_max\", \"run_name\": \"MaxAbsScaler, LightGBM\", \"run_properties\": \"copy=True\", \"primary_metric\": 0.81032459, \"best_metric\": 0.82717853}, {\"run_id\": \"AutoML_e135651b-d206-4a9e-8702-47cf6ad158d7_11\", \"run_number\": 16, \"metric\": null, \"status\": \"Completed\", \"run_type\": \"azureml.scriptrun\", \"training_percent\": \"100\", \"start_time\": \"2021-04-19T23:51:36.74634Z\", \"end_time\": \"2021-04-19T23:52:56.020151Z\", \"created_time\": \"2021-04-19T23:51:24.024156Z\", \"created_time_dt\": \"2021-04-19T23:51:24.024156Z\", \"duration\": \"0:01:31\", \"iteration\": \"11\", \"goal\": \"accuracy_max\", \"run_name\": \"SparseNormalizer, XGBoostClassifier\", \"run_properties\": \"<azureml.automl.runtime.shared.model_wrappers.SparseNormalizer object at 0x7f65cdbc4f28\", \"primary_metric\": 0.80245943, \"best_metric\": 0.82717853}, {\"run_id\": \"AutoML_e135651b-d206-4a9e-8702-47cf6ad158d7_12\", \"run_number\": 17, \"metric\": null, \"status\": \"Completed\", \"run_type\": \"azureml.scriptrun\", \"training_percent\": \"100\", \"start_time\": \"2021-04-19T23:51:42.574962Z\", \"end_time\": \"2021-04-19T23:52:43.979393Z\", \"created_time\": \"2021-04-19T23:51:30.136763Z\", \"created_time_dt\": \"2021-04-19T23:51:30.136763Z\", \"duration\": \"0:01:13\", \"iteration\": \"12\", \"goal\": \"accuracy_max\", \"run_name\": \"SparseNormalizer, XGBoostClassifier\", \"run_properties\": \"<azureml.automl.runtime.shared.model_wrappers.SparseNormalizer object at 0x7f9190c75828\", \"primary_metric\": 0.80359551, \"best_metric\": 0.82717853}, {\"run_id\": \"AutoML_e135651b-d206-4a9e-8702-47cf6ad158d7_13\", \"run_number\": 18, \"metric\": null, \"status\": \"Completed\", \"run_type\": \"azureml.scriptrun\", \"training_percent\": \"100\", \"start_time\": \"2021-04-19T23:51:45.151372Z\", \"end_time\": \"2021-04-19T23:52:30.8542Z\", \"created_time\": \"2021-04-19T23:51:34.725125Z\", \"created_time_dt\": \"2021-04-19T23:51:34.725125Z\", \"duration\": \"0:00:56\", \"iteration\": \"13\", \"goal\": \"accuracy_max\", \"run_name\": \"SparseNormalizer, XGBoostClassifier\", \"run_properties\": \"<azureml.automl.runtime.shared.model_wrappers.SparseNormalizer object at 0x7f3fdceb59e8\", \"primary_metric\": 0.80808989, \"best_metric\": 0.82717853}, {\"run_id\": \"AutoML_e135651b-d206-4a9e-8702-47cf6ad158d7_14\", \"run_number\": 19, \"metric\": null, \"status\": \"Completed\", \"run_type\": \"azureml.scriptrun\", \"training_percent\": \"100\", \"start_time\": \"2021-04-19T23:51:46.271481Z\", \"end_time\": \"2021-04-19T23:52:34.049736Z\", \"created_time\": \"2021-04-19T23:51:34.841978Z\", \"created_time_dt\": \"2021-04-19T23:51:34.841978Z\", \"duration\": \"0:00:59\", \"iteration\": \"14\", \"goal\": \"accuracy_max\", \"run_name\": \"SparseNormalizer, LightGBM\", \"run_properties\": \"<azureml.automl.runtime.shared.model_wrappers.SparseNormalizer object at 0x7fdbed829048\", \"primary_metric\": 0.79682896, \"best_metric\": 0.82717853}, {\"run_id\": \"AutoML_e135651b-d206-4a9e-8702-47cf6ad158d7_15\", \"run_number\": 20, \"metric\": null, \"status\": \"Completed\", \"run_type\": \"azureml.scriptrun\", \"training_percent\": \"100\", \"start_time\": \"2021-04-19T23:51:49.761188Z\", \"end_time\": \"2021-04-19T23:52:38.754034Z\", \"created_time\": \"2021-04-19T23:51:39.240604Z\", \"created_time_dt\": \"2021-04-19T23:51:39.240604Z\", \"duration\": \"0:00:59\", \"iteration\": \"15\", \"goal\": \"accuracy_max\", \"run_name\": \"MaxAbsScaler, LogisticRegression\", \"run_properties\": \"copy=True\", \"primary_metric\": 0.80355805, \"best_metric\": 0.82717853}, {\"run_id\": \"AutoML_e135651b-d206-4a9e-8702-47cf6ad158d7_16\", \"run_number\": 21, \"metric\": null, \"status\": \"Completed\", \"run_type\": \"azureml.scriptrun\", \"training_percent\": \"100\", \"start_time\": \"2021-04-19T23:52:07.334029Z\", \"end_time\": \"2021-04-19T23:53:28.628718Z\", \"created_time\": \"2021-04-19T23:51:54.55255Z\", \"created_time_dt\": \"2021-04-19T23:51:54.55255Z\", \"duration\": \"0:01:34\", \"iteration\": \"16\", \"goal\": \"accuracy_max\", \"run_name\": \"SparseNormalizer, XGBoostClassifier\", \"run_properties\": \"<azureml.automl.runtime.shared.model_wrappers.SparseNormalizer object at 0x7f037dc9d7f0\", \"primary_metric\": 0.81029963, \"best_metric\": 0.82717853}, {\"run_id\": \"AutoML_e135651b-d206-4a9e-8702-47cf6ad158d7_17\", \"run_number\": 22, \"metric\": null, \"status\": \"Completed\", \"run_type\": \"azureml.scriptrun\", \"training_percent\": \"100\", \"start_time\": \"2021-04-19T23:52:13.082619Z\", \"end_time\": \"2021-04-19T23:53:10.372106Z\", \"created_time\": \"2021-04-19T23:52:01.875846Z\", \"created_time_dt\": \"2021-04-19T23:52:01.875846Z\", \"duration\": \"0:01:08\", \"iteration\": \"17\", \"goal\": \"accuracy_max\", \"run_name\": \"SparseNormalizer, XGBoostClassifier\", \"run_properties\": \"<azureml.automl.runtime.shared.model_wrappers.SparseNormalizer object at 0x7fe4854edeb8\", \"primary_metric\": 0.80580524, \"best_metric\": 0.82717853}, {\"run_id\": \"AutoML_e135651b-d206-4a9e-8702-47cf6ad158d7_18\", \"run_number\": 23, \"metric\": null, \"status\": \"Completed\", \"run_type\": \"azureml.scriptrun\", \"training_percent\": \"100\", \"start_time\": \"2021-04-19T23:52:43.789171Z\", \"end_time\": \"2021-04-19T23:53:32.456447Z\", \"created_time\": \"2021-04-19T23:52:30.609867Z\", \"created_time_dt\": \"2021-04-19T23:52:30.609867Z\", \"duration\": \"0:01:01\", \"iteration\": \"18\", \"goal\": \"accuracy_max\", \"run_name\": \"SparseNormalizer, XGBoostClassifier\", \"run_properties\": \"<azureml.automl.runtime.shared.model_wrappers.SparseNormalizer object at 0x7f24ec938c18\", \"primary_metric\": 0.80692884, \"best_metric\": 0.82717853}, {\"run_id\": \"AutoML_e135651b-d206-4a9e-8702-47cf6ad158d7_19\", \"run_number\": 24, \"metric\": null, \"status\": \"Completed\", \"run_type\": \"azureml.scriptrun\", \"training_percent\": \"100\", \"start_time\": \"2021-04-19T23:52:46.890827Z\", \"end_time\": \"2021-04-19T23:54:09.692157Z\", \"created_time\": \"2021-04-19T23:52:34.587812Z\", \"created_time_dt\": \"2021-04-19T23:52:34.587812Z\", \"duration\": \"0:01:35\", \"iteration\": \"19\", \"goal\": \"accuracy_max\", \"run_name\": \"SparseNormalizer, XGBoostClassifier\", \"run_properties\": \"<azureml.automl.runtime.shared.model_wrappers.SparseNormalizer object at 0x7ff7c2b4ab00\", \"primary_metric\": 0.80805243, \"best_metric\": 0.82717853}, {\"run_id\": \"AutoML_e135651b-d206-4a9e-8702-47cf6ad158d7_20\", \"run_number\": 25, \"metric\": null, \"status\": \"Completed\", \"run_type\": \"azureml.scriptrun\", \"training_percent\": \"100\", \"start_time\": \"2021-04-19T23:52:50.028309Z\", \"end_time\": \"2021-04-19T23:53:41.426985Z\", \"created_time\": \"2021-04-19T23:52:39.773979Z\", \"created_time_dt\": \"2021-04-19T23:52:39.773979Z\", \"duration\": \"0:01:01\", \"iteration\": \"20\", \"goal\": \"accuracy_max\", \"run_name\": \"MaxAbsScaler, LogisticRegression\", \"run_properties\": \"copy=True\", \"primary_metric\": 0.80917603, \"best_metric\": 0.82717853}, {\"run_id\": \"AutoML_e135651b-d206-4a9e-8702-47cf6ad158d7_21\", \"run_number\": 26, \"metric\": null, \"status\": \"Completed\", \"run_type\": \"azureml.scriptrun\", \"training_percent\": \"100\", \"start_time\": \"2021-04-19T23:52:52.721681Z\", \"end_time\": \"2021-04-19T23:53:54.693354Z\", \"created_time\": \"2021-04-19T23:52:44.274652Z\", \"created_time_dt\": \"2021-04-19T23:52:44.274652Z\", \"duration\": \"0:01:10\", \"iteration\": \"21\", \"goal\": \"accuracy_max\", \"run_name\": \"MaxAbsScaler, RandomForest\", \"run_properties\": \"copy=True\", \"primary_metric\": 0.78449438, \"best_metric\": 0.82717853}, {\"run_id\": \"AutoML_e135651b-d206-4a9e-8702-47cf6ad158d7_22\", \"run_number\": 27, \"metric\": null, \"status\": \"Completed\", \"run_type\": \"azureml.scriptrun\", \"training_percent\": \"100\", \"start_time\": \"2021-04-19T23:53:00.850801Z\", \"end_time\": \"2021-04-19T23:53:49.901522Z\", \"created_time\": \"2021-04-19T23:52:48.110239Z\", \"created_time_dt\": \"2021-04-19T23:52:48.110239Z\", \"duration\": \"0:01:01\", \"iteration\": \"22\", \"goal\": \"accuracy_max\", \"run_name\": \"MaxAbsScaler, ExtremeRandomTrees\", \"run_properties\": \"copy=True\", \"primary_metric\": 0.79008739, \"best_metric\": 0.82717853}, {\"run_id\": \"AutoML_e135651b-d206-4a9e-8702-47cf6ad158d7_23\", \"run_number\": 28, \"metric\": null, \"status\": \"Completed\", \"run_type\": \"azureml.scriptrun\", \"training_percent\": \"100\", \"start_time\": \"2021-04-19T23:53:10.922985Z\", \"end_time\": \"2021-04-19T23:54:03.49601Z\", \"created_time\": \"2021-04-19T23:52:57.935682Z\", \"created_time_dt\": \"2021-04-19T23:52:57.935682Z\", \"duration\": \"0:01:05\", \"iteration\": \"23\", \"goal\": \"accuracy_max\", \"run_name\": \"StandardScalerWrapper, LogisticRegression\", \"run_properties\": \"<azureml.automl.runtime.shared.model_wrappers.StandardScalerWrapper object at 0x7f0ec6e5ab38\", \"primary_metric\": 0.77439451, \"best_metric\": 0.82717853}, {\"run_id\": \"AutoML_e135651b-d206-4a9e-8702-47cf6ad158d7_24\", \"run_number\": 29, \"metric\": null, \"status\": \"Completed\", \"run_type\": \"azureml.scriptrun\", \"training_percent\": \"100\", \"start_time\": \"2021-04-19T23:53:13.125708Z\", \"end_time\": \"2021-04-19T23:53:58.025294Z\", \"created_time\": \"2021-04-19T23:53:02.507155Z\", \"created_time_dt\": \"2021-04-19T23:53:02.507155Z\", \"duration\": \"0:00:55\", \"iteration\": \"24\", \"goal\": \"accuracy_max\", \"run_name\": \"MaxAbsScaler, LightGBM\", \"run_properties\": \"copy=True\", \"primary_metric\": 0.80131086, \"best_metric\": 0.82717853}, {\"run_id\": \"AutoML_e135651b-d206-4a9e-8702-47cf6ad158d7_25\", \"run_number\": 30, \"metric\": null, \"status\": \"Completed\", \"run_type\": \"azureml.scriptrun\", \"training_percent\": \"100\", \"start_time\": \"2021-04-19T23:53:26.353054Z\", \"end_time\": \"2021-04-19T23:54:21.467586Z\", \"created_time\": \"2021-04-19T23:53:13.694643Z\", \"created_time_dt\": \"2021-04-19T23:53:13.694643Z\", \"duration\": \"0:01:07\", \"iteration\": \"25\", \"goal\": \"accuracy_max\", \"run_name\": \"TruncatedSVDWrapper, GradientBoosting\", \"run_properties\": \"n_components=0.2573684210526316, random_state=None\", \"primary_metric\": 0.61610487, \"best_metric\": 0.82717853}, {\"run_id\": \"AutoML_e135651b-d206-4a9e-8702-47cf6ad158d7_26\", \"run_number\": 31, \"metric\": null, \"status\": \"Completed\", \"run_type\": \"azureml.scriptrun\", \"training_percent\": \"100\", \"start_time\": \"2021-04-19T23:53:45.517404Z\", \"end_time\": \"2021-04-19T23:55:12.32186Z\", \"created_time\": \"2021-04-19T23:53:31.510097Z\", \"created_time_dt\": \"2021-04-19T23:53:31.510097Z\", \"duration\": \"0:01:40\", \"iteration\": \"26\", \"goal\": \"accuracy_max\", \"run_name\": \"MaxAbsScaler, LogisticRegression\", \"run_properties\": \"copy=True\", \"primary_metric\": 0.80468165, \"best_metric\": 0.82717853}, {\"run_id\": \"AutoML_e135651b-d206-4a9e-8702-47cf6ad158d7_27\", \"run_number\": 32, \"metric\": null, \"status\": \"Completed\", \"run_type\": \"azureml.scriptrun\", \"training_percent\": \"100\", \"start_time\": \"2021-04-19T23:53:52.075445Z\", \"end_time\": \"2021-04-19T23:55:23.043448Z\", \"created_time\": \"2021-04-19T23:53:41.125982Z\", \"created_time_dt\": \"2021-04-19T23:53:41.125982Z\", \"duration\": \"0:01:41\", \"iteration\": \"27\", \"goal\": \"accuracy_max\", \"run_name\": \"MaxAbsScaler, LogisticRegression\", \"run_properties\": \"copy=True\", \"primary_metric\": 0.80468165, \"best_metric\": 0.82717853}, {\"run_id\": \"AutoML_e135651b-d206-4a9e-8702-47cf6ad158d7_28\", \"run_number\": 33, \"metric\": null, \"status\": \"Completed\", \"run_type\": \"azureml.scriptrun\", \"training_percent\": \"100\", \"start_time\": \"2021-04-19T23:53:58.312148Z\", \"end_time\": \"2021-04-19T23:54:44.410037Z\", \"created_time\": \"2021-04-19T23:53:46.384399Z\", \"created_time_dt\": \"2021-04-19T23:53:46.384399Z\", \"duration\": \"0:00:58\", \"iteration\": \"28\", \"goal\": \"accuracy_max\", \"run_name\": \"MaxAbsScaler, LogisticRegression\", \"run_properties\": \"copy=True\", \"primary_metric\": 0.8125593, \"best_metric\": 0.82717853}, {\"run_id\": \"AutoML_e135651b-d206-4a9e-8702-47cf6ad158d7_29\", \"run_number\": 34, \"metric\": null, \"status\": \"Completed\", \"run_type\": \"azureml.scriptrun\", \"training_percent\": \"100\", \"start_time\": \"2021-04-19T23:54:05.208407Z\", \"end_time\": \"2021-04-19T23:55:25.968756Z\", \"created_time\": \"2021-04-19T23:53:53.101498Z\", \"created_time_dt\": \"2021-04-19T23:53:53.101498Z\", \"duration\": \"0:01:32\", \"iteration\": \"29\", \"goal\": \"accuracy_max\", \"run_name\": \"SparseNormalizer, XGBoostClassifier\", \"run_properties\": \"<azureml.automl.runtime.shared.model_wrappers.SparseNormalizer object at 0x7f07c7bab748\", \"primary_metric\": 0.80355805, \"best_metric\": 0.82717853}, {\"run_id\": \"AutoML_e135651b-d206-4a9e-8702-47cf6ad158d7_30\", \"run_number\": 35, \"metric\": null, \"status\": \"Completed\", \"run_type\": \"azureml.scriptrun\", \"training_percent\": \"100\", \"start_time\": \"2021-04-19T23:54:12.20477Z\", \"end_time\": \"2021-04-19T23:54:53.380816Z\", \"created_time\": \"2021-04-19T23:53:59.377992Z\", \"created_time_dt\": \"2021-04-19T23:53:59.377992Z\", \"duration\": \"0:00:54\", \"iteration\": \"30\", \"goal\": \"accuracy_max\", \"run_name\": \"MaxAbsScaler, GradientBoosting\", \"run_properties\": \"copy=True\", \"primary_metric\": 0.61610487, \"best_metric\": 0.82717853}, {\"run_id\": \"AutoML_e135651b-d206-4a9e-8702-47cf6ad158d7_31\", \"run_number\": 36, \"metric\": null, \"status\": \"Completed\", \"run_type\": \"azureml.scriptrun\", \"training_percent\": \"100\", \"start_time\": \"2021-04-19T23:54:15.811698Z\", \"end_time\": \"2021-04-19T23:55:17.228818Z\", \"created_time\": \"2021-04-19T23:54:04.956057Z\", \"created_time_dt\": \"2021-04-19T23:54:04.956057Z\", \"duration\": \"0:01:12\", \"iteration\": \"31\", \"goal\": \"accuracy_max\", \"run_name\": \"MaxAbsScaler, ExtremeRandomTrees\", \"run_properties\": \"copy=True\", \"primary_metric\": 0.77327091, \"best_metric\": 0.82717853}, {\"run_id\": \"AutoML_e135651b-d206-4a9e-8702-47cf6ad158d7_32\", \"run_number\": 37, \"metric\": null, \"status\": \"Completed\", \"run_type\": \"azureml.scriptrun\", \"training_percent\": \"100\", \"start_time\": \"2021-04-19T23:54:21.46404Z\", \"end_time\": \"2021-04-19T23:55:04.42109Z\", \"created_time\": \"2021-04-19T23:54:10.287183Z\", \"created_time_dt\": \"2021-04-19T23:54:10.287183Z\", \"duration\": \"0:00:54\", \"iteration\": \"32\", \"goal\": \"accuracy_max\", \"run_name\": \"MaxAbsScaler, LightGBM\", \"run_properties\": \"copy=True\", \"primary_metric\": 0.79344569, \"best_metric\": 0.82717853}, {\"run_id\": \"AutoML_e135651b-d206-4a9e-8702-47cf6ad158d7_33\", \"run_number\": 38, \"metric\": null, \"status\": \"Completed\", \"run_type\": \"azureml.scriptrun\", \"training_percent\": \"100\", \"start_time\": \"2021-04-19T23:54:28.439288Z\", \"end_time\": \"2021-04-19T23:55:20.153755Z\", \"created_time\": \"2021-04-19T23:54:15.54246Z\", \"created_time_dt\": \"2021-04-19T23:54:15.54246Z\", \"duration\": \"0:01:04\", \"iteration\": \"33\", \"goal\": \"accuracy_max\", \"run_name\": \"StandardScalerWrapper, XGBoostClassifier\", \"run_properties\": \"<azureml.automl.runtime.shared.model_wrappers.StandardScalerWrapper object at 0x7fc9540af198\", \"primary_metric\": 0.8125593, \"best_metric\": 0.82717853}, {\"run_id\": \"AutoML_e135651b-d206-4a9e-8702-47cf6ad158d7_34\", \"run_number\": 39, \"metric\": null, \"status\": \"Completed\", \"run_type\": \"azureml.scriptrun\", \"training_percent\": \"100\", \"start_time\": \"2021-04-19T23:54:36.203898Z\", \"end_time\": \"2021-04-19T23:55:33.78171Z\", \"created_time\": \"2021-04-19T23:54:24.002879Z\", \"created_time_dt\": \"2021-04-19T23:54:24.002879Z\", \"duration\": \"0:01:09\", \"iteration\": \"34\", \"goal\": \"accuracy_max\", \"run_name\": \"TruncatedSVDWrapper, XGBoostClassifier\", \"run_properties\": \"n_components=0.45526315789473687, random_state=None\", \"primary_metric\": 0.79791511, \"best_metric\": 0.82717853}, {\"run_id\": \"AutoML_e135651b-d206-4a9e-8702-47cf6ad158d7_35\", \"run_number\": 40, \"metric\": null, \"status\": \"Completed\", \"run_type\": \"azureml.scriptrun\", \"training_percent\": \"100\", \"start_time\": \"2021-04-19T23:55:01.715551Z\", \"end_time\": \"2021-04-19T23:55:50.883886Z\", \"created_time\": \"2021-04-19T23:54:47.945792Z\", \"created_time_dt\": \"2021-04-19T23:54:47.945792Z\", \"duration\": \"0:01:02\", \"iteration\": \"35\", \"goal\": \"accuracy_max\", \"run_name\": \"MaxAbsScaler, GradientBoosting\", \"run_properties\": \"copy=True\", \"primary_metric\": 0.61610487, \"best_metric\": 0.82717853}, {\"run_id\": \"AutoML_e135651b-d206-4a9e-8702-47cf6ad158d7_36\", \"run_number\": 41, \"metric\": null, \"status\": \"Completed\", \"run_type\": \"azureml.scriptrun\", \"training_percent\": \"100\", \"start_time\": \"2021-04-19T23:55:09.968206Z\", \"end_time\": \"2021-04-19T23:56:02.878157Z\", \"created_time\": \"2021-04-19T23:54:55.977294Z\", \"created_time_dt\": \"2021-04-19T23:54:55.977294Z\", \"duration\": \"0:01:06\", \"iteration\": \"36\", \"goal\": \"accuracy_max\", \"run_name\": \"SparseNormalizer, LightGBM\", \"run_properties\": \"<azureml.automl.runtime.shared.model_wrappers.SparseNormalizer object at 0x7f7081b6cf28\", \"primary_metric\": 0.78674157, \"best_metric\": 0.82717853}, {\"run_id\": \"AutoML_e135651b-d206-4a9e-8702-47cf6ad158d7_37\", \"run_number\": 42, \"metric\": null, \"status\": \"Completed\", \"run_type\": \"azureml.scriptrun\", \"training_percent\": \"100\", \"start_time\": \"2021-04-19T23:55:22.536793Z\", \"end_time\": \"2021-04-19T23:56:10.681093Z\", \"created_time\": \"2021-04-19T23:55:10.910436Z\", \"created_time_dt\": \"2021-04-19T23:55:10.910436Z\", \"duration\": \"0:00:59\", \"iteration\": \"37\", \"goal\": \"accuracy_max\", \"run_name\": \"StandardScalerWrapper, LightGBM\", \"run_properties\": \"<azureml.automl.runtime.shared.model_wrappers.StandardScalerWrapper object at 0x7f3fde62b5c0\", \"primary_metric\": 0.81258427, \"best_metric\": 0.82717853}, {\"run_id\": \"AutoML_e135651b-d206-4a9e-8702-47cf6ad158d7_38\", \"run_number\": 43, \"metric\": null, \"status\": \"Canceled\", \"run_type\": \"azureml.scriptrun\", \"training_percent\": \"100\", \"start_time\": \"2021-04-19T23:55:27.145759Z\", \"end_time\": \"2021-04-19T23:56:18.177259Z\", \"created_time\": \"2021-04-19T23:55:15.333852Z\", \"created_time_dt\": \"2021-04-19T23:55:15.333852Z\", \"duration\": \"0:01:02\", \"iteration\": \"38\", \"goal\": \"accuracy_max\", \"run_name\": \"StandardScalerWrapper, RandomForest\", \"run_properties\": \"<azureml.automl.runtime.shared.model_wrappers.StandardScalerWrapper object at 0x7fcb7bfcb978\", \"primary_metric\": 0.78337079, \"best_metric\": 0.82717853}, {\"run_id\": \"AutoML_e135651b-d206-4a9e-8702-47cf6ad158d7_39\", \"run_number\": 44, \"metric\": null, \"status\": \"Canceled\", \"run_type\": \"azureml.scriptrun\", \"training_percent\": \"100\", \"start_time\": \"2021-04-19T23:55:31.806521Z\", \"end_time\": \"2021-04-19T23:56:18.717205Z\", \"created_time\": \"2021-04-19T23:55:21.20985Z\", \"created_time_dt\": \"2021-04-19T23:55:21.20985Z\", \"duration\": \"0:00:57\", \"iteration\": \"39\", \"goal\": \"accuracy_max\", \"run_name\": \"MaxAbsScaler, LogisticRegression\", \"run_properties\": \"copy=True\", \"primary_metric\": 0.80918851, \"best_metric\": 0.82717853}, {\"run_id\": \"AutoML_e135651b-d206-4a9e-8702-47cf6ad158d7_40\", \"run_number\": 45, \"metric\": null, \"status\": \"Canceled\", \"run_type\": \"azureml.scriptrun\", \"training_percent\": \"100\", \"start_time\": \"2021-04-19T23:55:37.470118Z\", \"end_time\": \"2021-04-19T23:56:17.755777Z\", \"created_time\": \"2021-04-19T23:55:27.259244Z\", \"created_time_dt\": \"2021-04-19T23:55:27.259244Z\", \"duration\": \"0:00:50\", \"iteration\": \"40\", \"goal\": \"accuracy_max\", \"run_name\": \"MaxAbsScaler, GradientBoosting\", \"run_properties\": \"copy=True\", \"primary_metric\": 0.78675406, \"best_metric\": 0.82717853}, {\"run_id\": \"AutoML_e135651b-d206-4a9e-8702-47cf6ad158d7_41\", \"run_number\": 46, \"metric\": null, \"status\": \"Canceled\", \"run_type\": \"azureml.scriptrun\", \"training_percent\": \"100\", \"start_time\": \"2021-04-19T23:55:41.593939Z\", \"end_time\": \"2021-04-19T23:56:18.347479Z\", \"created_time\": \"2021-04-19T23:55:27.38881Z\", \"created_time_dt\": \"2021-04-19T23:55:27.38881Z\", \"duration\": \"0:00:50\", \"iteration\": \"41\", \"goal\": \"accuracy_max\", \"run_name\": \"MaxAbsScaler, LogisticRegression\", \"run_properties\": \"copy=True\", \"primary_metric\": 0.80692884, \"best_metric\": 0.82717853}, {\"run_id\": \"AutoML_e135651b-d206-4a9e-8702-47cf6ad158d7_42\", \"run_number\": 47, \"metric\": null, \"status\": \"Canceled\", \"run_type\": \"azureml.scriptrun\", \"training_percent\": \"100\", \"start_time\": \"2021-04-19T23:55:43.87849Z\", \"end_time\": \"2021-04-19T23:56:18.55873Z\", \"created_time\": \"2021-04-19T23:55:33.136899Z\", \"created_time_dt\": \"2021-04-19T23:55:33.136899Z\", \"duration\": \"0:00:45\", \"iteration\": \"42\", \"goal\": null, \"run_name\": \"MaxAbsScaler, LogisticRegression\", \"run_properties\": null}, {\"run_id\": \"AutoML_e135651b-d206-4a9e-8702-47cf6ad158d7_43\", \"run_number\": 48, \"metric\": null, \"status\": \"Canceled\", \"run_type\": \"azureml.scriptrun\", \"training_percent\": \"100\", \"start_time\": \"2021-04-19T23:55:50.761402Z\", \"end_time\": \"2021-04-19T23:56:17.980953Z\", \"created_time\": \"2021-04-19T23:55:37.065137Z\", \"created_time_dt\": \"2021-04-19T23:55:37.065137Z\", \"duration\": \"0:00:40\", \"iteration\": \"43\", \"goal\": null, \"run_name\": \"SparseNormalizer, XGBoostClassifier\", \"run_properties\": null}, {\"run_id\": \"AutoML_e135651b-d206-4a9e-8702-47cf6ad158d7_44\", \"run_number\": 49, \"metric\": null, \"status\": \"Canceled\", \"run_type\": \"azureml.scriptrun\", \"training_percent\": \"100\", \"start_time\": \"2021-04-19T23:56:04.499816Z\", \"end_time\": \"2021-04-19T23:56:18.06565Z\", \"created_time\": \"2021-04-19T23:55:53.701112Z\", \"created_time_dt\": \"2021-04-19T23:55:53.701112Z\", \"duration\": \"0:00:24\", \"iteration\": \"44\", \"goal\": null, \"run_name\": \"Canceled\", \"run_properties\": null}, {\"run_id\": \"AutoML_e135651b-d206-4a9e-8702-47cf6ad158d7_45\", \"run_number\": 50, \"metric\": null, \"status\": \"Canceled\", \"run_type\": \"azureml.scriptrun\", \"training_percent\": \"100\", \"start_time\": \"2021-04-19T23:56:06.638378Z\", \"end_time\": \"2021-04-19T23:56:22.493232Z\", \"created_time\": \"2021-04-19T23:56:06.638378Z\", \"created_time_dt\": \"2021-04-19T23:56:06.638378Z\", \"duration\": \"0:00:15\", \"iteration\": \"45\", \"goal\": null, \"run_name\": \"Canceled\", \"run_properties\": null}, {\"run_id\": \"AutoML_e135651b-d206-4a9e-8702-47cf6ad158d7_47\", \"run_number\": 51, \"metric\": null, \"status\": \"Completed\", \"run_type\": \"azureml.scriptrun\", \"training_percent\": \"100\", \"start_time\": \"2021-04-19T23:56:35.615437Z\", \"end_time\": \"2021-04-19T23:58:00.125508Z\", \"created_time\": \"2021-04-19T23:56:24.092887Z\", \"created_time_dt\": \"2021-04-19T23:56:24.092887Z\", \"duration\": \"0:01:36\", \"iteration\": \"47\", \"goal\": \"accuracy_max\", \"run_name\": \"StackEnsemble\", \"run_properties\": \"base_learners=[('6',\\n                                        Pipeline(memory=None,\\n                                                 steps=[('maxabsscaler',\\n                                                         MaxAbsScaler(copy=True\", \"primary_metric\": 0.81931336, \"best_metric\": 0.8350437}, {\"run_id\": \"AutoML_e135651b-d206-4a9e-8702-47cf6ad158d7_46\", \"run_number\": 52, \"metric\": null, \"status\": \"Completed\", \"run_type\": \"azureml.scriptrun\", \"training_percent\": \"100\", \"start_time\": \"2021-04-19T23:56:37.591146Z\", \"end_time\": \"2021-04-19T23:57:55.58455Z\", \"created_time\": \"2021-04-19T23:56:24.102672Z\", \"created_time_dt\": \"2021-04-19T23:56:24.102672Z\", \"duration\": \"0:01:31\", \"iteration\": \"46\", \"goal\": \"accuracy_max\", \"run_name\": \"VotingEnsemble\", \"run_properties\": \"classification_labels=None,\\n                              estimators=[('6',\\n                                           Pipeline(memory=None,\\n                                                    steps=[('maxabsscaler',\\n                                                            MaxAbsScaler(copy=True\", \"primary_metric\": 0.8350437, \"best_metric\": 0.8350437}], \"children_metrics\": {\"categories\": [0], \"series\": {\"accuracy\": [{\"categories\": [\"0\", \"1\", \"2\", \"3\", \"4\", \"5\", \"6\", \"7\", \"8\", \"9\", \"10\", \"11\", \"12\", \"13\", \"14\", \"15\", \"16\", \"17\", \"18\", \"19\", \"20\", \"21\", \"22\", \"23\", \"24\", \"25\", \"26\", \"27\", \"28\", \"29\", \"30\", \"31\", \"32\", \"33\", \"34\", \"35\", \"36\", \"37\", \"38\", \"39\", \"40\", \"41\", \"46\", \"47\"], \"mode\": \"markers\", \"name\": \"accuracy\", \"stepped\": false, \"type\": \"scatter\", \"data\": [0.8159550561797753, 0.8103121098626718, 0.7833832709113608, 0.61832709113608, 0.7035830212234706, 0.7867665418227217, 0.8271785268414481, 0.8080649188514357, 0.8147940074906366, 0.8035580524344569, 0.8103245942571784, 0.8024594257178528, 0.8035955056179775, 0.8080898876404495, 0.7968289637952559, 0.8035580524344569, 0.8102996254681647, 0.8058052434456929, 0.8069288389513108, 0.8080524344569289, 0.8091760299625468, 0.784494382022472, 0.790087390761548, 0.774394506866417, 0.8013108614232209, 0.6161048689138577, 0.804681647940075, 0.8046816479400748, 0.8125593008739076, 0.8035580524344571, 0.6161048689138577, 0.7732709113607991, 0.7934456928838951, 0.8125593008739077, 0.7979151061173534, 0.6161048689138577, 0.786741573033708, 0.8125842696629213, 0.783370786516854, 0.8091885143570536, 0.7867540574282147, 0.8069288389513108, 0.835043695380774, 0.8193133583021224]}, {\"categories\": [\"0\", \"1\", \"2\", \"3\", \"4\", \"5\", \"6\", \"7\", \"8\", \"9\", \"10\", \"11\", \"12\", \"13\", \"14\", \"15\", \"16\", \"17\", \"18\", \"19\", \"20\", \"21\", \"22\", \"23\", \"24\", \"25\", \"26\", \"27\", \"28\", \"29\", \"30\", \"31\", \"32\", \"33\", \"34\", \"35\", \"36\", \"37\", \"38\", \"39\", \"40\", \"41\", \"46\", \"47\"], \"mode\": \"lines\", \"name\": \"accuracy_max\", \"stepped\": true, \"type\": \"scatter\", \"data\": [0.8159550561797753, 0.8159550561797753, 0.8159550561797753, 0.8159550561797753, 0.8159550561797753, 0.8159550561797753, 0.8271785268414481, 0.8271785268414481, 0.8271785268414481, 0.8271785268414481, 0.8271785268414481, 0.8271785268414481, 0.8271785268414481, 0.8271785268414481, 0.8271785268414481, 0.8271785268414481, 0.8271785268414481, 0.8271785268414481, 0.8271785268414481, 0.8271785268414481, 0.8271785268414481, 0.8271785268414481, 0.8271785268414481, 0.8271785268414481, 0.8271785268414481, 0.8271785268414481, 0.8271785268414481, 0.8271785268414481, 0.8271785268414481, 0.8271785268414481, 0.8271785268414481, 0.8271785268414481, 0.8271785268414481, 0.8271785268414481, 0.8271785268414481, 0.8271785268414481, 0.8271785268414481, 0.8271785268414481, 0.8271785268414481, 0.8271785268414481, 0.8271785268414481, 0.8271785268414481, 0.835043695380774, 0.835043695380774]}], \"balanced_accuracy\": [{\"categories\": [\"0\", \"1\", \"2\", \"3\", \"4\", \"5\", \"6\", \"7\", \"8\", \"9\", \"10\", \"11\", \"12\", \"13\", \"14\", \"15\", \"16\", \"17\", \"18\", \"19\", \"20\", \"21\", \"22\", \"23\", \"24\", \"25\", \"26\", \"27\", \"28\", \"29\", \"30\", \"31\", \"32\", \"33\", \"34\", \"35\", \"36\", \"37\", \"38\", \"39\", \"40\", \"41\", \"46\", \"47\"], \"mode\": \"markers\", \"name\": \"balanced_accuracy\", \"stepped\": false, \"type\": \"scatter\", \"data\": [0.7952799890744926, 0.7898811575753069, 0.762030997590486, 0.5074858757062147, 0.6842955371852975, 0.7795759043066155, 0.8057986591196435, 0.7884046015598336, 0.7899015465975092, 0.7839019813816577, 0.7890302479235629, 0.7830595336528136, 0.7820438020633567, 0.7852392090302124, 0.777109809092775, 0.78476161607475, 0.7876987039138422, 0.7819357044976066, 0.7797750633964677, 0.7879314213271505, 0.7909065773605282, 0.7700137805398231, 0.7749066666145488, 0.7489173366952263, 0.7823071560071984, 0.5, 0.7857357201051107, 0.7859520922652262, 0.7940029052796488, 0.7805222032788672, 0.5, 0.7571308950423081, 0.777190217156644, 0.7940272341938315, 0.7703026295355773, 0.5, 0.7734314835387581, 0.7879161821350539, 0.7660060339004975, 0.7951408875354349, 0.7812323547804081, 0.7896012704882137, 0.811901381387444, 0.7979198596290085]}, {\"categories\": [\"0\", \"1\", \"2\", \"3\", \"4\", \"5\", \"6\", \"7\", \"8\", \"9\", \"10\", \"11\", \"12\", \"13\", \"14\", \"15\", \"16\", \"17\", \"18\", \"19\", \"20\", \"21\", \"22\", \"23\", \"24\", \"25\", \"26\", \"27\", \"28\", \"29\", \"30\", \"31\", \"32\", \"33\", \"34\", \"35\", \"36\", \"37\", \"38\", \"39\", \"40\", \"41\", \"46\", \"47\"], \"mode\": \"lines\", \"name\": \"balanced_accuracy_max\", \"stepped\": true, \"type\": \"scatter\", \"data\": [0.7952799890744926, 0.7952799890744926, 0.7952799890744926, 0.7952799890744926, 0.7952799890744926, 0.7952799890744926, 0.8057986591196435, 0.8057986591196435, 0.8057986591196435, 0.8057986591196435, 0.8057986591196435, 0.8057986591196435, 0.8057986591196435, 0.8057986591196435, 0.8057986591196435, 0.8057986591196435, 0.8057986591196435, 0.8057986591196435, 0.8057986591196435, 0.8057986591196435, 0.8057986591196435, 0.8057986591196435, 0.8057986591196435, 0.8057986591196435, 0.8057986591196435, 0.8057986591196435, 0.8057986591196435, 0.8057986591196435, 0.8057986591196435, 0.8057986591196435, 0.8057986591196435, 0.8057986591196435, 0.8057986591196435, 0.8057986591196435, 0.8057986591196435, 0.8057986591196435, 0.8057986591196435, 0.8057986591196435, 0.8057986591196435, 0.8057986591196435, 0.8057986591196435, 0.8057986591196435, 0.811901381387444, 0.811901381387444]}], \"recall_score_micro\": [{\"categories\": [\"0\", \"1\", \"2\", \"3\", \"4\", \"5\", \"6\", \"7\", \"8\", \"9\", \"10\", \"11\", \"12\", \"13\", \"14\", \"15\", \"16\", \"17\", \"18\", \"19\", \"20\", \"21\", \"22\", \"23\", \"24\", \"25\", \"26\", \"27\", \"28\", \"29\", \"30\", \"31\", \"32\", \"33\", \"34\", \"35\", \"36\", \"37\", \"38\", \"39\", \"40\", \"41\", \"46\", \"47\"], \"mode\": \"markers\", \"name\": \"recall_score_micro\", \"stepped\": false, \"type\": \"scatter\", \"data\": [0.8159550561797753, 0.8103121098626718, 0.7833832709113608, 0.61832709113608, 0.7035830212234706, 0.7867665418227217, 0.8271785268414481, 0.8080649188514357, 0.8147940074906366, 0.8035580524344569, 0.8103245942571784, 0.8024594257178528, 0.8035955056179775, 0.8080898876404495, 0.7968289637952559, 0.8035580524344569, 0.8102996254681647, 0.8058052434456929, 0.8069288389513108, 0.8080524344569289, 0.8091760299625468, 0.784494382022472, 0.790087390761548, 0.774394506866417, 0.8013108614232209, 0.6161048689138577, 0.804681647940075, 0.8046816479400748, 0.8125593008739076, 0.8035580524344571, 0.6161048689138577, 0.7732709113607991, 0.7934456928838951, 0.8125593008739077, 0.7979151061173534, 0.6161048689138577, 0.786741573033708, 0.8125842696629213, 0.783370786516854, 0.8091885143570536, 0.7867540574282147, 0.8069288389513108, 0.835043695380774, 0.8193133583021224]}, {\"categories\": [\"0\", \"1\", \"2\", \"3\", \"4\", \"5\", \"6\", \"7\", \"8\", \"9\", \"10\", \"11\", \"12\", \"13\", \"14\", \"15\", \"16\", \"17\", \"18\", \"19\", \"20\", \"21\", \"22\", \"23\", \"24\", \"25\", \"26\", \"27\", \"28\", \"29\", \"30\", \"31\", \"32\", \"33\", \"34\", \"35\", \"36\", \"37\", \"38\", \"39\", \"40\", \"41\", \"46\", \"47\"], \"mode\": \"lines\", \"name\": \"recall_score_micro_max\", \"stepped\": true, \"type\": \"scatter\", \"data\": [0.8159550561797753, 0.8159550561797753, 0.8159550561797753, 0.8159550561797753, 0.8159550561797753, 0.8159550561797753, 0.8271785268414481, 0.8271785268414481, 0.8271785268414481, 0.8271785268414481, 0.8271785268414481, 0.8271785268414481, 0.8271785268414481, 0.8271785268414481, 0.8271785268414481, 0.8271785268414481, 0.8271785268414481, 0.8271785268414481, 0.8271785268414481, 0.8271785268414481, 0.8271785268414481, 0.8271785268414481, 0.8271785268414481, 0.8271785268414481, 0.8271785268414481, 0.8271785268414481, 0.8271785268414481, 0.8271785268414481, 0.8271785268414481, 0.8271785268414481, 0.8271785268414481, 0.8271785268414481, 0.8271785268414481, 0.8271785268414481, 0.8271785268414481, 0.8271785268414481, 0.8271785268414481, 0.8271785268414481, 0.8271785268414481, 0.8271785268414481, 0.8271785268414481, 0.8271785268414481, 0.835043695380774, 0.835043695380774]}], \"average_precision_score_macro\": [{\"categories\": [\"0\", \"1\", \"2\", \"3\", \"4\", \"5\", \"6\", \"7\", \"8\", \"9\", \"10\", \"11\", \"12\", \"13\", \"14\", \"15\", \"16\", \"17\", \"18\", \"19\", \"20\", \"21\", \"22\", \"23\", \"24\", \"25\", \"26\", \"27\", \"28\", \"29\", \"30\", \"31\", \"32\", \"33\", \"34\", \"35\", \"36\", \"37\", \"38\", \"39\", \"40\", \"41\", \"46\", \"47\"], \"mode\": \"markers\", \"name\": \"average_precision_score_macro\", \"stepped\": false, \"type\": \"scatter\", \"data\": [0.8339116448220197, 0.8518954838245054, 0.8081498550236044, 0.7201676757189643, 0.6994753618949424, 0.8101495044553747, 0.8492152159416226, 0.8405603095942208, 0.8442379459509498, 0.8404746419256425, 0.8515612820351102, 0.8404841994283135, 0.8433165201764901, 0.8469026666717914, 0.8436631916278385, 0.835702034629709, 0.8480184365666095, 0.8458628017716769, 0.8485319359941919, 0.8394195341140062, 0.8404908641046605, 0.8402046231620112, 0.8371298650480059, 0.8117718925700714, 0.8419032486348487, 0.5, 0.8362834602689698, 0.8365952188144741, 0.843711846364128, 0.8420120439662864, 0.5, 0.8446994688929295, 0.840902616911493, 0.858826092431722, 0.8256258567804398, 0.5, 0.8411922822617139, 0.8483691739763829, 0.8238261679610716, 0.8452045382485786, 0.8247577210602535, 0.8344246686069996, 0.8574629464037473, 0.8575262830464577]}, {\"categories\": [\"0\", \"1\", \"2\", \"3\", \"4\", \"5\", \"6\", \"7\", \"8\", \"9\", \"10\", \"11\", \"12\", \"13\", \"14\", \"15\", \"16\", \"17\", \"18\", \"19\", \"20\", \"21\", \"22\", \"23\", \"24\", \"25\", \"26\", \"27\", \"28\", \"29\", \"30\", \"31\", \"32\", \"33\", \"34\", \"35\", \"36\", \"37\", \"38\", \"39\", \"40\", \"41\", \"46\", \"47\"], \"mode\": \"lines\", \"name\": \"average_precision_score_macro_max\", \"stepped\": true, \"type\": \"scatter\", \"data\": [0.8339116448220197, 0.8518954838245054, 0.8518954838245054, 0.8518954838245054, 0.8518954838245054, 0.8518954838245054, 0.8518954838245054, 0.8518954838245054, 0.8518954838245054, 0.8518954838245054, 0.8518954838245054, 0.8518954838245054, 0.8518954838245054, 0.8518954838245054, 0.8518954838245054, 0.8518954838245054, 0.8518954838245054, 0.8518954838245054, 0.8518954838245054, 0.8518954838245054, 0.8518954838245054, 0.8518954838245054, 0.8518954838245054, 0.8518954838245054, 0.8518954838245054, 0.8518954838245054, 0.8518954838245054, 0.8518954838245054, 0.8518954838245054, 0.8518954838245054, 0.8518954838245054, 0.8518954838245054, 0.8518954838245054, 0.858826092431722, 0.858826092431722, 0.858826092431722, 0.858826092431722, 0.858826092431722, 0.858826092431722, 0.858826092431722, 0.858826092431722, 0.858826092431722, 0.858826092431722, 0.858826092431722]}], \"weighted_accuracy\": [{\"categories\": [\"0\", \"1\", \"2\", \"3\", \"4\", \"5\", \"6\", \"7\", \"8\", \"9\", \"10\", \"11\", \"12\", \"13\", \"14\", \"15\", \"16\", \"17\", \"18\", \"19\", \"20\", \"21\", \"22\", \"23\", \"24\", \"25\", \"26\", \"27\", \"28\", \"29\", \"30\", \"31\", \"32\", \"33\", \"34\", \"35\", \"36\", \"37\", \"38\", \"39\", \"40\", \"41\", \"46\", \"47\"], \"mode\": \"markers\", \"name\": \"weighted_accuracy\", \"stepped\": false, \"type\": \"scatter\", \"data\": [0.83324557260474, 0.8277249837448808, 0.8018655260469203, 0.7118678713300091, 0.7202757110867501, 0.793244552113779, 0.8452603558029521, 0.8248573699038936, 0.8357634179290947, 0.8204604658933248, 0.8285079000522801, 0.8189918873086344, 0.8216290429127658, 0.8272435234877064, 0.8137152789040151, 0.8194935850419206, 0.8295132688223544, 0.825970221307964, 0.82999107028733, 0.8252159617240391, 0.8246971739181432, 0.7970890178838924, 0.8033708704722462, 0.7957825734206452, 0.8178261685601672, 0.7138631539899801, 0.8207144600500287, 0.8205507207076644, 0.8283402115866292, 0.8229810492457034, 0.7138631539899801, 0.7878731558951092, 0.8076279004454971, 0.8283977327391128, 0.8213494741597787, 0.7138631539899801, 0.7984472425446354, 0.8332752765501313, 0.7986349623322483, 0.8210574757469326, 0.7916963198984834, 0.8215082818240751, 0.8544893634858374, 0.8374458039485934]}, {\"categories\": [\"0\", \"1\", \"2\", \"3\", \"4\", \"5\", \"6\", \"7\", \"8\", \"9\", \"10\", \"11\", \"12\", \"13\", \"14\", \"15\", \"16\", \"17\", \"18\", \"19\", \"20\", \"21\", \"22\", \"23\", \"24\", \"25\", \"26\", \"27\", \"28\", \"29\", \"30\", \"31\", \"32\", \"33\", \"34\", \"35\", \"36\", \"37\", \"38\", \"39\", \"40\", \"41\", \"46\", \"47\"], \"mode\": \"lines\", \"name\": \"weighted_accuracy_max\", \"stepped\": true, \"type\": \"scatter\", \"data\": [0.83324557260474, 0.83324557260474, 0.83324557260474, 0.83324557260474, 0.83324557260474, 0.83324557260474, 0.8452603558029521, 0.8452603558029521, 0.8452603558029521, 0.8452603558029521, 0.8452603558029521, 0.8452603558029521, 0.8452603558029521, 0.8452603558029521, 0.8452603558029521, 0.8452603558029521, 0.8452603558029521, 0.8452603558029521, 0.8452603558029521, 0.8452603558029521, 0.8452603558029521, 0.8452603558029521, 0.8452603558029521, 0.8452603558029521, 0.8452603558029521, 0.8452603558029521, 0.8452603558029521, 0.8452603558029521, 0.8452603558029521, 0.8452603558029521, 0.8452603558029521, 0.8452603558029521, 0.8452603558029521, 0.8452603558029521, 0.8452603558029521, 0.8452603558029521, 0.8452603558029521, 0.8452603558029521, 0.8452603558029521, 0.8452603558029521, 0.8452603558029521, 0.8452603558029521, 0.8544893634858374, 0.8544893634858374]}], \"AUC_weighted\": [{\"categories\": [\"0\", \"1\", \"2\", \"3\", \"4\", \"5\", \"6\", \"7\", \"8\", \"9\", \"10\", \"11\", \"12\", \"13\", \"14\", \"15\", \"16\", \"17\", \"18\", \"19\", \"20\", \"21\", \"22\", \"23\", \"24\", \"25\", \"26\", \"27\", \"28\", \"29\", \"30\", \"31\", \"32\", \"33\", \"34\", \"35\", \"36\", \"37\", \"38\", \"39\", \"40\", \"41\", \"46\", \"47\"], \"mode\": \"markers\", \"name\": \"AUC_weighted\", \"stepped\": false, \"type\": \"scatter\", \"data\": [0.8467774571995029, 0.8621626578726671, 0.8266268724427102, 0.7565018604039764, 0.7281436900774934, 0.8266982815436347, 0.8601251288219858, 0.8455702217011654, 0.848742762220405, 0.848014914904134, 0.8584736598811533, 0.8472344674139236, 0.8509464985428987, 0.8559936844683911, 0.8499709397899293, 0.8412941146180126, 0.8498857943008205, 0.8467703126561569, 0.8547598443869363, 0.8465680989928321, 0.846093145654949, 0.847322752731009, 0.8442452308471395, 0.8225008987674892, 0.8481062476486034, 0.5, 0.8422786982197223, 0.8420815611440041, 0.8490413950491984, 0.8453988362401604, 0.5, 0.8524987576382062, 0.8484323111512092, 0.8632220878620547, 0.8362179702009224, 0.5, 0.846685288145504, 0.8549150162776504, 0.8375773109942617, 0.8502030314991756, 0.8421635010493178, 0.8410792927525661, 0.8655080763853211, 0.8655787883017012]}, {\"categories\": [\"0\", \"1\", \"2\", \"3\", \"4\", \"5\", \"6\", \"7\", \"8\", \"9\", \"10\", \"11\", \"12\", \"13\", \"14\", \"15\", \"16\", \"17\", \"18\", \"19\", \"20\", \"21\", \"22\", \"23\", \"24\", \"25\", \"26\", \"27\", \"28\", \"29\", \"30\", \"31\", \"32\", \"33\", \"34\", \"35\", \"36\", \"37\", \"38\", \"39\", \"40\", \"41\", \"46\", \"47\"], \"mode\": \"lines\", \"name\": \"AUC_weighted_max\", \"stepped\": true, \"type\": \"scatter\", \"data\": [0.8467774571995029, 0.8621626578726671, 0.8621626578726671, 0.8621626578726671, 0.8621626578726671, 0.8621626578726671, 0.8621626578726671, 0.8621626578726671, 0.8621626578726671, 0.8621626578726671, 0.8621626578726671, 0.8621626578726671, 0.8621626578726671, 0.8621626578726671, 0.8621626578726671, 0.8621626578726671, 0.8621626578726671, 0.8621626578726671, 0.8621626578726671, 0.8621626578726671, 0.8621626578726671, 0.8621626578726671, 0.8621626578726671, 0.8621626578726671, 0.8621626578726671, 0.8621626578726671, 0.8621626578726671, 0.8621626578726671, 0.8621626578726671, 0.8621626578726671, 0.8621626578726671, 0.8621626578726671, 0.8621626578726671, 0.8632220878620547, 0.8632220878620547, 0.8632220878620547, 0.8632220878620547, 0.8632220878620547, 0.8632220878620547, 0.8632220878620547, 0.8632220878620547, 0.8632220878620547, 0.8655080763853211, 0.8655787883017012]}], \"average_precision_score_weighted\": [{\"categories\": [\"0\", \"1\", \"2\", \"3\", \"4\", \"5\", \"6\", \"7\", \"8\", \"9\", \"10\", \"11\", \"12\", \"13\", \"14\", \"15\", \"16\", \"17\", \"18\", \"19\", \"20\", \"21\", \"22\", \"23\", \"24\", \"25\", \"26\", \"27\", \"28\", \"29\", \"30\", \"31\", \"32\", \"33\", \"34\", \"35\", \"36\", \"37\", \"38\", \"39\", \"40\", \"41\", \"46\", \"47\"], \"mode\": \"markers\", \"name\": \"average_precision_score_weighted\", \"stepped\": false, \"type\": \"scatter\", \"data\": [0.8428038638877933, 0.8616099442866776, 0.8255941571130665, 0.7441400247729207, 0.7223810251540191, 0.8270510558779105, 0.8586870564156743, 0.8483622087171125, 0.8524403781730061, 0.8504557382724419, 0.8583420591569823, 0.8483392454364184, 0.8519483807425683, 0.8552732011953967, 0.8526599029146125, 0.8456804301088556, 0.8561498208996801, 0.8540327450322689, 0.856836764446145, 0.8481128978185163, 0.8498968827158043, 0.8491868498476262, 0.8441445279708903, 0.8244823343205339, 0.8486421032818112, 0.5326291573735078, 0.8463004304091548, 0.8467405364080927, 0.8530002415495505, 0.8496680037409435, 0.5326291573735078, 0.8538809353635719, 0.848344399488254, 0.8674182536623345, 0.837645540000613, 0.5326291573735078, 0.8505521520230541, 0.8557558431095389, 0.8378634609559027, 0.8543591030619192, 0.8373113940573331, 0.8445154970651376, 0.8645067485933939, 0.8652709081317645]}, {\"categories\": [\"0\", \"1\", \"2\", \"3\", \"4\", \"5\", \"6\", \"7\", \"8\", \"9\", \"10\", \"11\", \"12\", \"13\", \"14\", \"15\", \"16\", \"17\", \"18\", \"19\", \"20\", \"21\", \"22\", \"23\", \"24\", \"25\", \"26\", \"27\", \"28\", \"29\", \"30\", \"31\", \"32\", \"33\", \"34\", \"35\", \"36\", \"37\", \"38\", \"39\", \"40\", \"41\", \"46\", \"47\"], \"mode\": \"lines\", \"name\": \"average_precision_score_weighted_max\", \"stepped\": true, \"type\": \"scatter\", \"data\": [0.8428038638877933, 0.8616099442866776, 0.8616099442866776, 0.8616099442866776, 0.8616099442866776, 0.8616099442866776, 0.8616099442866776, 0.8616099442866776, 0.8616099442866776, 0.8616099442866776, 0.8616099442866776, 0.8616099442866776, 0.8616099442866776, 0.8616099442866776, 0.8616099442866776, 0.8616099442866776, 0.8616099442866776, 0.8616099442866776, 0.8616099442866776, 0.8616099442866776, 0.8616099442866776, 0.8616099442866776, 0.8616099442866776, 0.8616099442866776, 0.8616099442866776, 0.8616099442866776, 0.8616099442866776, 0.8616099442866776, 0.8616099442866776, 0.8616099442866776, 0.8616099442866776, 0.8616099442866776, 0.8616099442866776, 0.8674182536623345, 0.8674182536623345, 0.8674182536623345, 0.8674182536623345, 0.8674182536623345, 0.8674182536623345, 0.8674182536623345, 0.8674182536623345, 0.8674182536623345, 0.8674182536623345, 0.8674182536623345]}], \"AUC_micro\": [{\"categories\": [\"0\", \"1\", \"2\", \"3\", \"4\", \"5\", \"6\", \"7\", \"8\", \"9\", \"10\", \"11\", \"12\", \"13\", \"14\", \"15\", \"16\", \"17\", \"18\", \"19\", \"20\", \"21\", \"22\", \"23\", \"24\", \"25\", \"26\", \"27\", \"28\", \"29\", \"30\", \"31\", \"32\", \"33\", \"34\", \"35\", \"36\", \"37\", \"38\", \"39\", \"40\", \"41\", \"46\", \"47\"], \"mode\": \"markers\", \"name\": \"AUC_micro\", \"stepped\": false, \"type\": \"scatter\", \"data\": [0.8637583326709277, 0.8749472086234279, 0.8400463465611805, 0.7361107931564945, 0.7377390979752214, 0.8276792586046466, 0.8764733985763739, 0.8646920718639779, 0.8686830023643978, 0.8659335443679173, 0.8742908676887973, 0.8650904113304062, 0.8672411389633121, 0.8743132554344522, 0.8691674825943225, 0.8582430279877993, 0.8700717159106672, 0.86777012037076, 0.8740333525041264, 0.8639072492093997, 0.8626900503584004, 0.8592334020676402, 0.8641883413523358, 0.8396632813851598, 0.8636438768019377, 0.6161048689138577, 0.8590383821097534, 0.8586057955021891, 0.8653446487770436, 0.8667007205412711, 0.6161048689138577, 0.8660100592112544, 0.8603661356512848, 0.8798556953620709, 0.8516892913196831, 0.6161048689138577, 0.8631997113470833, 0.8745236198197945, 0.8462716329930906, 0.8644358814902097, 0.848154173699854, 0.8581591191410238, 0.8821678223693541, 0.8801933522547503]}, {\"categories\": [\"0\", \"1\", \"2\", \"3\", \"4\", \"5\", \"6\", \"7\", \"8\", \"9\", \"10\", \"11\", \"12\", \"13\", \"14\", \"15\", \"16\", \"17\", \"18\", \"19\", \"20\", \"21\", \"22\", \"23\", \"24\", \"25\", \"26\", \"27\", \"28\", \"29\", \"30\", \"31\", \"32\", \"33\", \"34\", \"35\", \"36\", \"37\", \"38\", \"39\", \"40\", \"41\", \"46\", \"47\"], \"mode\": \"lines\", \"name\": \"AUC_micro_max\", \"stepped\": true, \"type\": \"scatter\", \"data\": [0.8637583326709277, 0.8749472086234279, 0.8749472086234279, 0.8749472086234279, 0.8749472086234279, 0.8749472086234279, 0.8764733985763739, 0.8764733985763739, 0.8764733985763739, 0.8764733985763739, 0.8764733985763739, 0.8764733985763739, 0.8764733985763739, 0.8764733985763739, 0.8764733985763739, 0.8764733985763739, 0.8764733985763739, 0.8764733985763739, 0.8764733985763739, 0.8764733985763739, 0.8764733985763739, 0.8764733985763739, 0.8764733985763739, 0.8764733985763739, 0.8764733985763739, 0.8764733985763739, 0.8764733985763739, 0.8764733985763739, 0.8764733985763739, 0.8764733985763739, 0.8764733985763739, 0.8764733985763739, 0.8764733985763739, 0.8798556953620709, 0.8798556953620709, 0.8798556953620709, 0.8798556953620709, 0.8798556953620709, 0.8798556953620709, 0.8798556953620709, 0.8798556953620709, 0.8798556953620709, 0.8821678223693541, 0.8821678223693541]}], \"f1_score_weighted\": [{\"categories\": [\"0\", \"1\", \"2\", \"3\", \"4\", \"5\", \"6\", \"7\", \"8\", \"9\", \"10\", \"11\", \"12\", \"13\", \"14\", \"15\", \"16\", \"17\", \"18\", \"19\", \"20\", \"21\", \"22\", \"23\", \"24\", \"25\", \"26\", \"27\", \"28\", \"29\", \"30\", \"31\", \"32\", \"33\", \"34\", \"35\", \"36\", \"37\", \"38\", \"39\", \"40\", \"41\", \"46\", \"47\"], \"mode\": \"markers\", \"name\": \"f1_score_weighted\", \"stepped\": false, \"type\": \"scatter\", \"data\": [0.8139616594466386, 0.8079135259513304, 0.7813465462278953, 0.48302070313580153, 0.697820977692855, 0.7879588197341855, 0.824777801163447, 0.8057538098027599, 0.8109516153050361, 0.801930879329109, 0.8078632189783452, 0.8003819164203406, 0.8013545043590191, 0.8056281987939402, 0.7951725791517834, 0.8016708946375346, 0.8067851684494787, 0.8023611986122601, 0.8025583406658828, 0.8059318293849106, 0.8074492244671567, 0.7843376851939122, 0.7895676676299198, 0.7715034767380456, 0.7991683168544956, 0.47109803820520985, 0.8028453980540069, 0.8028712620044274, 0.810815538639941, 0.8007667112863481, 0.47109803820520985, 0.7700058101917439, 0.7927179081726319, 0.8105029738233862, 0.7936806855337889, 0.47109803820520985, 0.7868121703741209, 0.80979850620557, 0.7821976163815331, 0.8088575316199679, 0.7886247787274027, 0.8056023880844858, 0.8323062694147838, 0.8167798916815563]}, {\"categories\": [\"0\", \"1\", \"2\", \"3\", \"4\", \"5\", \"6\", \"7\", \"8\", \"9\", \"10\", \"11\", \"12\", \"13\", \"14\", \"15\", \"16\", \"17\", \"18\", \"19\", \"20\", \"21\", \"22\", \"23\", \"24\", \"25\", \"26\", \"27\", \"28\", \"29\", \"30\", \"31\", \"32\", \"33\", \"34\", \"35\", \"36\", \"37\", \"38\", \"39\", \"40\", \"41\", \"46\", \"47\"], \"mode\": \"lines\", \"name\": \"f1_score_weighted_max\", \"stepped\": true, \"type\": \"scatter\", \"data\": [0.8139616594466386, 0.8139616594466386, 0.8139616594466386, 0.8139616594466386, 0.8139616594466386, 0.8139616594466386, 0.824777801163447, 0.824777801163447, 0.824777801163447, 0.824777801163447, 0.824777801163447, 0.824777801163447, 0.824777801163447, 0.824777801163447, 0.824777801163447, 0.824777801163447, 0.824777801163447, 0.824777801163447, 0.824777801163447, 0.824777801163447, 0.824777801163447, 0.824777801163447, 0.824777801163447, 0.824777801163447, 0.824777801163447, 0.824777801163447, 0.824777801163447, 0.824777801163447, 0.824777801163447, 0.824777801163447, 0.824777801163447, 0.824777801163447, 0.824777801163447, 0.824777801163447, 0.824777801163447, 0.824777801163447, 0.824777801163447, 0.824777801163447, 0.824777801163447, 0.824777801163447, 0.824777801163447, 0.824777801163447, 0.8323062694147838, 0.8323062694147838]}], \"precision_score_weighted\": [{\"categories\": [\"0\", \"1\", \"2\", \"3\", \"4\", \"5\", \"6\", \"7\", \"8\", \"9\", \"10\", \"11\", \"12\", \"13\", \"14\", \"15\", \"16\", \"17\", \"18\", \"19\", \"20\", \"21\", \"22\", \"23\", \"24\", \"25\", \"26\", \"27\", \"28\", \"29\", \"30\", \"31\", \"32\", \"33\", \"34\", \"35\", \"36\", \"37\", \"38\", \"39\", \"40\", \"41\", \"46\", \"47\"], \"mode\": \"markers\", \"name\": \"precision_score_weighted\", \"stepped\": false, \"type\": \"scatter\", \"data\": [0.8168656627926103, 0.813155805566935, 0.788724974006373, 0.42174388755628495, 0.7109853565710755, 0.7964680674107338, 0.8302377843207184, 0.8112823066586682, 0.8182377128255268, 0.8065256870600856, 0.8132819899584046, 0.8058571574555694, 0.8050735098194698, 0.8117689896335498, 0.7998263873288687, 0.807474809459847, 0.8162185182646937, 0.8091293207467688, 0.8107869199766056, 0.8107531796651097, 0.8127847140555631, 0.7890030910940826, 0.7948271740787505, 0.7757600792510774, 0.8065285241459854, 0.38241944760061164, 0.8079982669203842, 0.8084636358154942, 0.8160541879314076, 0.8055183686735926, 0.38241944760061164, 0.7869976825909206, 0.7980922043224392, 0.8162830284017776, 0.8003620280768102, 0.38241944760061164, 0.7927601953163721, 0.814583890854124, 0.7892434914523975, 0.8120838268355162, 0.7947439757702313, 0.8107305065463024, 0.838074143045412, 0.8225340363564493]}, {\"categories\": [\"0\", \"1\", \"2\", \"3\", \"4\", \"5\", \"6\", \"7\", \"8\", \"9\", \"10\", \"11\", \"12\", \"13\", \"14\", \"15\", \"16\", \"17\", \"18\", \"19\", \"20\", \"21\", \"22\", \"23\", \"24\", \"25\", \"26\", \"27\", \"28\", \"29\", \"30\", \"31\", \"32\", \"33\", \"34\", \"35\", \"36\", \"37\", \"38\", \"39\", \"40\", \"41\", \"46\", \"47\"], \"mode\": \"lines\", \"name\": \"precision_score_weighted_max\", \"stepped\": true, \"type\": \"scatter\", \"data\": [0.8168656627926103, 0.8168656627926103, 0.8168656627926103, 0.8168656627926103, 0.8168656627926103, 0.8168656627926103, 0.8302377843207184, 0.8302377843207184, 0.8302377843207184, 0.8302377843207184, 0.8302377843207184, 0.8302377843207184, 0.8302377843207184, 0.8302377843207184, 0.8302377843207184, 0.8302377843207184, 0.8302377843207184, 0.8302377843207184, 0.8302377843207184, 0.8302377843207184, 0.8302377843207184, 0.8302377843207184, 0.8302377843207184, 0.8302377843207184, 0.8302377843207184, 0.8302377843207184, 0.8302377843207184, 0.8302377843207184, 0.8302377843207184, 0.8302377843207184, 0.8302377843207184, 0.8302377843207184, 0.8302377843207184, 0.8302377843207184, 0.8302377843207184, 0.8302377843207184, 0.8302377843207184, 0.8302377843207184, 0.8302377843207184, 0.8302377843207184, 0.8302377843207184, 0.8302377843207184, 0.838074143045412, 0.838074143045412]}], \"recall_score_macro\": [{\"categories\": [\"0\", \"1\", \"2\", \"3\", \"4\", \"5\", \"6\", \"7\", \"8\", \"9\", \"10\", \"11\", \"12\", \"13\", \"14\", \"15\", \"16\", \"17\", \"18\", \"19\", \"20\", \"21\", \"22\", \"23\", \"24\", \"25\", \"26\", \"27\", \"28\", \"29\", \"30\", \"31\", \"32\", \"33\", \"34\", \"35\", \"36\", \"37\", \"38\", \"39\", \"40\", \"41\", \"46\", \"47\"], \"mode\": \"markers\", \"name\": \"recall_score_macro\", \"stepped\": false, \"type\": \"scatter\", \"data\": [0.7952799890744926, 0.7898811575753069, 0.762030997590486, 0.5074858757062147, 0.6842955371852975, 0.7795759043066155, 0.8057986591196435, 0.7884046015598336, 0.7899015465975092, 0.7839019813816577, 0.7890302479235629, 0.7830595336528136, 0.7820438020633567, 0.7852392090302124, 0.777109809092775, 0.78476161607475, 0.7876987039138422, 0.7819357044976066, 0.7797750633964677, 0.7879314213271505, 0.7909065773605282, 0.7700137805398231, 0.7749066666145488, 0.7489173366952263, 0.7823071560071984, 0.5, 0.7857357201051107, 0.7859520922652262, 0.7940029052796488, 0.7805222032788672, 0.5, 0.7571308950423081, 0.777190217156644, 0.7940272341938315, 0.7703026295355773, 0.5, 0.7734314835387581, 0.7879161821350539, 0.7660060339004975, 0.7951408875354349, 0.7812323547804081, 0.7896012704882137, 0.811901381387444, 0.7979198596290085]}, {\"categories\": [\"0\", \"1\", \"2\", \"3\", \"4\", \"5\", \"6\", \"7\", \"8\", \"9\", \"10\", \"11\", \"12\", \"13\", \"14\", \"15\", \"16\", \"17\", \"18\", \"19\", \"20\", \"21\", \"22\", \"23\", \"24\", \"25\", \"26\", \"27\", \"28\", \"29\", \"30\", \"31\", \"32\", \"33\", \"34\", \"35\", \"36\", \"37\", \"38\", \"39\", \"40\", \"41\", \"46\", \"47\"], \"mode\": \"lines\", \"name\": \"recall_score_macro_max\", \"stepped\": true, \"type\": \"scatter\", \"data\": [0.7952799890744926, 0.7952799890744926, 0.7952799890744926, 0.7952799890744926, 0.7952799890744926, 0.7952799890744926, 0.8057986591196435, 0.8057986591196435, 0.8057986591196435, 0.8057986591196435, 0.8057986591196435, 0.8057986591196435, 0.8057986591196435, 0.8057986591196435, 0.8057986591196435, 0.8057986591196435, 0.8057986591196435, 0.8057986591196435, 0.8057986591196435, 0.8057986591196435, 0.8057986591196435, 0.8057986591196435, 0.8057986591196435, 0.8057986591196435, 0.8057986591196435, 0.8057986591196435, 0.8057986591196435, 0.8057986591196435, 0.8057986591196435, 0.8057986591196435, 0.8057986591196435, 0.8057986591196435, 0.8057986591196435, 0.8057986591196435, 0.8057986591196435, 0.8057986591196435, 0.8057986591196435, 0.8057986591196435, 0.8057986591196435, 0.8057986591196435, 0.8057986591196435, 0.8057986591196435, 0.811901381387444, 0.811901381387444]}], \"f1_score_micro\": [{\"categories\": [\"0\", \"1\", \"2\", \"3\", \"4\", \"5\", \"6\", \"7\", \"8\", \"9\", \"10\", \"11\", \"12\", \"13\", \"14\", \"15\", \"16\", \"17\", \"18\", \"19\", \"20\", \"21\", \"22\", \"23\", \"24\", \"25\", \"26\", \"27\", \"28\", \"29\", \"30\", \"31\", \"32\", \"33\", \"34\", \"35\", \"36\", \"37\", \"38\", \"39\", \"40\", \"41\", \"46\", \"47\"], \"mode\": \"markers\", \"name\": \"f1_score_micro\", \"stepped\": false, \"type\": \"scatter\", \"data\": [0.8159550561797753, 0.8103121098626718, 0.7833832709113608, 0.61832709113608, 0.7035830212234706, 0.7867665418227217, 0.8271785268414481, 0.8080649188514357, 0.8147940074906366, 0.8035580524344569, 0.8103245942571785, 0.8024594257178528, 0.8035955056179775, 0.8080898876404495, 0.7968289637952559, 0.8035580524344569, 0.8102996254681647, 0.8058052434456929, 0.8069288389513108, 0.8080524344569289, 0.809176029962547, 0.7844943820224719, 0.790087390761548, 0.7743945068664171, 0.8013108614232209, 0.6161048689138577, 0.8046816479400748, 0.804681647940075, 0.8125593008739077, 0.8035580524344571, 0.6161048689138577, 0.7732709113607991, 0.7934456928838951, 0.8125593008739076, 0.7979151061173534, 0.6161048689138577, 0.786741573033708, 0.8125842696629213, 0.783370786516854, 0.8091885143570536, 0.7867540574282147, 0.8069288389513108, 0.835043695380774, 0.8193133583021224]}, {\"categories\": [\"0\", \"1\", \"2\", \"3\", \"4\", \"5\", \"6\", \"7\", \"8\", \"9\", \"10\", \"11\", \"12\", \"13\", \"14\", \"15\", \"16\", \"17\", \"18\", \"19\", \"20\", \"21\", \"22\", \"23\", \"24\", \"25\", \"26\", \"27\", \"28\", \"29\", \"30\", \"31\", \"32\", \"33\", \"34\", \"35\", \"36\", \"37\", \"38\", \"39\", \"40\", \"41\", \"46\", \"47\"], \"mode\": \"lines\", \"name\": \"f1_score_micro_max\", \"stepped\": true, \"type\": \"scatter\", \"data\": [0.8159550561797753, 0.8159550561797753, 0.8159550561797753, 0.8159550561797753, 0.8159550561797753, 0.8159550561797753, 0.8271785268414481, 0.8271785268414481, 0.8271785268414481, 0.8271785268414481, 0.8271785268414481, 0.8271785268414481, 0.8271785268414481, 0.8271785268414481, 0.8271785268414481, 0.8271785268414481, 0.8271785268414481, 0.8271785268414481, 0.8271785268414481, 0.8271785268414481, 0.8271785268414481, 0.8271785268414481, 0.8271785268414481, 0.8271785268414481, 0.8271785268414481, 0.8271785268414481, 0.8271785268414481, 0.8271785268414481, 0.8271785268414481, 0.8271785268414481, 0.8271785268414481, 0.8271785268414481, 0.8271785268414481, 0.8271785268414481, 0.8271785268414481, 0.8271785268414481, 0.8271785268414481, 0.8271785268414481, 0.8271785268414481, 0.8271785268414481, 0.8271785268414481, 0.8271785268414481, 0.835043695380774, 0.835043695380774]}], \"f1_score_macro\": [{\"categories\": [\"0\", \"1\", \"2\", \"3\", \"4\", \"5\", \"6\", \"7\", \"8\", \"9\", \"10\", \"11\", \"12\", \"13\", \"14\", \"15\", \"16\", \"17\", \"18\", \"19\", \"20\", \"21\", \"22\", \"23\", \"24\", \"25\", \"26\", \"27\", \"28\", \"29\", \"30\", \"31\", \"32\", \"33\", \"34\", \"35\", \"36\", \"37\", \"38\", \"39\", \"40\", \"41\", \"46\", \"47\"], \"mode\": \"markers\", \"name\": \"f1_score_macro\", \"stepped\": false, \"type\": \"scatter\", \"data\": [0.7990999889871939, 0.7923133695689885, 0.7637703611938256, 0.39854201234364817, 0.6784085473797294, 0.7742411652496365, 0.8098125918655651, 0.7901664042254486, 0.794286213304417, 0.786078137901368, 0.7922896131332016, 0.7848129904074537, 0.785380560239989, 0.7888127336443371, 0.7790340315681402, 0.7861058939537107, 0.7902733343625603, 0.7852801618201931, 0.7848780308643939, 0.7902512667885564, 0.7923982424971808, 0.7687909139353956, 0.7741750405347443, 0.752857890790097, 0.7835852983420336, 0.38055584981125273, 0.7873351967893788, 0.7873314886494032, 0.7957905039447898, 0.7841269909123748, 0.38055584981125273, 0.753730106572523, 0.7771923486676335, 0.795574498312933, 0.7756902850462876, 0.38055584981125273, 0.7716489319727664, 0.7931600306874078, 0.7660964923050118, 0.7945752802489828, 0.7751400616795499, 0.7903605895585062, 0.817592628261418, 0.8014942926327173]}, {\"categories\": [\"0\", \"1\", \"2\", \"3\", \"4\", \"5\", \"6\", \"7\", \"8\", \"9\", \"10\", \"11\", \"12\", \"13\", \"14\", \"15\", \"16\", \"17\", \"18\", \"19\", \"20\", \"21\", \"22\", \"23\", \"24\", \"25\", \"26\", \"27\", \"28\", \"29\", \"30\", \"31\", \"32\", \"33\", \"34\", \"35\", \"36\", \"37\", \"38\", \"39\", \"40\", \"41\", \"46\", \"47\"], \"mode\": \"lines\", \"name\": \"f1_score_macro_max\", \"stepped\": true, \"type\": \"scatter\", \"data\": [0.7990999889871939, 0.7990999889871939, 0.7990999889871939, 0.7990999889871939, 0.7990999889871939, 0.7990999889871939, 0.8098125918655651, 0.8098125918655651, 0.8098125918655651, 0.8098125918655651, 0.8098125918655651, 0.8098125918655651, 0.8098125918655651, 0.8098125918655651, 0.8098125918655651, 0.8098125918655651, 0.8098125918655651, 0.8098125918655651, 0.8098125918655651, 0.8098125918655651, 0.8098125918655651, 0.8098125918655651, 0.8098125918655651, 0.8098125918655651, 0.8098125918655651, 0.8098125918655651, 0.8098125918655651, 0.8098125918655651, 0.8098125918655651, 0.8098125918655651, 0.8098125918655651, 0.8098125918655651, 0.8098125918655651, 0.8098125918655651, 0.8098125918655651, 0.8098125918655651, 0.8098125918655651, 0.8098125918655651, 0.8098125918655651, 0.8098125918655651, 0.8098125918655651, 0.8098125918655651, 0.817592628261418, 0.817592628261418]}], \"AUC_macro\": [{\"categories\": [\"0\", \"1\", \"2\", \"3\", \"4\", \"5\", \"6\", \"7\", \"8\", \"9\", \"10\", \"11\", \"12\", \"13\", \"14\", \"15\", \"16\", \"17\", \"18\", \"19\", \"20\", \"21\", \"22\", \"23\", \"24\", \"25\", \"26\", \"27\", \"28\", \"29\", \"30\", \"31\", \"32\", \"33\", \"34\", \"35\", \"36\", \"37\", \"38\", \"39\", \"40\", \"41\", \"46\", \"47\"], \"mode\": \"markers\", \"name\": \"AUC_macro\", \"stepped\": false, \"type\": \"scatter\", \"data\": [0.8467774571995029, 0.8621626578726671, 0.8266268724427102, 0.7565018604039764, 0.7281436900774934, 0.8266982815436347, 0.8601251288219857, 0.8455702217011654, 0.848742762220405, 0.848014914904134, 0.8584736598811533, 0.8472344674139236, 0.8509464985428986, 0.8559936844683909, 0.8499709397899293, 0.8412941146180127, 0.8498857943008205, 0.8467703126561569, 0.8547598443869363, 0.8465680989928321, 0.846093145654949, 0.8473227527310089, 0.8442452308471395, 0.8225008987674893, 0.8481062476486034, 0.5, 0.8422786982197223, 0.8420815611440041, 0.8490413950491982, 0.8453988362401604, 0.5, 0.8524987576382062, 0.8484323111512092, 0.8632220878620547, 0.8362179702009224, 0.5, 0.846685288145504, 0.8549150162776504, 0.8375773109942617, 0.8502030314991756, 0.8421635010493178, 0.8410792927525661, 0.8655080763853211, 0.8655787883017012]}, {\"categories\": [\"0\", \"1\", \"2\", \"3\", \"4\", \"5\", \"6\", \"7\", \"8\", \"9\", \"10\", \"11\", \"12\", \"13\", \"14\", \"15\", \"16\", \"17\", \"18\", \"19\", \"20\", \"21\", \"22\", \"23\", \"24\", \"25\", \"26\", \"27\", \"28\", \"29\", \"30\", \"31\", \"32\", \"33\", \"34\", \"35\", \"36\", \"37\", \"38\", \"39\", \"40\", \"41\", \"46\", \"47\"], \"mode\": \"lines\", \"name\": \"AUC_macro_max\", \"stepped\": true, \"type\": \"scatter\", \"data\": [0.8467774571995029, 0.8621626578726671, 0.8621626578726671, 0.8621626578726671, 0.8621626578726671, 0.8621626578726671, 0.8621626578726671, 0.8621626578726671, 0.8621626578726671, 0.8621626578726671, 0.8621626578726671, 0.8621626578726671, 0.8621626578726671, 0.8621626578726671, 0.8621626578726671, 0.8621626578726671, 0.8621626578726671, 0.8621626578726671, 0.8621626578726671, 0.8621626578726671, 0.8621626578726671, 0.8621626578726671, 0.8621626578726671, 0.8621626578726671, 0.8621626578726671, 0.8621626578726671, 0.8621626578726671, 0.8621626578726671, 0.8621626578726671, 0.8621626578726671, 0.8621626578726671, 0.8621626578726671, 0.8621626578726671, 0.8632220878620547, 0.8632220878620547, 0.8632220878620547, 0.8632220878620547, 0.8632220878620547, 0.8632220878620547, 0.8632220878620547, 0.8632220878620547, 0.8632220878620547, 0.8655080763853211, 0.8655787883017012]}], \"matthews_correlation\": [{\"categories\": [\"0\", \"1\", \"2\", \"3\", \"4\", \"5\", \"6\", \"7\", \"8\", \"9\", \"10\", \"11\", \"12\", \"13\", \"14\", \"15\", \"16\", \"17\", \"18\", \"19\", \"20\", \"21\", \"22\", \"23\", \"24\", \"25\", \"26\", \"27\", \"28\", \"29\", \"30\", \"31\", \"32\", \"33\", \"34\", \"35\", \"36\", \"37\", \"38\", \"39\", \"40\", \"41\", \"46\", \"47\"], \"mode\": \"markers\", \"name\": \"matthews_correlation\", \"stepped\": false, \"type\": \"scatter\", \"data\": [0.6032715776617146, 0.592415935132043, 0.5374341301864037, 0.025225606948951873, 0.3759747953596946, 0.5564528775249415, 0.6276154119919676, 0.5884697413564353, 0.6002436220134614, 0.5786829458895284, 0.5926202490852666, 0.5773359867744712, 0.5769680394049332, 0.586506505487834, 0.5645549544063815, 0.5801831662922791, 0.5939342639540526, 0.5813200809236532, 0.5828078756675461, 0.5876269338851965, 0.5921359040000137, 0.5427672393239644, 0.5545264363435198, 0.513105175931982, 0.5769658034603999, 0.0, 0.5819266965060479, 0.5823472368792476, 0.5988391749496763, 0.5760147125143571, 0.0, 0.528424618742054, 0.5608103704236521, 0.599209206148878, 0.5627033825981754, 0.0, 0.5495748867575279, 0.5941390294389253, 0.5408718889435071, 0.5929085128203282, 0.5550352949085939, 0.5874443978010649, 0.6439756553679175, 0.6115055684374413]}, {\"categories\": [\"0\", \"1\", \"2\", \"3\", \"4\", \"5\", \"6\", \"7\", \"8\", \"9\", \"10\", \"11\", \"12\", \"13\", \"14\", \"15\", \"16\", \"17\", \"18\", \"19\", \"20\", \"21\", \"22\", \"23\", \"24\", \"25\", \"26\", \"27\", \"28\", \"29\", \"30\", \"31\", \"32\", \"33\", \"34\", \"35\", \"36\", \"37\", \"38\", \"39\", \"40\", \"41\", \"46\", \"47\"], \"mode\": \"lines\", \"name\": \"matthews_correlation_max\", \"stepped\": true, \"type\": \"scatter\", \"data\": [0.6032715776617146, 0.6032715776617146, 0.6032715776617146, 0.6032715776617146, 0.6032715776617146, 0.6032715776617146, 0.6276154119919676, 0.6276154119919676, 0.6276154119919676, 0.6276154119919676, 0.6276154119919676, 0.6276154119919676, 0.6276154119919676, 0.6276154119919676, 0.6276154119919676, 0.6276154119919676, 0.6276154119919676, 0.6276154119919676, 0.6276154119919676, 0.6276154119919676, 0.6276154119919676, 0.6276154119919676, 0.6276154119919676, 0.6276154119919676, 0.6276154119919676, 0.6276154119919676, 0.6276154119919676, 0.6276154119919676, 0.6276154119919676, 0.6276154119919676, 0.6276154119919676, 0.6276154119919676, 0.6276154119919676, 0.6276154119919676, 0.6276154119919676, 0.6276154119919676, 0.6276154119919676, 0.6276154119919676, 0.6276154119919676, 0.6276154119919676, 0.6276154119919676, 0.6276154119919676, 0.6439756553679175, 0.6439756553679175]}], \"recall_score_weighted\": [{\"categories\": [\"0\", \"1\", \"2\", \"3\", \"4\", \"5\", \"6\", \"7\", \"8\", \"9\", \"10\", \"11\", \"12\", \"13\", \"14\", \"15\", \"16\", \"17\", \"18\", \"19\", \"20\", \"21\", \"22\", \"23\", \"24\", \"25\", \"26\", \"27\", \"28\", \"29\", \"30\", \"31\", \"32\", \"33\", \"34\", \"35\", \"36\", \"37\", \"38\", \"39\", \"40\", \"41\", \"46\", \"47\"], \"mode\": \"markers\", \"name\": \"recall_score_weighted\", \"stepped\": false, \"type\": \"scatter\", \"data\": [0.8159550561797753, 0.8103121098626718, 0.7833832709113608, 0.61832709113608, 0.7035830212234706, 0.7867665418227217, 0.8271785268414481, 0.8080649188514357, 0.8147940074906366, 0.8035580524344569, 0.8103245942571784, 0.8024594257178528, 0.8035955056179775, 0.8080898876404495, 0.7968289637952559, 0.8035580524344569, 0.8102996254681647, 0.8058052434456929, 0.8069288389513108, 0.8080524344569289, 0.8091760299625468, 0.784494382022472, 0.790087390761548, 0.774394506866417, 0.8013108614232209, 0.6161048689138577, 0.804681647940075, 0.8046816479400748, 0.8125593008739076, 0.8035580524344571, 0.6161048689138577, 0.7732709113607991, 0.7934456928838951, 0.8125593008739077, 0.7979151061173534, 0.6161048689138577, 0.786741573033708, 0.8125842696629213, 0.783370786516854, 0.8091885143570536, 0.7867540574282147, 0.8069288389513108, 0.835043695380774, 0.8193133583021224]}, {\"categories\": [\"0\", \"1\", \"2\", \"3\", \"4\", \"5\", \"6\", \"7\", \"8\", \"9\", \"10\", \"11\", \"12\", \"13\", \"14\", \"15\", \"16\", \"17\", \"18\", \"19\", \"20\", \"21\", \"22\", \"23\", \"24\", \"25\", \"26\", \"27\", \"28\", \"29\", \"30\", \"31\", \"32\", \"33\", \"34\", \"35\", \"36\", \"37\", \"38\", \"39\", \"40\", \"41\", \"46\", \"47\"], \"mode\": \"lines\", \"name\": \"recall_score_weighted_max\", \"stepped\": true, \"type\": \"scatter\", \"data\": [0.8159550561797753, 0.8159550561797753, 0.8159550561797753, 0.8159550561797753, 0.8159550561797753, 0.8159550561797753, 0.8271785268414481, 0.8271785268414481, 0.8271785268414481, 0.8271785268414481, 0.8271785268414481, 0.8271785268414481, 0.8271785268414481, 0.8271785268414481, 0.8271785268414481, 0.8271785268414481, 0.8271785268414481, 0.8271785268414481, 0.8271785268414481, 0.8271785268414481, 0.8271785268414481, 0.8271785268414481, 0.8271785268414481, 0.8271785268414481, 0.8271785268414481, 0.8271785268414481, 0.8271785268414481, 0.8271785268414481, 0.8271785268414481, 0.8271785268414481, 0.8271785268414481, 0.8271785268414481, 0.8271785268414481, 0.8271785268414481, 0.8271785268414481, 0.8271785268414481, 0.8271785268414481, 0.8271785268414481, 0.8271785268414481, 0.8271785268414481, 0.8271785268414481, 0.8271785268414481, 0.835043695380774, 0.835043695380774]}], \"average_precision_score_micro\": [{\"categories\": [\"0\", \"1\", \"2\", \"3\", \"4\", \"5\", \"6\", \"7\", \"8\", \"9\", \"10\", \"11\", \"12\", \"13\", \"14\", \"15\", \"16\", \"17\", \"18\", \"19\", \"20\", \"21\", \"22\", \"23\", \"24\", \"25\", \"26\", \"27\", \"28\", \"29\", \"30\", \"31\", \"32\", \"33\", \"34\", \"35\", \"36\", \"37\", \"38\", \"39\", \"40\", \"41\", \"46\", \"47\"], \"mode\": \"markers\", \"name\": \"average_precision_score_micro\", \"stepped\": false, \"type\": \"scatter\", \"data\": [0.8416565204952681, 0.8567513884990999, 0.8234243126367637, 0.7275983126444955, 0.7155433830774289, 0.8112624869870617, 0.8588170074442047, 0.8496753957246279, 0.8565388924337196, 0.8478901232591882, 0.8514003465014118, 0.8481122572970008, 0.8506253519062978, 0.8601309440152599, 0.8507324493902295, 0.8427995753763209, 0.8582697954503956, 0.8565662752548603, 0.8591906701768532, 0.8472462447773177, 0.8466327157757988, 0.8398775889161344, 0.839125479778224, 0.8253866285554377, 0.8393098522343136, 0.5743670131436828, 0.843679560654015, 0.8436315432575417, 0.8494478146897096, 0.8542933198860296, 0.5743670131436828, 0.8499638076056579, 0.8371416055747354, 0.8675414039093795, 0.8327080457854418, 0.5743670131436828, 0.8469134640655727, 0.8588632276193421, 0.8307450468421109, 0.8497732679727751, 0.8310229767270384, 0.8425312636981082, 0.8649299528756554, 0.8631836730909661]}, {\"categories\": [\"0\", \"1\", \"2\", \"3\", \"4\", \"5\", \"6\", \"7\", \"8\", \"9\", \"10\", \"11\", \"12\", \"13\", \"14\", \"15\", \"16\", \"17\", \"18\", \"19\", \"20\", \"21\", \"22\", \"23\", \"24\", \"25\", \"26\", \"27\", \"28\", \"29\", \"30\", \"31\", \"32\", \"33\", \"34\", \"35\", \"36\", \"37\", \"38\", \"39\", \"40\", \"41\", \"46\", \"47\"], \"mode\": \"lines\", \"name\": \"average_precision_score_micro_max\", \"stepped\": true, \"type\": \"scatter\", \"data\": [0.8416565204952681, 0.8567513884990999, 0.8567513884990999, 0.8567513884990999, 0.8567513884990999, 0.8567513884990999, 0.8588170074442047, 0.8588170074442047, 0.8588170074442047, 0.8588170074442047, 0.8588170074442047, 0.8588170074442047, 0.8588170074442047, 0.8601309440152599, 0.8601309440152599, 0.8601309440152599, 0.8601309440152599, 0.8601309440152599, 0.8601309440152599, 0.8601309440152599, 0.8601309440152599, 0.8601309440152599, 0.8601309440152599, 0.8601309440152599, 0.8601309440152599, 0.8601309440152599, 0.8601309440152599, 0.8601309440152599, 0.8601309440152599, 0.8601309440152599, 0.8601309440152599, 0.8601309440152599, 0.8601309440152599, 0.8675414039093795, 0.8675414039093795, 0.8675414039093795, 0.8675414039093795, 0.8675414039093795, 0.8675414039093795, 0.8675414039093795, 0.8675414039093795, 0.8675414039093795, 0.8675414039093795, 0.8675414039093795]}], \"norm_macro_recall\": [{\"categories\": [\"0\", \"1\", \"2\", \"3\", \"4\", \"5\", \"6\", \"7\", \"8\", \"9\", \"10\", \"11\", \"12\", \"13\", \"14\", \"15\", \"16\", \"17\", \"18\", \"19\", \"20\", \"21\", \"22\", \"23\", \"24\", \"25\", \"26\", \"27\", \"28\", \"29\", \"30\", \"31\", \"32\", \"33\", \"34\", \"35\", \"36\", \"37\", \"38\", \"39\", \"40\", \"41\", \"46\", \"47\"], \"mode\": \"markers\", \"name\": \"norm_macro_recall\", \"stepped\": false, \"type\": \"scatter\", \"data\": [0.590559978148985, 0.5797623151506138, 0.524061995180972, 0.014971751412429391, 0.368591074370595, 0.5591518086132312, 0.6115973182392872, 0.5768092031196674, 0.5798030931950187, 0.5678039627633155, 0.5780604958471259, 0.5661190673056271, 0.5640876041267131, 0.5704784180604248, 0.5542196181855502, 0.5695232321495001, 0.5753974078276846, 0.5638714089952134, 0.5595501267929357, 0.5758628426543009, 0.5818131547210562, 0.540027561079646, 0.5498133332290978, 0.4978346733904527, 0.5646143120143968, 0.0, 0.5714714402102216, 0.5719041845304524, 0.5880058105592976, 0.5610444065577347, 0.0, 0.5142617900846163, 0.554380434313288, 0.5880544683876632, 0.5406052590711546, 0.0, 0.546862967077516, 0.5758323642701076, 0.5320120678009947, 0.5902817750708698, 0.5624647095608163, 0.5792025409764274, 0.6238027627748883, 0.5958397192580169]}, {\"categories\": [\"0\", \"1\", \"2\", \"3\", \"4\", \"5\", \"6\", \"7\", \"8\", \"9\", \"10\", \"11\", \"12\", \"13\", \"14\", \"15\", \"16\", \"17\", \"18\", \"19\", \"20\", \"21\", \"22\", \"23\", \"24\", \"25\", \"26\", \"27\", \"28\", \"29\", \"30\", \"31\", \"32\", \"33\", \"34\", \"35\", \"36\", \"37\", \"38\", \"39\", \"40\", \"41\", \"46\", \"47\"], \"mode\": \"lines\", \"name\": \"norm_macro_recall_max\", \"stepped\": true, \"type\": \"scatter\", \"data\": [0.590559978148985, 0.590559978148985, 0.590559978148985, 0.590559978148985, 0.590559978148985, 0.590559978148985, 0.6115973182392872, 0.6115973182392872, 0.6115973182392872, 0.6115973182392872, 0.6115973182392872, 0.6115973182392872, 0.6115973182392872, 0.6115973182392872, 0.6115973182392872, 0.6115973182392872, 0.6115973182392872, 0.6115973182392872, 0.6115973182392872, 0.6115973182392872, 0.6115973182392872, 0.6115973182392872, 0.6115973182392872, 0.6115973182392872, 0.6115973182392872, 0.6115973182392872, 0.6115973182392872, 0.6115973182392872, 0.6115973182392872, 0.6115973182392872, 0.6115973182392872, 0.6115973182392872, 0.6115973182392872, 0.6115973182392872, 0.6115973182392872, 0.6115973182392872, 0.6115973182392872, 0.6115973182392872, 0.6115973182392872, 0.6115973182392872, 0.6115973182392872, 0.6115973182392872, 0.6238027627748883, 0.6238027627748883]}], \"precision_score_micro\": [{\"categories\": [\"0\", \"1\", \"2\", \"3\", \"4\", \"5\", \"6\", \"7\", \"8\", \"9\", \"10\", \"11\", \"12\", \"13\", \"14\", \"15\", \"16\", \"17\", \"18\", \"19\", \"20\", \"21\", \"22\", \"23\", \"24\", \"25\", \"26\", \"27\", \"28\", \"29\", \"30\", \"31\", \"32\", \"33\", \"34\", \"35\", \"36\", \"37\", \"38\", \"39\", \"40\", \"41\", \"46\", \"47\"], \"mode\": \"markers\", \"name\": \"precision_score_micro\", \"stepped\": false, \"type\": \"scatter\", \"data\": [0.8159550561797753, 0.8103121098626718, 0.7833832709113608, 0.61832709113608, 0.7035830212234706, 0.7867665418227217, 0.8271785268414481, 0.8080649188514357, 0.8147940074906366, 0.8035580524344569, 0.8103245942571784, 0.8024594257178528, 0.8035955056179775, 0.8080898876404495, 0.7968289637952559, 0.8035580524344569, 0.8102996254681647, 0.8058052434456929, 0.8069288389513108, 0.8080524344569289, 0.8091760299625468, 0.784494382022472, 0.790087390761548, 0.774394506866417, 0.8013108614232209, 0.6161048689138577, 0.804681647940075, 0.8046816479400748, 0.8125593008739076, 0.8035580524344571, 0.6161048689138577, 0.7732709113607991, 0.7934456928838951, 0.8125593008739077, 0.7979151061173534, 0.6161048689138577, 0.786741573033708, 0.8125842696629213, 0.783370786516854, 0.8091885143570536, 0.7867540574282147, 0.8069288389513108, 0.835043695380774, 0.8193133583021224]}, {\"categories\": [\"0\", \"1\", \"2\", \"3\", \"4\", \"5\", \"6\", \"7\", \"8\", \"9\", \"10\", \"11\", \"12\", \"13\", \"14\", \"15\", \"16\", \"17\", \"18\", \"19\", \"20\", \"21\", \"22\", \"23\", \"24\", \"25\", \"26\", \"27\", \"28\", \"29\", \"30\", \"31\", \"32\", \"33\", \"34\", \"35\", \"36\", \"37\", \"38\", \"39\", \"40\", \"41\", \"46\", \"47\"], \"mode\": \"lines\", \"name\": \"precision_score_micro_max\", \"stepped\": true, \"type\": \"scatter\", \"data\": [0.8159550561797753, 0.8159550561797753, 0.8159550561797753, 0.8159550561797753, 0.8159550561797753, 0.8159550561797753, 0.8271785268414481, 0.8271785268414481, 0.8271785268414481, 0.8271785268414481, 0.8271785268414481, 0.8271785268414481, 0.8271785268414481, 0.8271785268414481, 0.8271785268414481, 0.8271785268414481, 0.8271785268414481, 0.8271785268414481, 0.8271785268414481, 0.8271785268414481, 0.8271785268414481, 0.8271785268414481, 0.8271785268414481, 0.8271785268414481, 0.8271785268414481, 0.8271785268414481, 0.8271785268414481, 0.8271785268414481, 0.8271785268414481, 0.8271785268414481, 0.8271785268414481, 0.8271785268414481, 0.8271785268414481, 0.8271785268414481, 0.8271785268414481, 0.8271785268414481, 0.8271785268414481, 0.8271785268414481, 0.8271785268414481, 0.8271785268414481, 0.8271785268414481, 0.8271785268414481, 0.835043695380774, 0.835043695380774]}], \"precision_score_macro\": [{\"categories\": [\"0\", \"1\", \"2\", \"3\", \"4\", \"5\", \"6\", \"7\", \"8\", \"9\", \"10\", \"11\", \"12\", \"13\", \"14\", \"15\", \"16\", \"17\", \"18\", \"19\", \"20\", \"21\", \"22\", \"23\", \"24\", \"25\", \"26\", \"27\", \"28\", \"29\", \"30\", \"31\", \"32\", \"33\", \"34\", \"35\", \"36\", \"37\", \"38\", \"39\", \"40\", \"41\", \"46\", \"47\"], \"mode\": \"markers\", \"name\": \"precision_score_macro\", \"stepped\": false, \"type\": \"scatter\", \"data\": [0.8082993158278455, 0.8029305139568835, 0.7759963228420298, 0.3649063670411985, 0.6922804447673535, 0.7772302164339483, 0.8222906514724448, 0.8005425991414269, 0.8112891403444931, 0.7951035989935693, 0.803988111998392, 0.7946795285464613, 0.7953068667123306, 0.8018577456768494, 0.7877392048905167, 0.7959703346986726, 0.8073164446460174, 0.8002372609456547, 0.8039071118503385, 0.8000578137986182, 0.801750916212459, 0.7729991921330284, 0.7799243636383266, 0.7646996771182307, 0.7952735491047747, 0.30805243445692887, 0.7967207495015292, 0.7969378530191321, 0.8053668230257293, 0.7959079106806188, 0.30805243445692887, 0.7726702716598401, 0.7839323530611908, 0.8056656440331045, 0.7930647867698213, 0.30805243445692887, 0.7764620726647578, 0.8066767426532916, 0.7753117833288833, 0.7979894630688805, 0.7740210742384879, 0.7983380261601096, 0.832634520185891, 0.8141385391566432]}, {\"categories\": [\"0\", \"1\", \"2\", \"3\", \"4\", \"5\", \"6\", \"7\", \"8\", \"9\", \"10\", \"11\", \"12\", \"13\", \"14\", \"15\", \"16\", \"17\", \"18\", \"19\", \"20\", \"21\", \"22\", \"23\", \"24\", \"25\", \"26\", \"27\", \"28\", \"29\", \"30\", \"31\", \"32\", \"33\", \"34\", \"35\", \"36\", \"37\", \"38\", \"39\", \"40\", \"41\", \"46\", \"47\"], \"mode\": \"lines\", \"name\": \"precision_score_macro_max\", \"stepped\": true, \"type\": \"scatter\", \"data\": [0.8082993158278455, 0.8082993158278455, 0.8082993158278455, 0.8082993158278455, 0.8082993158278455, 0.8082993158278455, 0.8222906514724448, 0.8222906514724448, 0.8222906514724448, 0.8222906514724448, 0.8222906514724448, 0.8222906514724448, 0.8222906514724448, 0.8222906514724448, 0.8222906514724448, 0.8222906514724448, 0.8222906514724448, 0.8222906514724448, 0.8222906514724448, 0.8222906514724448, 0.8222906514724448, 0.8222906514724448, 0.8222906514724448, 0.8222906514724448, 0.8222906514724448, 0.8222906514724448, 0.8222906514724448, 0.8222906514724448, 0.8222906514724448, 0.8222906514724448, 0.8222906514724448, 0.8222906514724448, 0.8222906514724448, 0.8222906514724448, 0.8222906514724448, 0.8222906514724448, 0.8222906514724448, 0.8222906514724448, 0.8222906514724448, 0.8222906514724448, 0.8222906514724448, 0.8222906514724448, 0.832634520185891, 0.832634520185891]}], \"log_loss\": [{\"categories\": [\"0\", \"1\", \"2\", \"3\", \"4\", \"5\", \"6\", \"7\", \"8\", \"9\", \"10\", \"11\", \"12\", \"13\", \"14\", \"15\", \"16\", \"17\", \"18\", \"19\", \"20\", \"21\", \"22\", \"23\", \"24\", \"25\", \"26\", \"27\", \"28\", \"29\", \"30\", \"31\", \"32\", \"33\", \"34\", \"35\", \"36\", \"37\", \"38\", \"39\", \"40\", \"41\", \"46\", \"47\"], \"mode\": \"markers\", \"name\": \"log_loss\", \"stepped\": false, \"type\": \"scatter\", \"data\": [0.5726700833433668, 0.44036437917585286, 0.5098530916691822, 0.6274358594594334, 0.6793289616199336, 0.5457326619231565, 0.4595040437276028, 0.5193441913864427, 0.4550224562531146, 0.4556234771171795, 0.45313902949289425, 0.48086489345773564, 0.466513028388844, 0.4745606010817651, 0.4461084569018058, 0.7154299907809378, 0.47223770807087967, 0.45394034865453037, 0.48588059257966065, 0.49021205050809546, 0.5544825298644578, 0.47371783823003016, 0.44963189495225614, 0.5979703303689232, 0.46918604084640547, 0.6673443793495718, 0.7135461352404714, 0.714514734806965, 0.5064539090291027, 0.4616847637286308, 0.6673428550551275, 0.4489212314153579, 0.48093266241142596, 0.43655696237533836, 0.4828276927713631, 0.6672576142342512, 0.459910491357689, 0.44224945931780646, 0.5050741206654915, 0.4921946310189226, 0.49141790417633835, 0.7147883887141478, 0.441352316585648, 0.42400012385344754]}, {\"categories\": [\"0\", \"1\", \"2\", \"3\", \"4\", \"5\", \"6\", \"7\", \"8\", \"9\", \"10\", \"11\", \"12\", \"13\", \"14\", \"15\", \"16\", \"17\", \"18\", \"19\", \"20\", \"21\", \"22\", \"23\", \"24\", \"25\", \"26\", \"27\", \"28\", \"29\", \"30\", \"31\", \"32\", \"33\", \"34\", \"35\", \"36\", \"37\", \"38\", \"39\", \"40\", \"41\", \"46\", \"47\"], \"mode\": \"lines\", \"name\": \"log_loss_min\", \"stepped\": true, \"type\": \"scatter\", \"data\": [0.5726700833433668, 0.44036437917585286, 0.44036437917585286, 0.44036437917585286, 0.44036437917585286, 0.44036437917585286, 0.44036437917585286, 0.44036437917585286, 0.44036437917585286, 0.44036437917585286, 0.44036437917585286, 0.44036437917585286, 0.44036437917585286, 0.44036437917585286, 0.44036437917585286, 0.44036437917585286, 0.44036437917585286, 0.44036437917585286, 0.44036437917585286, 0.44036437917585286, 0.44036437917585286, 0.44036437917585286, 0.44036437917585286, 0.44036437917585286, 0.44036437917585286, 0.44036437917585286, 0.44036437917585286, 0.44036437917585286, 0.44036437917585286, 0.44036437917585286, 0.44036437917585286, 0.44036437917585286, 0.44036437917585286, 0.43655696237533836, 0.43655696237533836, 0.43655696237533836, 0.43655696237533836, 0.43655696237533836, 0.43655696237533836, 0.43655696237533836, 0.43655696237533836, 0.43655696237533836, 0.43655696237533836, 0.42400012385344754]}]}, \"metricName\": null, \"primaryMetricName\": \"accuracy\", \"showLegend\": false}, \"run_metrics\": [{\"name\": \"experiment_status\", \"run_id\": \"AutoML_e135651b-d206-4a9e-8702-47cf6ad158d7\", \"categories\": [0, 1, 2, 3, 4, 5, 6, 7, 8, 9, 10, 11, 12, 13], \"series\": [{\"data\": [\"DatasetEvaluation\", \"FeaturesGeneration\", \"DatasetFeaturization\", \"DatasetFeaturizationCompleted\", \"DatasetCrossValidationSplit\", \"ModelSelection\", \"BestRunExplainModel\", \"ModelExplanationDataSetSetup\", \"PickSurrogateModel\", \"EngineeredFeatureExplanations\", \"EngineeredFeatureExplanations\", \"RawFeaturesExplanations\", \"RawFeaturesExplanations\", \"BestRunExplainModel\"]}]}, {\"name\": \"experiment_status_description\", \"run_id\": \"AutoML_e135651b-d206-4a9e-8702-47cf6ad158d7\", \"categories\": [0, 1, 2, 3, 4, 5, 6, 7, 8, 9, 10, 11, 12, 13], \"series\": [{\"data\": [\"Gathering dataset statistics.\", \"Generating features for the dataset.\", \"Beginning to fit featurizers and featurize the dataset.\", \"Completed fit featurizers and featurizing the dataset.\", \"Generating individually featurized CV splits.\", \"Beginning model selection.\", \"Best run model explanations started\", \"Model explanations data setup completed\", \"Choosing LinearModel as the surrogate model for explanations\", \"Computation of engineered features started\", \"Computation of engineered features completed\", \"Computation of raw features started\", \"Computation of raw features completed\", \"Best run model explanations completed\"]}]}, {\"name\": \"norm_macro_recall\", \"run_id\": \"AutoML_e135651b-d206-4a9e-8702-47cf6ad158d7\", \"categories\": [0], \"series\": [{\"data\": [0.6238027627748883]}]}, {\"name\": \"average_precision_score_micro\", \"run_id\": \"AutoML_e135651b-d206-4a9e-8702-47cf6ad158d7\", \"categories\": [0], \"series\": [{\"data\": [0.8649299528756554]}]}, {\"name\": \"AUC_weighted\", \"run_id\": \"AutoML_e135651b-d206-4a9e-8702-47cf6ad158d7\", \"categories\": [0], \"series\": [{\"data\": [0.8655080763853211]}]}, {\"name\": \"precision_score_macro\", \"run_id\": \"AutoML_e135651b-d206-4a9e-8702-47cf6ad158d7\", \"categories\": [0], \"series\": [{\"data\": [0.832634520185891]}]}, {\"name\": \"balanced_accuracy\", \"run_id\": \"AutoML_e135651b-d206-4a9e-8702-47cf6ad158d7\", \"categories\": [0], \"series\": [{\"data\": [0.811901381387444]}]}, {\"name\": \"average_precision_score_weighted\", \"run_id\": \"AutoML_e135651b-d206-4a9e-8702-47cf6ad158d7\", \"categories\": [0], \"series\": [{\"data\": [0.8645067485933939]}]}, {\"name\": \"log_loss\", \"run_id\": \"AutoML_e135651b-d206-4a9e-8702-47cf6ad158d7\", \"categories\": [0], \"series\": [{\"data\": [0.441352316585648]}]}, {\"name\": \"recall_score_macro\", \"run_id\": \"AutoML_e135651b-d206-4a9e-8702-47cf6ad158d7\", \"categories\": [0], \"series\": [{\"data\": [0.811901381387444]}]}, {\"name\": \"weighted_accuracy\", \"run_id\": \"AutoML_e135651b-d206-4a9e-8702-47cf6ad158d7\", \"categories\": [0], \"series\": [{\"data\": [0.8544893634858374]}]}, {\"name\": \"precision_score_weighted\", \"run_id\": \"AutoML_e135651b-d206-4a9e-8702-47cf6ad158d7\", \"categories\": [0], \"series\": [{\"data\": [0.838074143045412]}]}, {\"name\": \"f1_score_macro\", \"run_id\": \"AutoML_e135651b-d206-4a9e-8702-47cf6ad158d7\", \"categories\": [0], \"series\": [{\"data\": [0.817592628261418]}]}, {\"name\": \"recall_score_weighted\", \"run_id\": \"AutoML_e135651b-d206-4a9e-8702-47cf6ad158d7\", \"categories\": [0], \"series\": [{\"data\": [0.835043695380774]}]}, {\"name\": \"f1_score_micro\", \"run_id\": \"AutoML_e135651b-d206-4a9e-8702-47cf6ad158d7\", \"categories\": [0], \"series\": [{\"data\": [0.835043695380774]}]}, {\"name\": \"AUC_macro\", \"run_id\": \"AutoML_e135651b-d206-4a9e-8702-47cf6ad158d7\", \"categories\": [0], \"series\": [{\"data\": [0.8655080763853211]}]}, {\"name\": \"accuracy\", \"run_id\": \"AutoML_e135651b-d206-4a9e-8702-47cf6ad158d7\", \"categories\": [0], \"series\": [{\"data\": [0.835043695380774]}]}, {\"name\": \"f1_score_weighted\", \"run_id\": \"AutoML_e135651b-d206-4a9e-8702-47cf6ad158d7\", \"categories\": [0], \"series\": [{\"data\": [0.8323062694147838]}]}, {\"name\": \"average_precision_score_macro\", \"run_id\": \"AutoML_e135651b-d206-4a9e-8702-47cf6ad158d7\", \"categories\": [0], \"series\": [{\"data\": [0.8574629464037473]}]}, {\"name\": \"recall_score_micro\", \"run_id\": \"AutoML_e135651b-d206-4a9e-8702-47cf6ad158d7\", \"categories\": [0], \"series\": [{\"data\": [0.835043695380774]}]}, {\"name\": \"AUC_micro\", \"run_id\": \"AutoML_e135651b-d206-4a9e-8702-47cf6ad158d7\", \"categories\": [0], \"series\": [{\"data\": [0.8821678223693541]}]}, {\"name\": \"precision_score_micro\", \"run_id\": \"AutoML_e135651b-d206-4a9e-8702-47cf6ad158d7\", \"categories\": [0], \"series\": [{\"data\": [0.835043695380774]}]}, {\"name\": \"matthews_correlation\", \"run_id\": \"AutoML_e135651b-d206-4a9e-8702-47cf6ad158d7\", \"categories\": [0], \"series\": [{\"data\": [0.6439756553679175]}]}], \"run_logs\": \"\\nRun is completed.\", \"graph\": {}, \"widget_settings\": {\"childWidgetDisplay\": \"popup\", \"send_telemetry\": false, \"log_level\": \"INFO\", \"sdk_version\": \"1.26.0\"}, \"loading\": false}"
          },
          "metadata": {}
        },
        {
          "output_type": "display_data",
          "data": {
            "text/plain": "<IPython.core.display.HTML object>",
            "text/html": "<table style=\"width:100%\"><tr><th>Experiment</th><th>Id</th><th>Type</th><th>Status</th><th>Details Page</th><th>Docs Page</th></tr><tr><td>automl</td><td>AutoML_e135651b-d206-4a9e-8702-47cf6ad158d7</td><td>automl</td><td>Completed</td><td><a href=\"https://ml.azure.com/runs/AutoML_e135651b-d206-4a9e-8702-47cf6ad158d7?wsid=/subscriptions/6b4af8be-9931-443e-90f6-c4c34a1f9737/resourcegroups/aml-quickstarts-143194/workspaces/quick-starts-ws-143194&amp;tid=660b3398-b80e-49d2-bc5b-ac1dc93b5254\" target=\"_blank\" rel=\"noopener\">Link to Azure Machine Learning studio</a></td><td><a href=\"https://docs.microsoft.com/en-us/python/api/overview/azure/ml/intro?view=azure-ml-py\" target=\"_blank\" rel=\"noopener\">Link to Documentation</a></td></tr></table>"
          },
          "metadata": {}
        },
        {
          "output_type": "stream",
          "name": "stdout",
          "text": [
            "\n",
            "\n",
            "****************************************************************************************************\n",
            "DATA GUARDRAILS: \n",
            "\n",
            "TYPE:         Cross validation\n",
            "STATUS:       DONE\n",
            "DESCRIPTION:  Each iteration of the trained model was validated through cross-validation.\n",
            "              \n",
            "DETAILS:      \n",
            "+---------------------------------+\n",
            "|Number of folds                  |\n",
            "+=================================+\n",
            "|10                               |\n",
            "+---------------------------------+\n",
            "\n",
            "****************************************************************************************************\n",
            "\n",
            "TYPE:         Class balancing detection\n",
            "STATUS:       PASSED\n",
            "DESCRIPTION:  Your inputs were analyzed, and all classes are balanced in your training data.\n",
            "              Learn more about imbalanced data: https://aka.ms/AutomatedMLImbalancedData\n",
            "\n",
            "****************************************************************************************************\n",
            "\n",
            "TYPE:         Missing feature values imputation\n",
            "STATUS:       DONE\n",
            "DESCRIPTION:  If the missing values are expected, let the run complete. Otherwise cancel the current run and use a script to customize the handling of missing feature values that may be more appropriate based on the data type and business requirement.\n",
            "              Learn more about missing value imputation: https://aka.ms/AutomatedMLFeaturization\n",
            "DETAILS:      \n",
            "+---------------------------------+---------------------------------+---------------------------------+\n",
            "|Column name                      |Missing value count              |Imputation type                  |\n",
            "+=================================+=================================+=================================+\n",
            "|Age                              |177                              |mean                             |\n",
            "|Embarked                         |2                                |                                 |\n",
            "+---------------------------------+---------------------------------+---------------------------------+\n",
            "\n",
            "****************************************************************************************************\n",
            "\n",
            "TYPE:         High cardinality feature detection\n",
            "STATUS:       DONE\n",
            "DESCRIPTION:  High cardinality features were detected in your inputs and handled.\n",
            "              Learn more about high cardinality feature handling: https://aka.ms/AutomatedMLFeaturization\n",
            "DETAILS:      High cardinality features refer to columns that contain a large percentage of unique values.\n",
            "+---------------------------------+---------------------------------+\n",
            "|Column name                      |Column Content Type              |\n",
            "+=================================+=================================+\n",
            "|Name                             |text                             |\n",
            "+---------------------------------+---------------------------------+\n",
            "\n",
            "****************************************************************************************************\n",
            "\n",
            "****************************************************************************************************\n",
            "ITERATION: The iteration being evaluated.\n",
            "PIPELINE: A summary description of the pipeline being evaluated.\n",
            "DURATION: Time taken for the current iteration.\n",
            "METRIC: The result of computing score on the fitted pipeline.\n",
            "BEST: The best observed score thus far.\n",
            "****************************************************************************************************\n",
            "\n",
            " ITERATION   PIPELINE                                       DURATION      METRIC      BEST\n",
            "         0   MaxAbsScaler LightGBM                          0:01:38       0.8160    0.8160\n",
            "         1   MaxAbsScaler XGBoostClassifier                 0:01:54       0.8103    0.8160\n",
            "         2   MaxAbsScaler RandomForest                      0:02:01       0.7834    0.8160\n",
            "         3   MaxAbsScaler RandomForest                      0:01:32       0.6183    0.8160\n",
            "         4   MaxAbsScaler RandomForest                      0:00:44       0.7036    0.8160\n",
            "         5   MaxAbsScaler RandomForest                      0:01:24       0.7868    0.8160\n",
            "         6   MaxAbsScaler GradientBoosting                  0:02:33       0.8272    0.8272\n",
            "         7   SparseNormalizer XGBoostClassifier             0:03:03       0.8081    0.8272\n",
            "         8   SparseNormalizer XGBoostClassifier             0:00:55       0.8148    0.8272\n",
            "        10   MaxAbsScaler LightGBM                          0:00:52       0.8103    0.8272\n",
            "        11   SparseNormalizer XGBoostClassifier             0:01:19       0.8025    0.8272\n",
            "        12   SparseNormalizer XGBoostClassifier             0:01:01       0.8036    0.8272\n",
            "        13   SparseNormalizer XGBoostClassifier             0:00:46       0.8081    0.8272\n",
            "        14   SparseNormalizer LightGBM                      0:00:48       0.7968    0.8272\n",
            "        15   MaxAbsScaler LogisticRegression                0:00:49       0.8036    0.8272\n",
            "        16   SparseNormalizer XGBoostClassifier             0:01:21       0.8103    0.8272\n",
            "        17   SparseNormalizer XGBoostClassifier             0:00:57       0.8058    0.8272\n",
            "         9   MaxAbsScaler LightGBM                          0:01:37       0.8036    0.8272\n",
            "        18   SparseNormalizer XGBoostClassifier             0:00:49       0.8069    0.8272\n",
            "        19   SparseNormalizer XGBoostClassifier             0:01:23       0.8081    0.8272\n",
            "        20   MaxAbsScaler LogisticRegression                0:00:51       0.8092    0.8272\n",
            "        21   MaxAbsScaler RandomForest                      0:01:02       0.7845    0.8272\n",
            "        22   MaxAbsScaler ExtremeRandomTrees                0:00:49       0.7901    0.8272\n",
            "        23   StandardScalerWrapper LogisticRegression       0:00:53       0.7744    0.8272\n",
            "        24   MaxAbsScaler LightGBM                          0:00:45       0.8013    0.8272\n",
            "        25   TruncatedSVDWrapper GradientBoosting           0:00:55       0.6161    0.8272\n",
            "        26   MaxAbsScaler LogisticRegression                0:01:27       0.8047    0.8272\n",
            "        27   MaxAbsScaler LogisticRegression                0:01:31       0.8047    0.8272\n",
            "        28   MaxAbsScaler LogisticRegression                0:00:46       0.8126    0.8272\n",
            "        29   SparseNormalizer XGBoostClassifier             0:01:21       0.8036    0.8272\n",
            "        30   MaxAbsScaler GradientBoosting                  0:00:41       0.6161    0.8272\n",
            "        31   MaxAbsScaler ExtremeRandomTrees                0:01:01       0.7733    0.8272\n",
            "        32   MaxAbsScaler LightGBM                          0:00:43       0.7934    0.8272\n",
            "        33   StandardScalerWrapper XGBoostClassifier        0:00:52       0.8126    0.8272\n",
            "        34   TruncatedSVDWrapper XGBoostClassifier          0:00:58       0.7979    0.8272\n",
            "        35   MaxAbsScaler GradientBoosting                  0:00:49       0.6161    0.8272\n",
            "        36   SparseNormalizer LightGBM                      0:00:53       0.7867    0.8272\n",
            "        37   StandardScalerWrapper LightGBM                 0:00:48       0.8126    0.8272\n",
            "        38   StandardScalerWrapper RandomForest             0:00:51       0.7834    0.8272\n",
            "        39   MaxAbsScaler LogisticRegression                0:00:47       0.8092    0.8272\n",
            "        40   MaxAbsScaler GradientBoosting                  0:00:40       0.7868    0.8272\n",
            "        41   MaxAbsScaler LogisticRegression                0:00:37       0.8069    0.8272\n",
            "        42   MaxAbsScaler LogisticRegression                0:00:35          nan    0.8272\n",
            "        43   SparseNormalizer XGBoostClassifier             0:00:27          nan    0.8272\n",
            "        44                                                  0:00:14          nan    0.8272\n",
            "        45                                                  0:00:16          nan    0.8272\n",
            "        46    VotingEnsemble                                0:01:18       0.8350    0.8350\n",
            "        47    StackEnsemble                                 0:01:25       0.8193    0.8350\n"
          ]
        },
        {
          "output_type": "execute_result",
          "execution_count": 6,
          "data": {
            "text/plain": "{'runId': 'AutoML_e135651b-d206-4a9e-8702-47cf6ad158d7',\n 'target': 'titaniclusters',\n 'status': 'Completed',\n 'startTimeUtc': '2021-04-19T23:41:41.256775Z',\n 'endTimeUtc': '2021-04-19T23:58:04.142896Z',\n 'properties': {'num_iterations': '1000',\n  'training_type': 'TrainFull',\n  'acquisition_function': 'EI',\n  'primary_metric': 'accuracy',\n  'train_split': '0',\n  'acquisition_parameter': '0',\n  'num_cross_validation': None,\n  'target': 'titaniclusters',\n  'AMLSettingsJsonString': '{\"path\":null,\"name\":\"automl\",\"subscription_id\":\"6b4af8be-9931-443e-90f6-c4c34a1f9737\",\"resource_group\":\"aml-quickstarts-143194\",\"workspace_name\":\"quick-starts-ws-143194\",\"region\":\"southcentralus\",\"compute_target\":\"titaniclusters\",\"spark_service\":null,\"azure_service\":\"remote\",\"many_models\":false,\"pipeline_fetch_max_batch_size\":1,\"enable_batch_run\":false,\"enable_run_restructure\":false,\"iterations\":1000,\"primary_metric\":\"accuracy\",\"task_type\":\"classification\",\"data_script\":null,\"test_size\":0.0,\"validation_size\":0.0,\"n_cross_validations\":null,\"y_min\":null,\"y_max\":null,\"num_classes\":null,\"featurization\":\"auto\",\"_ignore_package_version_incompatibilities\":false,\"is_timeseries\":false,\"max_cores_per_iteration\":1,\"max_concurrent_iterations\":9,\"iteration_timeout_minutes\":null,\"mem_in_mb\":null,\"enforce_time_on_windows\":false,\"experiment_timeout_minutes\":20,\"experiment_exit_score\":null,\"whitelist_models\":null,\"blacklist_algos\":[\"TensorFlowLinearClassifier\",\"TensorFlowDNN\"],\"supported_models\":[\"ExtremeRandomTrees\",\"LinearSVM\",\"BernoulliNaiveBayes\",\"MultinomialNaiveBayes\",\"LightGBM\",\"TensorFlowDNN\",\"RandomForest\",\"TensorFlowLinearClassifier\",\"AveragedPerceptronClassifier\",\"KNN\",\"XGBoostClassifier\",\"DecisionTree\",\"LogisticRegression\",\"SGD\",\"GradientBoosting\",\"SVM\"],\"private_models\":[],\"auto_blacklist\":true,\"blacklist_samples_reached\":false,\"exclude_nan_labels\":true,\"verbosity\":20,\"_debug_log\":\"azureml_automl.log\",\"show_warnings\":false,\"model_explainability\":true,\"service_url\":null,\"sdk_url\":null,\"sdk_packages\":null,\"enable_onnx_compatible_models\":false,\"enable_split_onnx_featurizer_estimator_models\":false,\"vm_type\":\"STANDARD_DS12_V2\",\"telemetry_verbosity\":20,\"send_telemetry\":true,\"enable_dnn\":false,\"scenario\":\"SDK-1.13.0\",\"environment_label\":null,\"save_mlflow\":false,\"force_text_dnn\":false,\"enable_feature_sweeping\":true,\"enable_early_stopping\":true,\"early_stopping_n_iters\":10,\"metrics\":null,\"enable_metric_confidence\":false,\"enable_ensembling\":true,\"enable_stack_ensembling\":true,\"ensemble_iterations\":15,\"enable_tf\":false,\"enable_subsampling\":null,\"subsample_seed\":null,\"enable_nimbusml\":false,\"enable_streaming\":false,\"force_streaming\":false,\"track_child_runs\":true,\"allowed_private_models\":[],\"label_column_name\":\"Survived\",\"weight_column_name\":null,\"cv_split_column_names\":null,\"enable_local_managed\":false,\"_local_managed_run_id\":null,\"cost_mode\":1,\"lag_length\":0,\"metric_operation\":\"maximize\",\"preprocess\":true}',\n  'DataPrepJsonString': '{\\\\\"training_data\\\\\": {\\\\\"datasetId\\\\\": \\\\\"65ca1f68-3210-4d79-8f99-b7ac2dd28674\\\\\"}, \\\\\"datasets\\\\\": 0}',\n  'EnableSubsampling': None,\n  'runTemplate': 'AutoML',\n  'azureml.runsource': 'automl',\n  'display_task_type': 'classification',\n  'dependencies_versions': '{\"azureml-widgets\": \"1.26.0\", \"azureml-train\": \"1.26.0\", \"azureml-train-restclients-hyperdrive\": \"1.26.0\", \"azureml-train-core\": \"1.26.0\", \"azureml-train-automl\": \"1.26.0\", \"azureml-train-automl-runtime\": \"1.26.0\", \"azureml-train-automl-client\": \"1.26.0\", \"azureml-tensorboard\": \"1.26.0\", \"azureml-telemetry\": \"1.26.0\", \"azureml-sdk\": \"1.26.0\", \"azureml-samples\": \"0+unknown\", \"azureml-pipeline\": \"1.26.0\", \"azureml-pipeline-steps\": \"1.26.0\", \"azureml-pipeline-core\": \"1.26.0\", \"azureml-opendatasets\": \"1.26.0\", \"azureml-model-management-sdk\": \"1.0.1b6.post1\", \"azureml-mlflow\": \"1.26.0\", \"azureml-interpret\": \"1.26.0\", \"azureml-explain-model\": \"1.26.0\", \"azureml-defaults\": \"1.26.0\", \"azureml-dataset-runtime\": \"1.26.0\", \"azureml-dataprep\": \"2.13.2\", \"azureml-dataprep-rslex\": \"1.11.2\", \"azureml-dataprep-native\": \"32.0.0\", \"azureml-datadrift\": \"1.26.0\", \"azureml-core\": \"1.26.0\", \"azureml-contrib-services\": \"1.26.0\", \"azureml-contrib-server\": \"1.26.0\", \"azureml-contrib-reinforcementlearning\": \"1.26.0\", \"azureml-contrib-pipeline-steps\": \"1.26.0\", \"azureml-contrib-notebook\": \"1.26.0\", \"azureml-contrib-gbdt\": \"1.26.0\", \"azureml-contrib-fairness\": \"1.26.0\", \"azureml-contrib-dataset\": \"1.26.0\", \"azureml-cli-common\": \"1.26.0\", \"azureml-automl-runtime\": \"1.26.0\", \"azureml-automl-dnn-nlp\": \"1.26.0\", \"azureml-automl-core\": \"1.26.0\", \"azureml-accel-models\": \"1.26.0\"}',\n  '_aml_system_scenario_identification': 'Remote.Parent',\n  'ClientType': 'SDK',\n  'environment_cpu_name': 'AzureML-AutoML',\n  'environment_cpu_label': 'prod',\n  'environment_gpu_name': 'AzureML-AutoML-GPU',\n  'environment_gpu_label': 'prod',\n  'root_attribution': 'automl',\n  'attribution': 'AutoML',\n  'Orchestrator': 'AutoML',\n  'CancelUri': 'https://southcentralus.api.azureml.ms/jasmine/v1.0/subscriptions/6b4af8be-9931-443e-90f6-c4c34a1f9737/resourceGroups/aml-quickstarts-143194/providers/Microsoft.MachineLearningServices/workspaces/quick-starts-ws-143194/experimentids/16acba1e-d98f-4008-afc8-124d5779b717/cancel/AutoML_e135651b-d206-4a9e-8702-47cf6ad158d7',\n  'ClientSdkVersion': '1.26.0',\n  'snapshotId': '00000000-0000-0000-0000-000000000000',\n  'SetupRunId': 'AutoML_e135651b-d206-4a9e-8702-47cf6ad158d7_setup',\n  'SetupRunContainerId': 'dcid.AutoML_e135651b-d206-4a9e-8702-47cf6ad158d7_setup',\n  'FeaturizationRunJsonPath': 'featurizer_container.json',\n  'FeaturizationRunId': 'AutoML_e135651b-d206-4a9e-8702-47cf6ad158d7_featurize',\n  'ProblemInfoJsonString': '{\"dataset_num_categorical\": 0, \"is_sparse\": true, \"subsampling\": false, \"dataset_classes\": 2, \"dataset_features\": 6974, \"dataset_samples\": 891, \"single_frequency_class_detected\": false}',\n  'ModelExplainRunId': 'AutoML_e135651b-d206-4a9e-8702-47cf6ad158d7_ModelExplain'},\n 'inputDatasets': [{'dataset': {'id': '65ca1f68-3210-4d79-8f99-b7ac2dd28674'}, 'consumptionDetails': {'type': 'RunInput', 'inputName': 'training_data', 'mechanism': 'Direct'}}],\n 'outputDatasets': [],\n 'logFiles': {},\n 'submittedBy': 'ODL_User 143194'}"
          },
          "metadata": {}
        }
      ],
      "execution_count": 6,
      "metadata": {
        "gather": {
          "logged": 1618876881660
        },
        "jupyter": {
          "outputs_hidden": false,
          "source_hidden": false
        },
        "nteract": {
          "transient": {
            "deleting": false
          }
        }
      }
    },
    {
      "cell_type": "markdown",
      "source": [
        "## Best Model\n",
        "\n",
        "TODO: In the cell below, get the best model from the automl experiments and display all the properties of the model.\n",
        "\n"
      ],
      "metadata": {}
    },
    {
      "cell_type": "code",
      "source": [
        "best_run_automl, fitted_model_automl = remote_run.get_output()\n",
        "model_name = best_run_automl.properties['model_name']"
      ],
      "outputs": [],
      "execution_count": 7,
      "metadata": {
        "gather": {
          "logged": 1618876919682
        },
        "jupyter": {
          "outputs_hidden": false,
          "source_hidden": false
        },
        "nteract": {
          "transient": {
            "deleting": false
          }
        }
      }
    },
    {
      "cell_type": "code",
      "source": [
        "print(best_run_automl)"
      ],
      "outputs": [
        {
          "output_type": "stream",
          "name": "stdout",
          "text": [
            "Run(Experiment: automl,\n",
            "Id: AutoML_e135651b-d206-4a9e-8702-47cf6ad158d7_46,\n",
            "Type: azureml.scriptrun,\n",
            "Status: Completed)\n"
          ]
        }
      ],
      "execution_count": 8,
      "metadata": {
        "gather": {
          "logged": 1618876921584
        },
        "jupyter": {
          "outputs_hidden": false,
          "source_hidden": false
        },
        "nteract": {
          "transient": {
            "deleting": false
          }
        }
      }
    },
    {
      "cell_type": "code",
      "source": [
        "fitted_model_automl.steps"
      ],
      "outputs": [
        {
          "output_type": "execute_result",
          "execution_count": 9,
          "data": {
            "text/plain": "[('datatransformer',\n  DataTransformer(enable_dnn=None, enable_feature_sweeping=None,\n                  feature_sweeping_config=None, feature_sweeping_timeout=None,\n                  featurization_config=None, force_text_dnn=None,\n                  is_cross_validation=None, is_onnx_compatible=None, logger=None,\n                  observer=None, task=None, working_dir=None)),\n ('prefittedsoftvotingclassifier',\n  PreFittedSoftVotingClassifier(classification_labels=None,\n                                estimators=[('6',\n                                             Pipeline(memory=None,\n                                                      steps=[('maxabsscaler',\n                                                              MaxAbsScaler(copy=True)),\n                                                             ('gradientboostingclassifier',\n                                                              GradientBoostingClassifier(ccp_alpha=0.0,\n                                                                                         criterion='mse',\n                                                                                         init=None,\n                                                                                         learning_rate=0.046415888336127774,\n                                                                                         loss='deviance',\n                                                                                         max_depth=10,\n                                                                                         max_features=0.9,\n                                                                                         max_leaf_nodes=None,\n                                                                                         min_impur...\n                                                                                 random_state=None,\n                                                                                 reg_alpha=0.7894736842105263,\n                                                                                 reg_lambda=0.42105263157894735,\n                                                                                 silent=True,\n                                                                                 subsample=0.9405263157894738,\n                                                                                 subsample_for_bin=200000,\n                                                                                 subsample_freq=0,\n                                                                                 verbose=-10))],\n                                                      verbose=False))],\n                                flatten_transform=None,\n                                weights=[0.2, 0.06666666666666667,\n                                         0.06666666666666667, 0.26666666666666666,\n                                         0.06666666666666667, 0.2,\n                                         0.06666666666666667,\n                                         0.06666666666666667]))]"
          },
          "metadata": {}
        }
      ],
      "execution_count": 9,
      "metadata": {
        "gather": {
          "logged": 1618876923706
        }
      }
    },
    {
      "cell_type": "code",
      "source": [],
      "outputs": [],
      "execution_count": null,
      "metadata": {}
    },
    {
      "cell_type": "code",
      "source": [
        "from pprint import pprint\n",
        "\n",
        "def print_model(model, prefix=\"\"):\n",
        "    for step in model.steps:\n",
        "        print(prefix + step[0])\n",
        "        if hasattr(step[1], 'estimators') and hasattr(step[1], 'weights'):\n",
        "            pprint({'estimators': list(\n",
        "                e[0] for e in step[1].estimators), 'weights': step[1].weights})\n",
        "            print()\n",
        "            for estimator in step[1].estimators:\n",
        "                print_model(estimator[1], estimator[0] + ' - ')\n",
        "        else:\n",
        "            pprint(step[1].get_params())\n",
        "            print()\n",
        "\n",
        "print_model(fitted_model_automl)"
      ],
      "outputs": [
        {
          "output_type": "stream",
          "name": "stdout",
          "text": [
            "datatransformer\n",
            "{'enable_dnn': None,\n",
            " 'enable_feature_sweeping': None,\n",
            " 'feature_sweeping_config': None,\n",
            " 'feature_sweeping_timeout': None,\n",
            " 'featurization_config': None,\n",
            " 'force_text_dnn': None,\n",
            " 'is_cross_validation': None,\n",
            " 'is_onnx_compatible': None,\n",
            " 'logger': None,\n",
            " 'observer': None,\n",
            " 'task': None,\n",
            " 'working_dir': None}\n",
            "\n",
            "prefittedsoftvotingclassifier\n",
            "{'estimators': ['6', '0', '8', '37', '33', '4', '7', '32'],\n",
            " 'weights': [0.2,\n",
            "             0.06666666666666667,\n",
            "             0.06666666666666667,\n",
            "             0.26666666666666666,\n",
            "             0.06666666666666667,\n",
            "             0.2,\n",
            "             0.06666666666666667,\n",
            "             0.06666666666666667]}\n",
            "\n",
            "6 - maxabsscaler\n",
            "{'copy': True}\n",
            "\n",
            "6 - gradientboostingclassifier\n",
            "{'ccp_alpha': 0.0,\n",
            " 'criterion': 'mse',\n",
            " 'init': None,\n",
            " 'learning_rate': 0.046415888336127774,\n",
            " 'loss': 'deviance',\n",
            " 'max_depth': 10,\n",
            " 'max_features': 0.9,\n",
            " 'max_leaf_nodes': None,\n",
            " 'min_impurity_decrease': 0.0,\n",
            " 'min_impurity_split': None,\n",
            " 'min_samples_leaf': 0.06157894736842105,\n",
            " 'min_samples_split': 0.19736842105263158,\n",
            " 'min_weight_fraction_leaf': 0.0,\n",
            " 'n_estimators': 400,\n",
            " 'n_iter_no_change': None,\n",
            " 'presort': 'deprecated',\n",
            " 'random_state': None,\n",
            " 'subsample': 0.9052631578947369,\n",
            " 'tol': 0.0001,\n",
            " 'validation_fraction': 0.1,\n",
            " 'verbose': 0,\n",
            " 'warm_start': False}\n",
            "\n",
            "0 - maxabsscaler\n",
            "{'copy': True}\n",
            "\n",
            "0 - lightgbmclassifier\n",
            "{'boosting_type': 'gbdt',\n",
            " 'class_weight': None,\n",
            " 'colsample_bytree': 1.0,\n",
            " 'importance_type': 'split',\n",
            " 'learning_rate': 0.1,\n",
            " 'max_depth': -1,\n",
            " 'min_child_samples': 20,\n",
            " 'min_child_weight': 0.001,\n",
            " 'min_split_gain': 0.0,\n",
            " 'n_estimators': 100,\n",
            " 'n_jobs': 1,\n",
            " 'num_leaves': 31,\n",
            " 'objective': None,\n",
            " 'random_state': None,\n",
            " 'reg_alpha': 0.0,\n",
            " 'reg_lambda': 0.0,\n",
            " 'silent': True,\n",
            " 'subsample': 1.0,\n",
            " 'subsample_for_bin': 200000,\n",
            " 'subsample_freq': 0,\n",
            " 'verbose': -10}\n",
            "\n",
            "8 - sparsenormalizer\n",
            "{'copy': True, 'norm': 'l1'}\n",
            "\n",
            "8 - xgboostclassifier\n",
            "{'base_score': 0.5,\n",
            " 'booster': 'gbtree',\n",
            " 'colsample_bylevel': 1,\n",
            " 'colsample_bynode': 1,\n",
            " 'colsample_bytree': 0.6,\n",
            " 'eta': 0.05,\n",
            " 'gamma': 0,\n",
            " 'grow_policy': 'lossguide',\n",
            " 'learning_rate': 0.1,\n",
            " 'max_bin': 1023,\n",
            " 'max_delta_step': 0,\n",
            " 'max_depth': 6,\n",
            " 'max_leaves': 7,\n",
            " 'min_child_weight': 1,\n",
            " 'missing': nan,\n",
            " 'n_estimators': 100,\n",
            " 'n_jobs': 1,\n",
            " 'nthread': None,\n",
            " 'objective': 'reg:logistic',\n",
            " 'random_state': 0,\n",
            " 'reg_alpha': 1.4583333333333335,\n",
            " 'reg_lambda': 0.3125,\n",
            " 'scale_pos_weight': 1,\n",
            " 'seed': None,\n",
            " 'silent': None,\n",
            " 'subsample': 0.8,\n",
            " 'tree_method': 'hist',\n",
            " 'verbose': -10,\n",
            " 'verbosity': 0}\n",
            "\n",
            "37 - standardscalerwrapper\n",
            "{'class_name': 'StandardScaler',\n",
            " 'copy': True,\n",
            " 'module_name': 'sklearn.preprocessing._data',\n",
            " 'with_mean': False,\n",
            " 'with_std': True}\n",
            "\n",
            "37 - lightgbmclassifier\n",
            "{'boosting_type': 'gbdt',\n",
            " 'class_weight': None,\n",
            " 'colsample_bytree': 0.6933333333333332,\n",
            " 'importance_type': 'split',\n",
            " 'learning_rate': 0.05263631578947369,\n",
            " 'max_bin': 100,\n",
            " 'max_depth': 2,\n",
            " 'min_child_samples': 53,\n",
            " 'min_child_weight': 3,\n",
            " 'min_split_gain': 0.42105263157894735,\n",
            " 'n_estimators': 200,\n",
            " 'n_jobs': 1,\n",
            " 'num_leaves': 182,\n",
            " 'objective': None,\n",
            " 'random_state': None,\n",
            " 'reg_alpha': 0.8421052631578947,\n",
            " 'reg_lambda': 0.3157894736842105,\n",
            " 'silent': True,\n",
            " 'subsample': 0.6436842105263159,\n",
            " 'subsample_for_bin': 200000,\n",
            " 'subsample_freq': 0,\n",
            " 'verbose': -10}\n",
            "\n",
            "33 - standardscalerwrapper\n",
            "{'class_name': 'StandardScaler',\n",
            " 'copy': True,\n",
            " 'module_name': 'sklearn.preprocessing._data',\n",
            " 'with_mean': False,\n",
            " 'with_std': False}\n",
            "\n",
            "33 - xgboostclassifier\n",
            "{'base_score': 0.5,\n",
            " 'booster': 'gbtree',\n",
            " 'colsample_bylevel': 1,\n",
            " 'colsample_bynode': 1,\n",
            " 'colsample_bytree': 0.5,\n",
            " 'eta': 0.4,\n",
            " 'gamma': 0,\n",
            " 'learning_rate': 0.1,\n",
            " 'max_delta_step': 0,\n",
            " 'max_depth': 5,\n",
            " 'max_leaves': 0,\n",
            " 'min_child_weight': 1,\n",
            " 'missing': nan,\n",
            " 'n_estimators': 25,\n",
            " 'n_jobs': 1,\n",
            " 'nthread': None,\n",
            " 'objective': 'reg:logistic',\n",
            " 'random_state': 0,\n",
            " 'reg_alpha': 0.7291666666666667,\n",
            " 'reg_lambda': 2.3958333333333335,\n",
            " 'scale_pos_weight': 1,\n",
            " 'seed': None,\n",
            " 'silent': None,\n",
            " 'subsample': 0.9,\n",
            " 'tree_method': 'auto',\n",
            " 'verbose': -10,\n",
            " 'verbosity': 0}\n",
            "\n",
            "4 - maxabsscaler\n",
            "{'copy': True}\n",
            "\n",
            "4 - randomforestclassifier\n",
            "{'bootstrap': True,\n",
            " 'ccp_alpha': 0.0,\n",
            " 'class_weight': 'balanced',\n",
            " 'criterion': 'gini',\n",
            " 'max_depth': None,\n",
            " 'max_features': 'log2',\n",
            " 'max_leaf_nodes': None,\n",
            " 'max_samples': None,\n",
            " 'min_impurity_decrease': 0.0,\n",
            " 'min_impurity_split': None,\n",
            " 'min_samples_leaf': 0.01,\n",
            " 'min_samples_split': 0.01,\n",
            " 'min_weight_fraction_leaf': 0.0,\n",
            " 'n_estimators': 25,\n",
            " 'n_jobs': 1,\n",
            " 'oob_score': True,\n",
            " 'random_state': None,\n",
            " 'verbose': 0,\n",
            " 'warm_start': False}\n",
            "\n",
            "7 - sparsenormalizer\n",
            "{'copy': True, 'norm': 'l2'}\n",
            "\n",
            "7 - xgboostclassifier\n",
            "{'base_score': 0.5,\n",
            " 'booster': 'gbtree',\n",
            " 'colsample_bylevel': 1,\n",
            " 'colsample_bynode': 1,\n",
            " 'colsample_bytree': 0.8,\n",
            " 'eta': 0.001,\n",
            " 'gamma': 0,\n",
            " 'grow_policy': 'lossguide',\n",
            " 'learning_rate': 0.1,\n",
            " 'max_bin': 1023,\n",
            " 'max_delta_step': 0,\n",
            " 'max_depth': 6,\n",
            " 'max_leaves': 0,\n",
            " 'min_child_weight': 1,\n",
            " 'missing': nan,\n",
            " 'n_estimators': 600,\n",
            " 'n_jobs': 1,\n",
            " 'nthread': None,\n",
            " 'objective': 'reg:logistic',\n",
            " 'random_state': 0,\n",
            " 'reg_alpha': 2.3958333333333335,\n",
            " 'reg_lambda': 2.5,\n",
            " 'scale_pos_weight': 1,\n",
            " 'seed': None,\n",
            " 'silent': None,\n",
            " 'subsample': 0.7,\n",
            " 'tree_method': 'hist',\n",
            " 'verbose': -10,\n",
            " 'verbosity': 0}\n",
            "\n",
            "32 - maxabsscaler\n",
            "{'copy': True}\n",
            "\n",
            "32 - lightgbmclassifier\n",
            "{'boosting_type': 'gbdt',\n",
            " 'class_weight': None,\n",
            " 'colsample_bytree': 0.1988888888888889,\n",
            " 'importance_type': 'split',\n",
            " 'learning_rate': 0.03158578947368421,\n",
            " 'max_bin': 210,\n",
            " 'max_depth': 10,\n",
            " 'min_child_samples': 53,\n",
            " 'min_child_weight': 1,\n",
            " 'min_split_gain': 0.10526315789473684,\n",
            " 'n_estimators': 50,\n",
            " 'n_jobs': 1,\n",
            " 'num_leaves': 194,\n",
            " 'objective': None,\n",
            " 'random_state': None,\n",
            " 'reg_alpha': 0.7894736842105263,\n",
            " 'reg_lambda': 0.42105263157894735,\n",
            " 'silent': True,\n",
            " 'subsample': 0.9405263157894738,\n",
            " 'subsample_for_bin': 200000,\n",
            " 'subsample_freq': 0,\n",
            " 'verbose': -10}\n",
            "\n"
          ]
        }
      ],
      "execution_count": 10,
      "metadata": {
        "gather": {
          "logged": 1618876927981
        }
      }
    },
    {
      "cell_type": "code",
      "source": [
        "#Save the best model - download pkl and register model in Azure\n",
        "model_name = 'best_model'\n",
        "model = best_run_automl.register_model(model_name, model_path='outputs/model.pkl')\n",
        "\n",
        "best_run_automl.download_file('outputs/model.pkl', 'automl_output/model.pkl')\n",
        "best_run_automl.download_file('outputs/scoring_file_v_1_0_0.py', 'automl_output/score.py')\n",
        "print(model)"
      ],
      "outputs": [
        {
          "output_type": "stream",
          "name": "stdout",
          "text": [
            "Model(workspace=Workspace.create(name='quick-starts-ws-143194', subscription_id='6b4af8be-9931-443e-90f6-c4c34a1f9737', resource_group='aml-quickstarts-143194'), name=best_model, id=best_model:1, version=1, tags={}, properties={})\n"
          ]
        }
      ],
      "execution_count": 11,
      "metadata": {
        "gather": {
          "logged": 1618876932829
        }
      }
    },
    {
      "cell_type": "markdown",
      "source": [
        "## Model Deployment\n",
        "\n",
        "Remember you have to deploy only one of the two models you trained.. Perform the steps in the rest of this notebook only if you wish to deploy this model.\n",
        "\n",
        "TODO: In the cell below, register the model, create an inference config and deploy the model as a web service."
      ],
      "metadata": {}
    },
    {
      "cell_type": "code",
      "source": [
        "service_name = 'capstone-service'\n",
        "inference_config = InferenceConfig(entry_script='automl_output/score.py')\n",
        "service = Model.deploy(ws, service_name, [model], inference_config, overwrite=True)\n",
        "service.wait_for_deployment(show_output=True)"
      ],
      "outputs": [
        {
          "output_type": "stream",
          "name": "stdout",
          "text": [
            "Tips: You can try get_logs(): https://aka.ms/debugimage#dockerlog or local deployment: https://aka.ms/debugimage#debug-locally to debug if deployment takes longer than 10 minutes.\n",
            "Running\n",
            "2021-04-20 00:02:17+00:00 Creating Container Registry if not exists.\n",
            "2021-04-20 00:02:18+00:00 Use the existing image.\n",
            "2021-04-20 00:02:19+00:00 Generating deployment configuration.\n",
            "2021-04-20 00:02:20+00:00 Submitting deployment to compute..\n",
            "2021-04-20 00:02:25+00:00 Checking the status of deployment capstone-service..\n",
            "2021-04-20 00:05:48+00:00 Checking the status of inference endpoint capstone-service.\n",
            "Succeeded\n",
            "ACI service creation operation finished, operation \"Succeeded\"\n"
          ]
        }
      ],
      "execution_count": 12,
      "metadata": {
        "gather": {
          "logged": 1618877205580
        },
        "jupyter": {
          "outputs_hidden": false,
          "source_hidden": false
        },
        "nteract": {
          "transient": {
            "deleting": false
          }
        }
      }
    },
    {
      "cell_type": "markdown",
      "source": [
        "TODO: In the cell below, send a request to the web service you deployed to test it."
      ],
      "metadata": {
        "collapsed": true,
        "gather": {
          "logged": 1598431657736
        },
        "jupyter": {
          "outputs_hidden": false,
          "source_hidden": false
        },
        "nteract": {
          "transient": {
            "deleting": false
          }
        }
      }
    },
    {
      "cell_type": "code",
      "source": [
        "print(service.state)\n",
        "\n",
        "service.update(enable_app_insights=True)\n",
        "\n",
        "scoring_uri = service.scoring_uri\n",
        "\n",
        "print(f'\\nservice state: {service.state}\\n')\n",
        "print(f'scoring URI: \\n{service.scoring_uri}\\n')\n",
        "print(f'swagger URI: \\n{service.swagger_uri}\\n')\n",
        "\n",
        "print(service.scoring_uri)\n",
        "print(service.swagger_uri)\n",
        "\n",
        "import requests\n",
        "import json\n",
        "\n",
        "data = {\"data\":\n",
        "        [\n",
        "          {\n",
        "            \"PassengerId\": 812,\n",
        "            \"Pclass\": 2,\n",
        "            \"Name\": \"Berriman, Mr. William John\",\n",
        "            \"Sex\": \"male\",\n",
        "            \"Age\": 23.0,\n",
        "            \"SibSp\": 0,\n",
        "            \"Parch\": 0, \n",
        "            \"Ticket\": \"28425\",\n",
        "            \"Fare\": 13.0,\n",
        "            \"Cabin\": \"\",\n",
        "            \"Embarked\": \"S\",\n",
        "          },\n",
        "          {\n",
        "            \"PassengerId\": 813,\n",
        "            \"Pclass\": 1,\n",
        "            \"Name\": \"Lesurer, Mr. Gustave J\",\n",
        "            \"Sex\": \"male\",\n",
        "            \"Age\": 35.0,\n",
        "            \"SibSp\": 0,\n",
        "            \"Parch\": 0, \n",
        "            \"Ticket\": \"PC 17755\",\n",
        "            \"Fare\": 512.3292,\n",
        "            \"Cabin\": \"B101\",\n",
        "            \"Embarked\": \"S\",\n",
        "\n",
        "          }\n",
        "      ]\n",
        "    }\n",
        "\n",
        "input_data=json.dumps(data)\n",
        "# with open(\"data.json\",\"w\") as file:\n",
        "#     file.write(input_data)\n",
        "\n",
        "# headers={\"Content-Type\":\"application/json\"}\n",
        "\n",
        "# resp=requests.post(scoring_uri, input_data, headers=headers)\n",
        "# print(\"Response is: \",resp.json())"
      ],
      "outputs": [
        {
          "output_type": "stream",
          "name": "stdout",
          "text": [
            "Healthy\n",
            "\n",
            "service state: Healthy\n",
            "\n",
            "scoring URI: \n",
            "http://fa832968-4bbb-4ba4-aceb-374a853f3401.southcentralus.azurecontainer.io/score\n",
            "\n",
            "swagger URI: \n",
            "http://fa832968-4bbb-4ba4-aceb-374a853f3401.southcentralus.azurecontainer.io/swagger.json\n",
            "\n",
            "http://fa832968-4bbb-4ba4-aceb-374a853f3401.southcentralus.azurecontainer.io/score\n",
            "http://fa832968-4bbb-4ba4-aceb-374a853f3401.southcentralus.azurecontainer.io/swagger.json\n"
          ]
        }
      ],
      "execution_count": 13,
      "metadata": {
        "gather": {
          "logged": 1618877232686
        },
        "jupyter": {
          "outputs_hidden": false,
          "source_hidden": false
        },
        "nteract": {
          "transient": {
            "deleting": false
          }
        }
      }
    },
    {
      "cell_type": "code",
      "source": [
        "output = service.run(input_data)\n",
        "print(output)"
      ],
      "outputs": [
        {
          "output_type": "stream",
          "name": "stdout",
          "text": [
            "{\"result\": [0, 1]}\n"
          ]
        }
      ],
      "execution_count": 14,
      "metadata": {
        "gather": {
          "logged": 1618877236935
        }
      }
    },
    {
      "cell_type": "code",
      "source": [
        "service.delete()\r\n",
        "compute_target.delete()"
      ],
      "outputs": [],
      "execution_count": 27,
      "metadata": {
        "gather": {
          "logged": 1618865529429
        }
      }
    },
    {
      "cell_type": "markdown",
      "source": [
        "TODO: In the cell below, print the logs of the web service and delete the service"
      ],
      "metadata": {
        "collapsed": true,
        "gather": {
          "logged": 1598432765711
        },
        "jupyter": {
          "outputs_hidden": false,
          "source_hidden": false
        },
        "nteract": {
          "transient": {
            "deleting": false
          }
        }
      }
    },
    {
      "cell_type": "code",
      "source": [
        "logs = service.get_logs()\n",
        "for line in logs.split('\\n'):\n",
        "    print(line)"
      ],
      "outputs": [
        {
          "output_type": "stream",
          "name": "stdout",
          "text": [
            "2021-04-20T00:08:51,515405400+00:00 - gunicorn/run \n",
            "2021-04-20T00:08:51,530185200+00:00 - iot-server/run \n",
            "2021-04-20T00:08:51,540003400+00:00 - rsyslog/run \n",
            "2021-04-20T00:08:51,634460600+00:00 - nginx/run \n",
            "/usr/sbin/nginx: /azureml-envs/azureml_1c91e9a5baadb44a18d64bdd7f599d89/lib/libcrypto.so.1.0.0: no version information available (required by /usr/sbin/nginx)\n",
            "/usr/sbin/nginx: /azureml-envs/azureml_1c91e9a5baadb44a18d64bdd7f599d89/lib/libcrypto.so.1.0.0: no version information available (required by /usr/sbin/nginx)\n",
            "/usr/sbin/nginx: /azureml-envs/azureml_1c91e9a5baadb44a18d64bdd7f599d89/lib/libssl.so.1.0.0: no version information available (required by /usr/sbin/nginx)\n",
            "/usr/sbin/nginx: /azureml-envs/azureml_1c91e9a5baadb44a18d64bdd7f599d89/lib/libssl.so.1.0.0: no version information available (required by /usr/sbin/nginx)\n",
            "/usr/sbin/nginx: /azureml-envs/azureml_1c91e9a5baadb44a18d64bdd7f599d89/lib/libssl.so.1.0.0: no version information available (required by /usr/sbin/nginx)\n",
            "rsyslogd: /azureml-envs/azureml_1c91e9a5baadb44a18d64bdd7f599d89/lib/libuuid.so.1: no version information available (required by rsyslogd)\n",
            "EdgeHubConnectionString and IOTEDGE_IOTHUBHOSTNAME are not set. Exiting...\n",
            "2021-04-20T00:08:53,934461000+00:00 - iot-server/finish 1 0\n",
            "2021-04-20T00:08:53,942782300+00:00 - Exit code 1 is normal. Not restarting iot-server.\n",
            "Starting gunicorn 19.9.0\n",
            "Listening at: http://127.0.0.1:31311 (65)\n",
            "Using worker: sync\n",
            "worker timeout is set to 300\n",
            "Booting worker with pid: 90\n",
            "SPARK_HOME not set. Skipping PySpark Initialization.\n",
            "Generating new fontManager, this may take some time...\n",
            "Initializing logger\n",
            "2021-04-20 00:09:09,542 | root | INFO | Starting up app insights client\n",
            "2021-04-20 00:09:09,613 | root | INFO | Starting up request id generator\n",
            "2021-04-20 00:09:09,613 | root | INFO | Starting up app insight hooks\n",
            "2021-04-20 00:09:09,613 | root | INFO | Invoking user's init function\n",
            "2021-04-20 00:09:40,913 | azureml.core | WARNING | Failure while loading azureml_run_type_providers. Failed to load entrypoint automl = azureml.train.automl.run:AutoMLRun._from_run_dto with exception cannot import name 'RunType'.\n",
            "Failure while loading azureml_run_type_providers. Failed to load entrypoint automl = azureml.train.automl.run:AutoMLRun._from_run_dto with exception cannot import name 'RunType'.\n",
            "2021-04-20 00:09:45,731 | root | INFO | Users's init has completed successfully\n",
            "2021-04-20 00:09:45,742 | root | INFO | Skipping middleware: dbg_model_info as it's not enabled.\n",
            "2021-04-20 00:09:45,833 | root | INFO | Skipping middleware: dbg_resource_usage as it's not enabled.\n",
            "2021-04-20 00:09:45,842 | root | INFO | Scoring timeout is found from os.environ: 60000 ms\n",
            "2021-04-20 00:09:51,406 | root | INFO | 200\n",
            "127.0.0.1 - - [20/Apr/2021:00:09:51 +0000] \"GET /swagger.json HTTP/1.0\" 200 2623 \"-\" \"Go-http-client/1.1\"\n",
            "\n"
          ]
        }
      ],
      "execution_count": 15,
      "metadata": {
        "jupyter": {
          "outputs_hidden": false,
          "source_hidden": false
        },
        "nteract": {
          "transient": {
            "deleting": false
          }
        },
        "gather": {
          "logged": 1618877422832
        }
      }
    }
  ],
  "metadata": {
    "kernel_info": {
      "name": "python3"
    },
    "kernelspec": {
      "name": "python3",
      "language": "python",
      "display_name": "Python 3"
    },
    "language_info": {
      "name": "python",
      "version": "3.6.9",
      "mimetype": "text/x-python",
      "codemirror_mode": {
        "name": "ipython",
        "version": 3
      },
      "pygments_lexer": "ipython3",
      "nbconvert_exporter": "python",
      "file_extension": ".py"
    },
    "nteract": {
      "version": "nteract-front-end@1.0.0"
    },
    "microsoft": {
      "host": {
        "AzureML": {
          "notebookHasBeenCompleted": true
        }
      }
    }
  },
  "nbformat": 4,
  "nbformat_minor": 2
}